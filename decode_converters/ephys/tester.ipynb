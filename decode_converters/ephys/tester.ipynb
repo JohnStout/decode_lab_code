{
 "cells": [
  {
   "cell_type": "code",
   "execution_count": 1,
   "metadata": {},
   "outputs": [
    {
     "ename": "ModuleNotFoundError",
     "evalue": "No module named 'decode_converters'",
     "output_type": "error",
     "traceback": [
      "\u001b[0;31m---------------------------------------------------------------------------\u001b[0m",
      "\u001b[0;31mModuleNotFoundError\u001b[0m                       Traceback (most recent call last)",
      "Cell \u001b[0;32mIn[1], line 2\u001b[0m\n\u001b[1;32m      1\u001b[0m \u001b[39m# This package is for reading nwb data easily\u001b[39;00m\n\u001b[0;32m----> 2\u001b[0m \u001b[39mfrom\u001b[39;00m \u001b[39mdecode_converters\u001b[39;00m\u001b[39m.\u001b[39;00m\u001b[39mephys\u001b[39;00m\u001b[39m.\u001b[39;00m\u001b[39mnlx2nwb\u001b[39;00m \u001b[39mimport\u001b[39;00m interfaceNLX\n\u001b[1;32m      4\u001b[0m \u001b[39m# read or write?\u001b[39;00m\n\u001b[1;32m      5\u001b[0m dataCommand \u001b[39m=\u001b[39m \u001b[39m'\u001b[39m\u001b[39mread\u001b[39m\u001b[39m'\u001b[39m\n",
      "\u001b[0;31mModuleNotFoundError\u001b[0m: No module named 'decode_converters'"
     ]
    }
   ],
   "source": [
    "# This package is for reading nwb data easily\n",
    "from decode_converters.ephys.nlx2nwb import interfaceNLX\n",
    "\n",
    "# read or write?\n",
    "dataCommand = 'read'\n",
    "\n",
    "# lets get our path with data\n",
    "folder_name = '/Users/js0403/Sample-data'\n",
    "\n",
    "# pull in data\n",
    "if dataCommand == 'read':\n",
    "    print(\"reading nwb data\")\n",
    "    data_nwb = interfaceNLX.readNWB(folder_name,'data_nwb')\n",
    "elif dataCommand == 'write':\n",
    "    # write data\n",
    "    print(\"Writing data...\")\n",
    "    interfaceNLX.writeNWB(fileName='data_nwb')\n",
    "    print(\"Reading data...\")\n",
    "    data_nwb = interfaceNLX.readNWB(folder_name,'data_nwb')\n",
    "\n",
    "from nwbwidgets import nwb2widget\n",
    "nwb2widget(data_nwb)"
   ]
  },
  {
   "cell_type": "code",
   "execution_count": null,
   "metadata": {},
   "outputs": [],
   "source": []
  }
 ],
 "metadata": {
  "kernelspec": {
   "display_name": "neuroconv_environment",
   "language": "python",
   "name": "python3"
  },
  "language_info": {
   "codemirror_mode": {
    "name": "ipython",
    "version": 3
   },
   "file_extension": ".py",
   "mimetype": "text/x-python",
   "name": "python",
   "nbconvert_exporter": "python",
   "pygments_lexer": "ipython3",
   "version": "3.11.4"
  },
  "orig_nbformat": 4
 },
 "nbformat": 4,
 "nbformat_minor": 2
}
