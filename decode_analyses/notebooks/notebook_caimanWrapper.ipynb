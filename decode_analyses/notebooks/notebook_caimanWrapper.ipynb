{
 "cells": [
  {
   "cell_type": "markdown",
   "metadata": {},
   "source": [
    "### CaImAn toolbox wrapper functions\n",
    "first, we will import the wrapper, caiman_process. In order to link caiman with our labs toolbox, we must first `pip install -e .`"
   ]
  },
  {
   "cell_type": "code",
   "execution_count": 1,
   "metadata": {},
   "outputs": [],
   "source": [
    "from decode_lab_code.preprocessing.ophys.preprocessCaiman import caiman_process"
   ]
  },
  {
   "cell_type": "markdown",
   "metadata": {},
   "source": [
    "### caiman_process - a wrapper object to support caiman analysis\n",
    "Next, we will assign the object `caiman_process` to cp in order to interface with the caiman pipeline"
   ]
  },
  {
   "cell_type": "code",
   "execution_count": 5,
   "metadata": {},
   "outputs": [
    {
     "name": "stderr",
     "output_type": "stream",
     "text": [
      "100%|██████████| 1/1 [00:00<00:00,  7.18it/s]\n"
     ]
    }
   ],
   "source": [
    "# directory information\n",
    "folder_name = '/Users/js0403/ophysdata/Trevor_750K2_200ms_RedGreen_depolar002'\n",
    "fname_neuron = 'rec_neuron.tif'\n",
    "frame_rate = 10\n",
    "cp = caiman_process(folder_name,fname_neuron,frame_rate)"
   ]
  },
  {
   "cell_type": "markdown",
   "metadata": {},
   "source": [
    "Now, our object, `cp` is populated with nearly everything that we need for smooth caiman analysis"
   ]
  },
  {
   "cell_type": "code",
   "execution_count": 6,
   "metadata": {},
   "outputs": [],
   "source": [
    "cp.watch_movie()"
   ]
  },
  {
   "cell_type": "code",
   "execution_count": null,
   "metadata": {},
   "outputs": [],
   "source": []
  }
 ],
 "metadata": {
  "kernelspec": {
   "display_name": "caiman",
   "language": "python",
   "name": "python3"
  },
  "language_info": {
   "codemirror_mode": {
    "name": "ipython",
    "version": 3
   },
   "file_extension": ".py",
   "mimetype": "text/x-python",
   "name": "python",
   "nbconvert_exporter": "python",
   "pygments_lexer": "ipython3",
   "version": "3.10.12"
  },
  "orig_nbformat": 4
 },
 "nbformat": 4,
 "nbformat_minor": 2
}
