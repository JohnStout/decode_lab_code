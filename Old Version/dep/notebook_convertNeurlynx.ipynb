{
 "cells": [
  {
   "cell_type": "markdown",
   "metadata": {},
   "source": [
    "### Convert neuralynx data to nwb format using neuroconv\n",
    "\n",
    "Using \n",
    "https://pypi.org/project/nwb-conversion-tools/\n",
    "\n",
    "rather than, \n",
    "\n",
    "https://neuroconv.readthedocs.io/en/main/index.html\n",
    "\n",
    "Make sure that in the upper right hand corner you activate the neuroconv env\n",
    "\n",
    "OR\n",
    "\n",
    "enter: `#!/path/to/project/venv/bin/python` in your header\n"
   ]
  },
  {
   "cell_type": "code",
   "execution_count": 2,
   "metadata": {},
   "outputs": [],
   "source": [
    "# get some packages\n",
    "from datetime import datetime\n",
    "from dateutil import tz\n",
    "from pathlib import Path\n",
    "from neuroconv.datainterfaces import NeuralynxRecordingInterface\n"
   ]
  },
  {
   "cell_type": "code",
   "execution_count": null,
   "metadata": {},
   "outputs": [],
   "source": [
    "# For this data interface we need to pass the folder where the data is\n",
    "folder_path = f\"/Volumes/decode/John/ephys/2022-09-20_17-13-10-21eB-L3-Veh4-seconddrive-allcells\""
   ]
  },
  {
   "cell_type": "code",
   "execution_count": 3,
   "metadata": {},
   "outputs": [
    {
     "ename": "ModuleNotFoundError",
     "evalue": "No module named 'spikeinterface'",
     "output_type": "error",
     "traceback": [
      "\u001b[0;31m---------------------------------------------------------------------------\u001b[0m",
      "\u001b[0;31mModuleNotFoundError\u001b[0m                       Traceback (most recent call last)",
      "Cell \u001b[0;32mIn[3], line 4\u001b[0m\n\u001b[1;32m      2\u001b[0m folder_path \u001b[39m=\u001b[39m \u001b[39mf\u001b[39m\u001b[39m\"\u001b[39m\u001b[39m/Volumes/decode/John/ephys/2022-09-20_17-13-10-21eB-L3-Veh4-seconddrive-allcells\u001b[39m\u001b[39m\"\u001b[39m\n\u001b[1;32m      3\u001b[0m \u001b[39m# Change the folder_path to the appropriate location in your system\u001b[39;00m\n\u001b[0;32m----> 4\u001b[0m interface \u001b[39m=\u001b[39m NeuralynxRecordingInterface(folder_path\u001b[39m=\u001b[39;49mfolder_path, verbose\u001b[39m=\u001b[39;49m\u001b[39mFalse\u001b[39;49;00m)\n",
      "File \u001b[0;32m~/neuroconv/src/neuroconv/datainterfaces/ecephys/neuralynx/neuralynxdatainterface.py:43\u001b[0m, in \u001b[0;36mNeuralynxRecordingInterface.__init__\u001b[0;34m(self, folder_path, stream_name, verbose, es_key)\u001b[0m\n\u001b[1;32m     23\u001b[0m \u001b[39mdef\u001b[39;00m \u001b[39m__init__\u001b[39m(\n\u001b[1;32m     24\u001b[0m     \u001b[39mself\u001b[39m,\n\u001b[1;32m     25\u001b[0m     folder_path: FolderPathType,\n\u001b[0;32m   (...)\u001b[0m\n\u001b[1;32m     28\u001b[0m     es_key: \u001b[39mstr\u001b[39m \u001b[39m=\u001b[39m \u001b[39m\"\u001b[39m\u001b[39mElectricalSeries\u001b[39m\u001b[39m\"\u001b[39m,\n\u001b[1;32m     29\u001b[0m ):\n\u001b[1;32m     30\u001b[0m \u001b[39m    \u001b[39m\u001b[39m\"\"\"\u001b[39;00m\n\u001b[1;32m     31\u001b[0m \u001b[39m    Initialize reading of OpenEphys binary recording.\u001b[39;00m\n\u001b[1;32m     32\u001b[0m \n\u001b[0;32m   (...)\u001b[0m\n\u001b[1;32m     41\u001b[0m \u001b[39m    es_key : str, default: \"ElectricalSeries\"\u001b[39;00m\n\u001b[1;32m     42\u001b[0m \u001b[39m    \"\"\"\u001b[39;00m\n\u001b[0;32m---> 43\u001b[0m     \u001b[39msuper\u001b[39;49m()\u001b[39m.\u001b[39;49m\u001b[39m__init__\u001b[39;49m(\n\u001b[1;32m     44\u001b[0m         folder_path\u001b[39m=\u001b[39;49mfolder_path, stream_name\u001b[39m=\u001b[39;49mstream_name, verbose\u001b[39m=\u001b[39;49mverbose, all_annotations\u001b[39m=\u001b[39;49m\u001b[39mTrue\u001b[39;49;00m, es_key\u001b[39m=\u001b[39;49mes_key\n\u001b[1;32m     45\u001b[0m     )\n\u001b[1;32m     47\u001b[0m     \u001b[39m# convert properties of object dtype (e.g. datetime) and bool as these are not supported by nwb\u001b[39;00m\n\u001b[1;32m     48\u001b[0m     \u001b[39mfor\u001b[39;00m key \u001b[39min\u001b[39;00m \u001b[39mself\u001b[39m\u001b[39m.\u001b[39mrecording_extractor\u001b[39m.\u001b[39mget_property_keys():\n",
      "File \u001b[0;32m~/neuroconv/src/neuroconv/datainterfaces/ecephys/baserecordingextractorinterface.py:32\u001b[0m, in \u001b[0;36mBaseRecordingExtractorInterface.__init__\u001b[0;34m(self, verbose, es_key, **source_data)\u001b[0m\n\u001b[1;32m     20\u001b[0m \u001b[39m\u001b[39m\u001b[39m\"\"\"\u001b[39;00m\n\u001b[1;32m     21\u001b[0m \u001b[39mParameters\u001b[39;00m\n\u001b[1;32m     22\u001b[0m \u001b[39m----------\u001b[39;00m\n\u001b[0;32m   (...)\u001b[0m\n\u001b[1;32m     29\u001b[0m \n\u001b[1;32m     30\u001b[0m \u001b[39m\"\"\"\u001b[39;00m\n\u001b[1;32m     31\u001b[0m \u001b[39msuper\u001b[39m()\u001b[39m.\u001b[39m\u001b[39m__init__\u001b[39m(\u001b[39m*\u001b[39m\u001b[39m*\u001b[39msource_data)\n\u001b[0;32m---> 32\u001b[0m \u001b[39mself\u001b[39m\u001b[39m.\u001b[39mrecording_extractor \u001b[39m=\u001b[39m \u001b[39mself\u001b[39;49m\u001b[39m.\u001b[39;49mget_extractor()(\u001b[39m*\u001b[39m\u001b[39m*\u001b[39msource_data)\n\u001b[1;32m     33\u001b[0m \u001b[39mself\u001b[39m\u001b[39m.\u001b[39msubset_channels \u001b[39m=\u001b[39m \u001b[39mNone\u001b[39;00m\n\u001b[1;32m     34\u001b[0m \u001b[39mself\u001b[39m\u001b[39m.\u001b[39mverbose \u001b[39m=\u001b[39m verbose\n",
      "File \u001b[0;32m~/neuroconv/src/neuroconv/baseextractorinterface.py:24\u001b[0m, in \u001b[0;36mBaseExtractorInterface.get_extractor\u001b[0;34m(cls)\u001b[0m\n\u001b[1;32m     22\u001b[0m \u001b[39mif\u001b[39;00m \u001b[39mcls\u001b[39m\u001b[39m.\u001b[39mExtractor \u001b[39mis\u001b[39;00m \u001b[39mnot\u001b[39;00m \u001b[39mNone\u001b[39;00m:\n\u001b[1;32m     23\u001b[0m     \u001b[39mreturn\u001b[39;00m \u001b[39mcls\u001b[39m\u001b[39m.\u001b[39mExtractor\n\u001b[0;32m---> 24\u001b[0m extractor_module \u001b[39m=\u001b[39m get_package(package_name\u001b[39m=\u001b[39;49m\u001b[39mcls\u001b[39;49m\u001b[39m.\u001b[39;49mExtractorModuleName)\n\u001b[1;32m     25\u001b[0m extractor \u001b[39m=\u001b[39m \u001b[39mgetattr\u001b[39m(\n\u001b[1;32m     26\u001b[0m     extractor_module,\n\u001b[1;32m     27\u001b[0m     \u001b[39mcls\u001b[39m\u001b[39m.\u001b[39mExtractorName \u001b[39mor\u001b[39;00m \u001b[39mcls\u001b[39m\u001b[39m.\u001b[39m\u001b[39m__name__\u001b[39m\u001b[39m.\u001b[39mreplace(\u001b[39m\"\u001b[39m\u001b[39mInterface\u001b[39m\u001b[39m\"\u001b[39m, \u001b[39m\"\u001b[39m\u001b[39mExtractor\u001b[39m\u001b[39m\"\u001b[39m),\n\u001b[1;32m     28\u001b[0m )\n\u001b[1;32m     29\u001b[0m \u001b[39mcls\u001b[39m\u001b[39m.\u001b[39mExtractor \u001b[39m=\u001b[39m extractor\n",
      "File \u001b[0;32m~/neuroconv/src/neuroconv/tools/importing.py:83\u001b[0m, in \u001b[0;36mget_package\u001b[0;34m(package_name, installation_instructions, excluded_python_versions, excluded_platforms_and_python_versions)\u001b[0m\n\u001b[1;32m     80\u001b[0m \u001b[39mif\u001b[39;00m package_name \u001b[39min\u001b[39;00m sys\u001b[39m.\u001b[39mmodules:\n\u001b[1;32m     81\u001b[0m     \u001b[39mreturn\u001b[39;00m sys\u001b[39m.\u001b[39mmodules[package_name]\n\u001b[0;32m---> 83\u001b[0m \u001b[39mif\u001b[39;00m importlib\u001b[39m.\u001b[39;49mutil\u001b[39m.\u001b[39;49mfind_spec(package_name) \u001b[39mis\u001b[39;00m \u001b[39mnot\u001b[39;00m \u001b[39mNone\u001b[39;00m:\n\u001b[1;32m     84\u001b[0m     \u001b[39mreturn\u001b[39;00m importlib\u001b[39m.\u001b[39mimport_module(name\u001b[39m=\u001b[39mpackage_name)\n\u001b[1;32m     86\u001b[0m \u001b[39mraise\u001b[39;00m \u001b[39mModuleNotFoundError\u001b[39;00m(\n\u001b[1;32m     87\u001b[0m     \u001b[39mf\u001b[39m\u001b[39m\"\u001b[39m\u001b[39m\\n\u001b[39;00m\u001b[39mThe required package\u001b[39m\u001b[39m'\u001b[39m\u001b[39m{\u001b[39;00mpackage_name\u001b[39m}\u001b[39;00m\u001b[39m'\u001b[39m\u001b[39m is not installed!\u001b[39m\u001b[39m\\n\u001b[39;00m\u001b[39m\"\u001b[39m\n\u001b[1;32m     88\u001b[0m     \u001b[39mf\u001b[39m\u001b[39m\"\u001b[39m\u001b[39mTo install this package, please run\u001b[39m\u001b[39m\\n\u001b[39;00m\u001b[39m\\n\u001b[39;00m\u001b[39m\\t\u001b[39;00m\u001b[39m{\u001b[39;00minstallation_instructions\u001b[39m}\u001b[39;00m\u001b[39m\\n\u001b[39;00m\u001b[39m\"\u001b[39m\n\u001b[1;32m     89\u001b[0m )\n",
      "File \u001b[0;32m<frozen importlib.util>:94\u001b[0m, in \u001b[0;36mfind_spec\u001b[0;34m(name, package)\u001b[0m\n",
      "\u001b[0;31mModuleNotFoundError\u001b[0m: No module named 'spikeinterface'"
     ]
    }
   ],
   "source": [
    "# Change the folder_path to the appropriate location in your system\n",
    "interface = NeuralynxRecordingInterface(folder_path=folder_path, verbose=False)"
   ]
  },
  {
   "cell_type": "code",
   "execution_count": null,
   "metadata": {},
   "outputs": [],
   "source": []
  }
 ],
 "metadata": {
  "kernelspec": {
   "display_name": "neuroconv_environment",
   "language": "python",
   "name": "python3"
  },
  "language_info": {
   "codemirror_mode": {
    "name": "ipython",
    "version": 3
   },
   "file_extension": ".py",
   "mimetype": "text/x-python",
   "name": "python",
   "nbconvert_exporter": "python",
   "pygments_lexer": "ipython3",
   "version": "3.11.4"
  },
  "orig_nbformat": 4
 },
 "nbformat": 4,
 "nbformat_minor": 2
}
