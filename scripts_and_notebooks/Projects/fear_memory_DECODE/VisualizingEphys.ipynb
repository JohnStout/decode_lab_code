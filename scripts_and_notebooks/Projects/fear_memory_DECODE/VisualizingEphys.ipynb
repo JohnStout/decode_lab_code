{
 "cells": [
  {
   "cell_type": "markdown",
   "metadata": {},
   "source": [
    "### Visualizing ephys data and saving out nwb files\n",
    "Using the NeuroConv environment bc I changed a method in neo"
   ]
  },
  {
   "cell_type": "code",
   "execution_count": null,
   "metadata": {},
   "outputs": [],
   "source": [
    "from decode_lab_code.wrangle import nwbtools\n",
    "from decode_lab_code.preprocessing import signal_utils\n",
    "import matplotlib.pyplot as plt\n",
    "import numpy as np"
   ]
  },
  {
   "cell_type": "markdown",
   "metadata": {},
   "source": [
    "### Instantiate the read_nlx object in the converters file\n",
    "First we need to define our directory for data (\"folder_path\")\n",
    "Next, we can instantiate the read_nlx object for the purposes of working with and loading our data\n"
   ]
  },
  {
   "cell_type": "code",
   "execution_count": null,
   "metadata": {},
   "outputs": [],
   "source": [
    "#folder_path = '/Users/js0403/local data/2021-03-31_08-59-02 16eB R1 10min rec after sec drive cells on 2 and 3 - Control'\n",
    "folder_path = '/Users/js0403/local data/2020-06-26_16-56-10 9&10eb male ACTH ELS'\n",
    "data_object = nwbtools.read_nlx(folder_path)"
   ]
  },
  {
   "cell_type": "markdown",
   "metadata": {},
   "source": [
    "##### Now we can read our ephys data\n",
    "If clusters are detected, the code will report to user"
   ]
  },
  {
   "cell_type": "code",
   "execution_count": null,
   "metadata": {},
   "outputs": [],
   "source": [
    "data_object.read_ephys()"
   ]
  },
  {
   "cell_type": "markdown",
   "metadata": {},
   "source": [
    "##### Read the history attribute to see your variables\n",
    "history reports on available attributes (which can typically be seen by adding a period next to your object), followed by a description as such\n",
    "\n",
    "folder_path (attribute name): directory of the dataset (definition)"
   ]
  },
  {
   "cell_type": "code",
   "execution_count": null,
   "metadata": {},
   "outputs": [],
   "source": [
    "data_object.history"
   ]
  },
  {
   "cell_type": "markdown",
   "metadata": {},
   "source": [
    "### Using the .history attribute, lets access some data\n",
    ".tt_data is described in .history above\n",
    "\n",
    "We can also access the dictionary keys to see what options are available"
   ]
  },
  {
   "cell_type": "code",
   "execution_count": null,
   "metadata": {},
   "outputs": [],
   "source": [
    "print(\"here are the csc names:\",data_object.csc_data_names)\n",
    "print(\"here is how you access the first element:\", data_object.csc_data_names[0])"
   ]
  },
  {
   "cell_type": "markdown",
   "metadata": {},
   "source": [
    "#### Here, we can use ._names to access information from ._data attributes"
   ]
  },
  {
   "cell_type": "code",
   "execution_count": null,
   "metadata": {},
   "outputs": [],
   "source": [
    "csc1_signal = data_object.csc_data[data_object.csc_data_names[0]]\n",
    "fs = data_object.csc_data_fs\n",
    "print(\"Here is LFP from\",data_object.csc_data_names[0],csc1_signal)\n",
    "\n",
    "time_x = np.linspace(0,1,fs)\n",
    "plt.plot(time_x[0:fs],csc1_signal[0:fs])\n",
    "plt.title(\"Example signal obtained from the read_nlx class\")"
   ]
  },
  {
   "cell_type": "markdown",
   "metadata": {},
   "source": [
    "#### The process_signal class can perform operations on LFP signals, but also let us visualize data quickly\n",
    "Here is an example of rereferencing"
   ]
  },
  {
   "cell_type": "code",
   "execution_count": null,
   "metadata": {},
   "outputs": [],
   "source": [
    "sig = signal_utils.process_signal(data_object.csc_data, fs = fs)\n",
    "sig.rereference()"
   ]
  },
  {
   "cell_type": "markdown",
   "metadata": {},
   "source": [
    "### The signal_utils file contains helper functions for plotting\n",
    "This should probably be its own class or file"
   ]
  },
  {
   "cell_type": "code",
   "execution_count": null,
   "metadata": {},
   "outputs": [],
   "source": [
    "colors = ['k','k','k','k','r','r','r','r','b','b','b','b','m','m','m','m']\n",
    "signal_utils.multi_plotter(data = sig.signal_rereferenced, fs=fs, time_range = [1, 1.5], color = colors)"
   ]
  },
  {
   "cell_type": "markdown",
   "metadata": {},
   "source": [
    "### Now lets use the nwb_utils object to store this data and save out as an NWB file\n",
    "I'm also going to add an nwb2nlx function that reads the NWB file, then organizes the LFP and spiking data back into dictionaries, which can be run through signal_utils\n",
    "\n",
    "Signal_utils will also use pynapple for analysis"
   ]
  },
  {
   "cell_type": "markdown",
   "metadata": {},
   "source": [
    "### Using the signal_utils objects"
   ]
  },
  {
   "cell_type": "code",
   "execution_count": null,
   "metadata": {},
   "outputs": [],
   "source": [
    "# TODO: implement signal_utils\n",
    "\n",
    "# run a filter\n",
    "sig.butterworth_filter(lowcut = 4, highcut = 12, fs = 32000)\n",
    "\n",
    "# rereference and plot new results\n",
    "sig.rereference(rereference_mode = 'CAR')\n",
    "sig.butterworth_filter(data = sig.signal_rereferenced,lowcut = 4,highcut = 12,fs = 32000)\n",
    "\n",
    "plt.subplot(3,1,1)\n",
    "plt.plot(sig.data['TT1a.ncs'][0:32000],'k',linewidth=1)\n",
    "plt.plot(sig.signal_filtered['TT1a.ncs'][0:32000],'r',linewidth=2)\n",
    "plt.subplot(3,1,2)\n",
    "plt.plot(sig.signal_rereferenced['TT1a.ncs'][0:32000],'k',linewidth=1)\n",
    "plt.plot(sig.signal_filtered['TT1a.ncs'][0:32000],'r',linewidth=2)\n",
    "plt.subplot(3,1,3)\n",
    "plt.plot(sig.data['TT1a.ncs'][0:32000],'k',linewidth=1)\n",
    "plt.plot(sig.signal_rereferenced['TT1a.ncs'][0:32000],'r',linewidth=1)\n",
    "    "
   ]
  },
  {
   "cell_type": "markdown",
   "metadata": {},
   "source": [
    "### Between signal correlation"
   ]
  },
  {
   "cell_type": "code",
   "execution_count": null,
   "metadata": {},
   "outputs": [],
   "source": [
    "#%\n",
    "# testing correlation after signal rereferencing\n",
    "import pandas as pd\n",
    "import matplotlib.pyplot as plt\n",
    "import os\n",
    "\n",
    "data_pd = pd.DataFrame.from_dict(sig.data)\n",
    "data_pd_ref = pd.DataFrame.from_dict(sig.signal_rereferenced)\n",
    "\n",
    "# pairwise correlation\n",
    "data_cor = pd.DataFrame.corr(self=data_pd, method = 'pearson', min_periods=1, numeric_only = False)\n",
    "data_cor_reref = pd.DataFrame.corr(self=data_pd_ref, method = 'pearson', min_periods=1, numeric_only = False)\n",
    "\n",
    "fig, (ax1,ax2) = plt.subplots(nrows=1,ncols=2)\n",
    "pos1 = ax1.imshow(data_cor)\n",
    "ax1.set_xticks(range(len(data_cor)), data_cor.columns, rotation='vertical')\n",
    "ax1.set_yticks(range(len(data_cor)), data_cor.index)\n",
    "#ax1.yaxis('off')\n",
    "fig.colorbar(pos1, ax=ax1, shrink=0.5)\n",
    "\n",
    "pos2 = ax2.imshow(data_cor_reref)\n",
    "ax2.set_xticks(range(len(data_cor)), data_cor.columns, rotation='vertical')\n",
    "ax2.set_yticks(range(len(data_cor)), data_cor.index, color='w')\n",
    "fig.colorbar(pos2, ax=ax2, shrink=0.5)\n",
    "fig.savefig(folder_path, format='eps')"
   ]
  }
 ],
 "metadata": {
  "kernelspec": {
   "display_name": "neuroconv",
   "language": "python",
   "name": "python3"
  },
  "language_info": {
   "codemirror_mode": {
    "name": "ipython",
    "version": 3
   },
   "file_extension": ".py",
   "mimetype": "text/x-python",
   "name": "python",
   "nbconvert_exporter": "python",
   "pygments_lexer": "ipython3",
   "version": "3.11.0"
  },
  "orig_nbformat": 4
 },
 "nbformat": 4,
 "nbformat_minor": 2
}
