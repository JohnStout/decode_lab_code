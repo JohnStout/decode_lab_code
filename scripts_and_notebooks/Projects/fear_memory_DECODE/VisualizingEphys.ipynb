{
 "cells": [
  {
   "cell_type": "markdown",
   "metadata": {},
   "source": [
    "### Initialize\n",
    "Using the NeuroConv environment bc I changed a method in neo"
   ]
  },
  {
   "cell_type": "code",
   "execution_count": 1,
   "metadata": {},
   "outputs": [
    {
     "name": "stdout",
     "output_type": "stream",
     "text": [
      "Cite NWB\n",
      "Cite CatalystNeuro: NeuroConv toolbox if converting Neuralynx data\n"
     ]
    }
   ],
   "source": [
    "from decode_lab_code.utils import converters\n",
    "from decode_lab_code.utils import signal_utils\n",
    "import matplotlib.pyplot as plt"
   ]
  },
  {
   "cell_type": "markdown",
   "metadata": {},
   "source": [
    "### Instantiate the read_nlx object in the converters file\n"
   ]
  },
  {
   "cell_type": "code",
   "execution_count": 2,
   "metadata": {},
   "outputs": [],
   "source": [
    "#folder_path = '/Users/js0403/local data/2021-03-31_08-59-02 16eB R1 10min rec after sec drive cells on 2 and 3 - Control'\n",
    "folder_path = '/Users/js0403/local data/2020-06-26_16-56-10 9&10eb male ACTH ELS'\n",
    "data_object = converters.read_nlx(folder_path)"
   ]
  },
  {
   "cell_type": "markdown",
   "metadata": {},
   "source": [
    "### Using the read_nlx object (data_object), now lets pass the read_ephys argument"
   ]
  },
  {
   "cell_type": "code",
   "execution_count": 3,
   "metadata": {},
   "outputs": [
    {
     "name": "stdout",
     "output_type": "stream",
     "text": [
      "Cite Neo https://github.com/NeuralEnsemble/python-neo/blob/master/CITATION.txt\n",
      "Working with CSC\n",
      "Working with TT\n",
      "Detected clustered data in TT1_FILTERED_clustered.ntt\n",
      "Detected clustered data in TT3_FILTERED_Clustered.ntt\n",
      "Detected clustered data in TT4_FILTERED_Clustered.ntt\n"
     ]
    }
   ],
   "source": [
    "data_object.read_ephys()"
   ]
  },
  {
   "cell_type": "markdown",
   "metadata": {},
   "source": [
    "### Read the history attribute to see your variables"
   ]
  },
  {
   "cell_type": "code",
   "execution_count": 4,
   "metadata": {},
   "outputs": [
    {
     "data": {
      "text/plain": [
       "['folder_path: directory of data - added',\n",
       " 'session_id: session identification variables - added',\n",
       " 'dir_contents: the contents in the current directory - added',\n",
       " 'csc_data: CSC data as grouped by ext .ncs',\n",
       " 'csc_data_names: names of data in csc_data as organized by .ncs files',\n",
       " 'tt_data: Tetrode data as grouped by ext .ntt',\n",
       " 'tt_data_names: names of data in tt_data as organized by .ntt files']"
      ]
     },
     "execution_count": 4,
     "metadata": {},
     "output_type": "execute_result"
    }
   ],
   "source": [
    "data_object.history"
   ]
  },
  {
   "cell_type": "markdown",
   "metadata": {},
   "source": [
    "### Access data and plot some stuff"
   ]
  },
  {
   "cell_type": "code",
   "execution_count": 5,
   "metadata": {},
   "outputs": [
    {
     "data": {
      "text/plain": [
       "{'cluster1spiketimes': array([8145.957584, 8147.153709, 8147.305834, ..., 9420.416365,\n",
       "        9421.38324 , 9421.745146]),\n",
       " 'cluster2spiketimes': array([8146.435334, 8148.589552, 8155.000802, 8166.611646, 8169.533896,\n",
       "        8174.472302, 8176.555209, 8177.638427, 8187.963521, 8197.579834,\n",
       "        8197.746396, 8211.583302, 8231.147959, 8236.421459, 8236.468052,\n",
       "        8243.584896, 8250.692552, 8252.249865, 8257.492584, 8259.355865,\n",
       "        8282.184084, 8285.815302, 8288.601802, 8294.553959, 8301.116646,\n",
       "        8301.323334, 8314.790302, 8319.477271, 8330.650084, 8331.961677,\n",
       "        8334.050615, 8339.67449 , 8353.090396, 8353.227927, 8360.826615,\n",
       "        8372.441865, 8385.070052, 8385.609396, 8388.479896, 8399.125834,\n",
       "        8399.335021, 8403.912177, 8410.466115, 8414.84424 , 8421.789052,\n",
       "        8427.891677, 8429.902427, 8440.508115, 8444.482084, 8453.358209,\n",
       "        8456.663865, 8465.279802, 8474.850302, 8498.70224 , 8500.746209,\n",
       "        8537.692927, 8550.917302, 8583.091021, 8589.427115, 8614.058865,\n",
       "        8620.47649 , 8629.500584, 8655.722584, 8676.804459, 8680.929959,\n",
       "        8685.366584, 8697.278646, 8702.964302, 8729.284302, 8786.950459,\n",
       "        8822.443709, 8833.729677, 8854.824615, 8857.281646, 8882.861709,\n",
       "        8926.91049 , 8931.753271, 8937.898115, 8947.593271, 8960.052052,\n",
       "        8984.932552, 9057.484865, 9067.030271, 9097.810959, 9116.180646,\n",
       "        9128.807771, 9147.564771, 9180.67549 , 9194.268615, 9196.687115,\n",
       "        9224.932209, 9253.402115, 9298.711427, 9341.91249 , 9351.276302,\n",
       "        9358.291865, 9373.450771, 9390.117802])}"
      ]
     },
     "execution_count": 5,
     "metadata": {},
     "output_type": "execute_result"
    }
   ],
   "source": [
    "data_object.tt_data['TT1_FILTERED_clustered.ntt']"
   ]
  },
  {
   "cell_type": "markdown",
   "metadata": {},
   "source": [
    "### Use the process_signal object to rereference"
   ]
  },
  {
   "cell_type": "code",
   "execution_count": 7,
   "metadata": {},
   "outputs": [],
   "source": [
    "sig = signal_utils.process_signal(data_object.csc_data, fs = 32000)\n",
    "sig.rereference()"
   ]
  },
  {
   "cell_type": "markdown",
   "metadata": {},
   "source": [
    "### Plot example traces"
   ]
  },
  {
   "cell_type": "code",
   "execution_count": 8,
   "metadata": {},
   "outputs": [
    {
     "data": {
      "text/plain": [
       "<decode_lab_code.utils.signal_utils.plot_signal at 0x2af99fad0>"
      ]
     },
     "execution_count": 8,
     "metadata": {},
     "output_type": "execute_result"
    }
   ],
   "source": [
    "signal_utils.plot_signal(sig.signal_rereferenced, 32000)"
   ]
  },
  {
   "cell_type": "code",
   "execution_count": null,
   "metadata": {},
   "outputs": [],
   "source": [
    "fig, axes = plt.subplots(nrows=len(sig.data),ncols=1)\n",
    "key_names = list(sig.data.keys())\n",
    "for i in range(len(sig.data)):\n",
    "    axes[i].plot(sig.data[key_names[i]][0:32000],'k',linewidth=1)\n"
   ]
  },
  {
   "cell_type": "markdown",
   "metadata": {},
   "source": [
    "### Using the signal_utils objects"
   ]
  },
  {
   "cell_type": "code",
   "execution_count": null,
   "metadata": {},
   "outputs": [],
   "source": [
    "# TODO: implement signal_utils\n",
    "\n",
    "# run a filter\n",
    "sig.butterworth_filter(lowcut = 4, highcut = 12, fs = 32000)\n",
    "\n",
    "# rereference and plot new results\n",
    "sig.rereference(rereference_mode = 'CAR')\n",
    "sig.butterworth_filter(data = sig.signal_rereferenced,lowcut = 4,highcut = 12,fs = 32000)\n",
    "\n",
    "plt.subplot(3,1,1)\n",
    "plt.plot(sig.data['TT1a.ncs'][0:32000],'k',linewidth=1)\n",
    "plt.plot(sig.signal_filtered['TT1a.ncs'][0:32000],'r',linewidth=2)\n",
    "plt.subplot(3,1,2)\n",
    "plt.plot(sig.signal_rereferenced['TT1a.ncs'][0:32000],'k',linewidth=1)\n",
    "plt.plot(sig.signal_filtered['TT1a.ncs'][0:32000],'r',linewidth=2)\n",
    "plt.subplot(3,1,3)\n",
    "plt.plot(sig.data['TT1a.ncs'][0:32000],'k',linewidth=1)\n",
    "plt.plot(sig.signal_rereferenced['TT1a.ncs'][0:32000],'r',linewidth=1)\n",
    "    "
   ]
  },
  {
   "cell_type": "markdown",
   "metadata": {},
   "source": [
    "### Between signal correlation"
   ]
  },
  {
   "cell_type": "code",
   "execution_count": null,
   "metadata": {},
   "outputs": [],
   "source": [
    "#%\n",
    "# testing correlation after signal rereferencing\n",
    "import pandas as pd\n",
    "import matplotlib.pyplot as plt\n",
    "import os\n",
    "\n",
    "data_pd = pd.DataFrame.from_dict(sig.data)\n",
    "data_pd_ref = pd.DataFrame.from_dict(sig.signal_rereferenced)\n",
    "\n",
    "# pairwise correlation\n",
    "data_cor = pd.DataFrame.corr(self=data_pd, method = 'pearson', min_periods=1, numeric_only = False)\n",
    "data_cor_reref = pd.DataFrame.corr(self=data_pd_ref, method = 'pearson', min_periods=1, numeric_only = False)\n",
    "\n",
    "fig, (ax1,ax2) = plt.subplots(nrows=1,ncols=2)\n",
    "pos1 = ax1.imshow(data_cor)\n",
    "ax1.set_xticks(range(len(data_cor)), data_cor.columns, rotation='vertical')\n",
    "ax1.set_yticks(range(len(data_cor)), data_cor.index)\n",
    "#ax1.yaxis('off')\n",
    "fig.colorbar(pos1, ax=ax1, shrink=0.5)\n",
    "\n",
    "pos2 = ax2.imshow(data_cor_reref)\n",
    "ax2.set_xticks(range(len(data_cor)), data_cor.columns, rotation='vertical')\n",
    "ax2.set_yticks(range(len(data_cor)), data_cor.index, color='w')\n",
    "fig.colorbar(pos2, ax=ax2, shrink=0.5)\n",
    "fig.savefig(folder_path, format='eps')"
   ]
  },
  {
   "cell_type": "code",
   "execution_count": null,
   "metadata": {},
   "outputs": [],
   "source": [
    "data_cor_reref"
   ]
  },
  {
   "cell_type": "code",
   "execution_count": null,
   "metadata": {},
   "outputs": [],
   "source": []
  }
 ],
 "metadata": {
  "kernelspec": {
   "display_name": "neuroconv",
   "language": "python",
   "name": "python3"
  },
  "language_info": {
   "codemirror_mode": {
    "name": "ipython",
    "version": 3
   },
   "file_extension": ".py",
   "mimetype": "text/x-python",
   "name": "python",
   "nbconvert_exporter": "python",
   "pygments_lexer": "ipython3",
   "version": "3.11.0"
  },
  "orig_nbformat": 4
 },
 "nbformat": 4,
 "nbformat_minor": 2
}
