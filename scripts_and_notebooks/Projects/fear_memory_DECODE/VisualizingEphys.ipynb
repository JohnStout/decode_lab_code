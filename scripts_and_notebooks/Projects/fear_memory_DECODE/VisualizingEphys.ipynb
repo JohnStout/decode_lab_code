{
 "cells": [
  {
   "cell_type": "markdown",
   "metadata": {},
   "source": [
    "### Initialize\n",
    "Using the NeuroConv environment"
   ]
  },
  {
   "cell_type": "code",
   "execution_count": 1,
   "metadata": {},
   "outputs": [
    {
     "name": "stdout",
     "output_type": "stream",
     "text": [
      "Cite NWB\n",
      "Cite CatalystNeuro: NeuroConv toolbox if converting Neuralynx data\n"
     ]
    }
   ],
   "source": [
    "from decode_lab_code.utils import nwb_utils\n",
    "from decode_lab_code.utils import signal_utils\n",
    "import matplotlib.pyplot as plt"
   ]
  },
  {
   "cell_type": "markdown",
   "metadata": {},
   "source": [
    "### Load in data\n"
   ]
  },
  {
   "cell_type": "code",
   "execution_count": null,
   "metadata": {},
   "outputs": [],
   "source": [
    "folder_path = '/Users/js0403/local data/2021-03-31_08-59-02 16eB R1 10min rec after sec drive cells on 2 and 3 - Control'\n",
    "csc_data, csc_times, tt_csc = nwb_utils.load_decode_nlx(folder_path=folder_path)"
   ]
  },
  {
   "cell_type": "markdown",
   "metadata": {},
   "source": [
    "### Use the process_signal object to rereference"
   ]
  },
  {
   "cell_type": "code",
   "execution_count": null,
   "metadata": {},
   "outputs": [],
   "source": [
    "sig = signal_utils.process_signal(tt_csc)\n",
    "sig.rereference()"
   ]
  },
  {
   "cell_type": "markdown",
   "metadata": {},
   "source": [
    "### Plot example traces"
   ]
  },
  {
   "cell_type": "code",
   "execution_count": null,
   "metadata": {},
   "outputs": [],
   "source": [
    "fig, axes = plt.subplots(nrows=len(sig.data),ncols=1)\n",
    "\n"
   ]
  },
  {
   "cell_type": "markdown",
   "metadata": {},
   "source": [
    "### Using the signal_utils objects"
   ]
  },
  {
   "cell_type": "code",
   "execution_count": null,
   "metadata": {},
   "outputs": [],
   "source": [
    "# TODO: implement signal_utils\n",
    "\n",
    "# run a filter\n",
    "sig.butterworth_filter(lowcut = 4, highcut = 12, fs = 32000)\n",
    "\n",
    "# rereference and plot new results\n",
    "sig.rereference(rereference_mode = 'CAR')\n",
    "sig.butterworth_filter(data = sig.signal_rereferenced,lowcut = 4,highcut = 12,fs = 32000)\n",
    "\n",
    "plt.subplot(3,1,1)\n",
    "plt.plot(sig.data['TT1a.ncs'][0:32000],'k',linewidth=1)\n",
    "plt.plot(sig.signal_filtered['TT1a.ncs'][0:32000],'r',linewidth=2)\n",
    "plt.subplot(3,1,2)\n",
    "plt.plot(sig.signal_rereferenced['TT1a.ncs'][0:32000],'k',linewidth=1)\n",
    "plt.plot(sig.signal_filtered['TT1a.ncs'][0:32000],'r',linewidth=2)\n",
    "plt.subplot(3,1,3)\n",
    "plt.plot(sig.data['TT1a.ncs'][0:32000],'k',linewidth=1)\n",
    "plt.plot(sig.signal_rereferenced['TT1a.ncs'][0:32000],'r',linewidth=1)\n",
    "    "
   ]
  },
  {
   "cell_type": "markdown",
   "metadata": {},
   "source": [
    "### Between signal correlation"
   ]
  },
  {
   "cell_type": "code",
   "execution_count": null,
   "metadata": {},
   "outputs": [],
   "source": [
    "#%\n",
    "# testing correlation after signal rereferencing\n",
    "import pandas as pd\n",
    "import matplotlib.pyplot as plt\n",
    "import os\n",
    "\n",
    "data_pd = pd.DataFrame.from_dict(sig.data)\n",
    "data_pd_ref = pd.DataFrame.from_dict(sig.signal_rereferenced)\n",
    "\n",
    "# pairwise correlation\n",
    "data_cor = pd.DataFrame.corr(self=data_pd, method = 'pearson', min_periods=1, numeric_only = False)\n",
    "data_cor_reref = pd.DataFrame.corr(self=data_pd_ref, method = 'pearson', min_periods=1, numeric_only = False)\n",
    "\n",
    "fig, (ax1,ax2) = plt.subplots(nrows=1,ncols=2)\n",
    "pos1 = ax1.imshow(data_cor)\n",
    "ax1.set_xticks(range(len(data_cor)), data_cor.columns, rotation='vertical')\n",
    "ax1.set_yticks(range(len(data_cor)), data_cor.index)\n",
    "#ax1.yaxis('off')\n",
    "fig.colorbar(pos1, ax=ax1, shrink=0.5)\n",
    "\n",
    "pos2 = ax2.imshow(data_cor_reref)\n",
    "ax2.set_xticks(range(len(data_cor)), data_cor.columns, rotation='vertical')\n",
    "ax2.set_yticks(range(len(data_cor)), data_cor.index, color='w')\n",
    "fig.colorbar(pos2, ax=ax2, shrink=0.5)\n",
    "fig.savefig(folder_path, format='eps')"
   ]
  },
  {
   "cell_type": "code",
   "execution_count": null,
   "metadata": {},
   "outputs": [],
   "source": [
    "data_cor_reref"
   ]
  },
  {
   "cell_type": "code",
   "execution_count": null,
   "metadata": {},
   "outputs": [],
   "source": []
  }
 ],
 "metadata": {
  "kernelspec": {
   "display_name": "neuroconv",
   "language": "python",
   "name": "python3"
  },
  "language_info": {
   "codemirror_mode": {
    "name": "ipython",
    "version": 3
   },
   "file_extension": ".py",
   "mimetype": "text/x-python",
   "name": "python",
   "nbconvert_exporter": "python",
   "pygments_lexer": "ipython3",
   "version": "3.11.0"
  },
  "orig_nbformat": 4
 },
 "nbformat": 4,
 "nbformat_minor": 2
}
