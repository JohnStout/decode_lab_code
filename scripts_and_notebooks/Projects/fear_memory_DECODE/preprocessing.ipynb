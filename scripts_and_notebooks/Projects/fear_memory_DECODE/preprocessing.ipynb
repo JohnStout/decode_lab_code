{
 "cells": [
  {
   "cell_type": "markdown",
   "metadata": {},
   "source": [
    "## Fear Memory Experiment - Preprocessing LFPs and datafiles\n",
    "This notebook will focus on the conversion of neuralynx collected LFPs to NWB files, then cleaning/preprocessing\n",
    "\n",
    "Right now, the spikeinterface conversion process does not love the existence of xplorefinder.m headers. These file types are .NCF and .ntt. I think I can make spikeinterface ignore those file types. \n"
   ]
  },
  {
   "cell_type": "code",
   "execution_count": 2,
   "metadata": {},
   "outputs": [],
   "source": [
    "import datetime"
   ]
  },
  {
   "cell_type": "code",
   "execution_count": 5,
   "metadata": {},
   "outputs": [
    {
     "data": {
      "text/plain": [
       "datetime.datetime(2023, 9, 22, 10, 13, 17, 133207)"
      ]
     },
     "execution_count": 5,
     "metadata": {},
     "output_type": "execute_result"
    }
   ],
   "source": [
    "datetime.datetime.now()"
   ]
  },
  {
   "cell_type": "code",
   "execution_count": 1,
   "metadata": {},
   "outputs": [
    {
     "name": "stdout",
     "output_type": "stream",
     "text": [
      "Cite NWB and CatalystNeuro\n",
      "Writing data...\n",
      "<re.Match object; span=(182, 245), match='-OriginalFileName \"D:\\\\CheetahData\\\\2022-06-02_13>\n",
      "<re.Match object; span=(182, 245), match='-OriginalFileName \"D:\\\\CheetahData\\\\2022-06-02_13>\n",
      "<re.Match object; span=(182, 245), match='-OriginalFileName \"D:\\\\CheetahData\\\\2022-06-02_13>\n",
      "<re.Match object; span=(182, 245), match='-OriginalFileName \"D:\\\\CheetahData\\\\2022-06-02_13>\n",
      "<re.Match object; span=(171, 234), match='-OriginalFileName D:\\\\CheetahData\\\\2022-06-02_13->\n",
      "<re.Match object; span=(184, 246), match='-OriginalFileName \"D:\\\\CheetahData\\\\2022-06-02_13>\n",
      "<re.Match object; span=(184, 246), match='-OriginalFileName \"D:\\\\CheetahData\\\\2022-06-02_13>\n",
      "<re.Match object; span=(184, 246), match='-OriginalFileName \"D:\\\\CheetahData\\\\2022-06-02_13>\n",
      "<re.Match object; span=(184, 246), match='-OriginalFileName \"D:\\\\CheetahData\\\\2022-06-02_13>\n",
      "<re.Match object; span=(184, 246), match='-OriginalFileName \"D:\\\\CheetahData\\\\2022-06-02_13>\n",
      "<re.Match object; span=(37, 66), match='## File Name TT1_filtered.ntt'>\n"
     ]
    },
    {
     "ename": "OSError",
     "evalue": "No matching header open date/time for application {} version Cheetah. Please contact developers.",
     "output_type": "error",
     "traceback": [
      "\u001b[0;31m---------------------------------------------------------------------------\u001b[0m",
      "\u001b[0;31mOSError\u001b[0m                                   Traceback (most recent call last)",
      "Cell \u001b[0;32mIn[1], line 22\u001b[0m\n\u001b[1;32m     18\u001b[0m \u001b[39melif\u001b[39;00m dataCommand \u001b[39m==\u001b[39m \u001b[39m'\u001b[39m\u001b[39mwrite\u001b[39m\u001b[39m'\u001b[39m:\n\u001b[1;32m     19\u001b[0m \n\u001b[1;32m     20\u001b[0m     \u001b[39m# write data\u001b[39;00m\n\u001b[1;32m     21\u001b[0m     \u001b[39mprint\u001b[39m(\u001b[39m\"\u001b[39m\u001b[39mWriting data...\u001b[39m\u001b[39m\"\u001b[39m)\n\u001b[0;32m---> 22\u001b[0m     nlx2nwb\u001b[39m.\u001b[39;49mwriteNWB(folder_path \u001b[39m=\u001b[39;49m folder_name, save_name \u001b[39m=\u001b[39;49m file_name)\n\u001b[1;32m     24\u001b[0m     \u001b[39m# read data to visualize output\u001b[39;00m\n\u001b[1;32m     25\u001b[0m     \u001b[39mprint\u001b[39m(\u001b[39m\"\u001b[39m\u001b[39mReading data...\u001b[39m\u001b[39m\"\u001b[39m)\n",
      "File \u001b[0;32m~/decode_lab_code/src/decode_lab_code/preprocessing/ephys/nlx2nwb.py:57\u001b[0m, in \u001b[0;36mwriteNWB\u001b[0;34m(folder_path, save_name)\u001b[0m\n\u001b[1;32m     54\u001b[0m tt_notes \u001b[39m=\u001b[39m \u001b[39minput\u001b[39m(\u001b[39m'\u001b[39m\u001b[39mEnter information about your tetrode recordings: \u001b[39m\u001b[39m'\u001b[39m)\n\u001b[1;32m     56\u001b[0m \u001b[39m# Change the folder_path to the appropriate location in your system\u001b[39;00m\n\u001b[0;32m---> 57\u001b[0m interface \u001b[39m=\u001b[39m NeuralynxRecordingInterface(folder_path\u001b[39m=\u001b[39;49mfolder_path, verbose\u001b[39m=\u001b[39;49m\u001b[39mFalse\u001b[39;49;00m)\n\u001b[1;32m     59\u001b[0m \u001b[39m# in the metadata below, change to \"TT\" and in the for loop, add a number for the tetrode!!\u001b[39;00m\n\u001b[1;32m     60\u001b[0m \n\u001b[1;32m     61\u001b[0m \u001b[39m# Extract what metadata we can from the source files\u001b[39;00m\n\u001b[1;32m     62\u001b[0m metadata \u001b[39m=\u001b[39m interface\u001b[39m.\u001b[39mget_metadata() \u001b[39m# here we should change them\u001b[39;00m\n",
      "File \u001b[0;32m~/anaconda3/envs/neuroconv/lib/python3.11/site-packages/neuroconv/datainterfaces/ecephys/neuralynx/neuralynxdatainterface.py:43\u001b[0m, in \u001b[0;36mNeuralynxRecordingInterface.__init__\u001b[0;34m(self, folder_path, stream_name, verbose, es_key)\u001b[0m\n\u001b[1;32m     23\u001b[0m \u001b[39mdef\u001b[39;00m \u001b[39m__init__\u001b[39m(\n\u001b[1;32m     24\u001b[0m     \u001b[39mself\u001b[39m,\n\u001b[1;32m     25\u001b[0m     folder_path: FolderPathType,\n\u001b[0;32m   (...)\u001b[0m\n\u001b[1;32m     28\u001b[0m     es_key: \u001b[39mstr\u001b[39m \u001b[39m=\u001b[39m \u001b[39m\"\u001b[39m\u001b[39mElectricalSeries\u001b[39m\u001b[39m\"\u001b[39m,\n\u001b[1;32m     29\u001b[0m ):\n\u001b[1;32m     30\u001b[0m \u001b[39m    \u001b[39m\u001b[39m\"\"\"\u001b[39;00m\n\u001b[1;32m     31\u001b[0m \u001b[39m    Initialize reading of OpenEphys binary recording.\u001b[39;00m\n\u001b[1;32m     32\u001b[0m \n\u001b[0;32m   (...)\u001b[0m\n\u001b[1;32m     41\u001b[0m \u001b[39m    es_key : str, default: \"ElectricalSeries\"\u001b[39;00m\n\u001b[1;32m     42\u001b[0m \u001b[39m    \"\"\"\u001b[39;00m\n\u001b[0;32m---> 43\u001b[0m     \u001b[39msuper\u001b[39;49m()\u001b[39m.\u001b[39;49m\u001b[39m__init__\u001b[39;49m(\n\u001b[1;32m     44\u001b[0m         folder_path\u001b[39m=\u001b[39;49mfolder_path, stream_name\u001b[39m=\u001b[39;49mstream_name, verbose\u001b[39m=\u001b[39;49mverbose, all_annotations\u001b[39m=\u001b[39;49m\u001b[39mTrue\u001b[39;49;00m, es_key\u001b[39m=\u001b[39;49mes_key\n\u001b[1;32m     45\u001b[0m     )\n\u001b[1;32m     47\u001b[0m     \u001b[39m# convert properties of object dtype (e.g. datetime) and bool as these are not supported by nwb\u001b[39;00m\n\u001b[1;32m     48\u001b[0m     \u001b[39mfor\u001b[39;00m key \u001b[39min\u001b[39;00m \u001b[39mself\u001b[39m\u001b[39m.\u001b[39mrecording_extractor\u001b[39m.\u001b[39mget_property_keys():\n",
      "File \u001b[0;32m~/anaconda3/envs/neuroconv/lib/python3.11/site-packages/neuroconv/datainterfaces/ecephys/baserecordingextractorinterface.py:32\u001b[0m, in \u001b[0;36mBaseRecordingExtractorInterface.__init__\u001b[0;34m(self, verbose, es_key, **source_data)\u001b[0m\n\u001b[1;32m     20\u001b[0m \u001b[39m\u001b[39m\u001b[39m\"\"\"\u001b[39;00m\n\u001b[1;32m     21\u001b[0m \u001b[39mParameters\u001b[39;00m\n\u001b[1;32m     22\u001b[0m \u001b[39m----------\u001b[39;00m\n\u001b[0;32m   (...)\u001b[0m\n\u001b[1;32m     29\u001b[0m \n\u001b[1;32m     30\u001b[0m \u001b[39m\"\"\"\u001b[39;00m\n\u001b[1;32m     31\u001b[0m \u001b[39msuper\u001b[39m()\u001b[39m.\u001b[39m\u001b[39m__init__\u001b[39m(\u001b[39m*\u001b[39m\u001b[39m*\u001b[39msource_data)\n\u001b[0;32m---> 32\u001b[0m \u001b[39mself\u001b[39m\u001b[39m.\u001b[39mrecording_extractor \u001b[39m=\u001b[39m \u001b[39mself\u001b[39;49m\u001b[39m.\u001b[39;49mget_extractor()(\u001b[39m*\u001b[39;49m\u001b[39m*\u001b[39;49msource_data)\n\u001b[1;32m     33\u001b[0m \u001b[39mself\u001b[39m\u001b[39m.\u001b[39msubset_channels \u001b[39m=\u001b[39m \u001b[39mNone\u001b[39;00m\n\u001b[1;32m     34\u001b[0m \u001b[39mself\u001b[39m\u001b[39m.\u001b[39mverbose \u001b[39m=\u001b[39m verbose\n",
      "File \u001b[0;32m~/anaconda3/envs/neuroconv/lib/python3.11/site-packages/spikeinterface/extractors/neoextractors/neuralynx.py:33\u001b[0m, in \u001b[0;36mNeuralynxRecordingExtractor.__init__\u001b[0;34m(self, folder_path, stream_id, stream_name, all_annotations)\u001b[0m\n\u001b[1;32m     31\u001b[0m \u001b[39mdef\u001b[39;00m \u001b[39m__init__\u001b[39m(\u001b[39mself\u001b[39m, folder_path, stream_id\u001b[39m=\u001b[39m\u001b[39mNone\u001b[39;00m, stream_name\u001b[39m=\u001b[39m\u001b[39mNone\u001b[39;00m, all_annotations\u001b[39m=\u001b[39m\u001b[39mFalse\u001b[39;00m):\n\u001b[1;32m     32\u001b[0m     neo_kwargs \u001b[39m=\u001b[39m \u001b[39mself\u001b[39m\u001b[39m.\u001b[39mmap_to_neo_kwargs(folder_path)\n\u001b[0;32m---> 33\u001b[0m     NeoBaseRecordingExtractor\u001b[39m.\u001b[39;49m\u001b[39m__init__\u001b[39;49m(\n\u001b[1;32m     34\u001b[0m         \u001b[39mself\u001b[39;49m, stream_id\u001b[39m=\u001b[39;49mstream_id, stream_name\u001b[39m=\u001b[39;49mstream_name, all_annotations\u001b[39m=\u001b[39;49mall_annotations, \u001b[39m*\u001b[39;49m\u001b[39m*\u001b[39;49mneo_kwargs\n\u001b[1;32m     35\u001b[0m     )\n\u001b[1;32m     36\u001b[0m     \u001b[39mself\u001b[39m\u001b[39m.\u001b[39m_kwargs\u001b[39m.\u001b[39mupdate(\u001b[39mdict\u001b[39m(folder_path\u001b[39m=\u001b[39m\u001b[39mstr\u001b[39m(Path(folder_path)\u001b[39m.\u001b[39mabsolute())))\n",
      "File \u001b[0;32m~/anaconda3/envs/neuroconv/lib/python3.11/site-packages/spikeinterface/extractors/neoextractors/neobaseextractor.py:185\u001b[0m, in \u001b[0;36mNeoBaseRecordingExtractor.__init__\u001b[0;34m(self, stream_id, stream_name, block_index, all_annotations, use_names_as_ids, **neo_kwargs)\u001b[0m\n\u001b[1;32m    156\u001b[0m \u001b[39mdef\u001b[39;00m \u001b[39m__init__\u001b[39m(\n\u001b[1;32m    157\u001b[0m     \u001b[39mself\u001b[39m,\n\u001b[1;32m    158\u001b[0m     stream_id: Optional[\u001b[39mstr\u001b[39m] \u001b[39m=\u001b[39m \u001b[39mNone\u001b[39;00m,\n\u001b[0;32m   (...)\u001b[0m\n\u001b[1;32m    163\u001b[0m     \u001b[39m*\u001b[39m\u001b[39m*\u001b[39mneo_kwargs: Dict[\u001b[39mstr\u001b[39m, Any],\n\u001b[1;32m    164\u001b[0m ) \u001b[39m-\u001b[39m\u001b[39m>\u001b[39m \u001b[39mNone\u001b[39;00m:\n\u001b[1;32m    165\u001b[0m \u001b[39m    \u001b[39m\u001b[39m\"\"\"\u001b[39;00m\n\u001b[1;32m    166\u001b[0m \u001b[39m    Initialize a NeoBaseRecordingExtractor instance.\u001b[39;00m\n\u001b[1;32m    167\u001b[0m \n\u001b[0;32m   (...)\u001b[0m\n\u001b[1;32m    182\u001b[0m \n\u001b[1;32m    183\u001b[0m \u001b[39m    \"\"\"\u001b[39;00m\n\u001b[0;32m--> 185\u001b[0m     _NeoBaseExtractor\u001b[39m.\u001b[39;49m\u001b[39m__init__\u001b[39;49m(\u001b[39mself\u001b[39;49m, block_index, \u001b[39m*\u001b[39;49m\u001b[39m*\u001b[39;49mneo_kwargs)\n\u001b[1;32m    187\u001b[0m     kwargs \u001b[39m=\u001b[39m \u001b[39mdict\u001b[39m(all_annotations\u001b[39m=\u001b[39mall_annotations)\n\u001b[1;32m    188\u001b[0m     \u001b[39mif\u001b[39;00m block_index \u001b[39mis\u001b[39;00m \u001b[39mnot\u001b[39;00m \u001b[39mNone\u001b[39;00m:\n",
      "File \u001b[0;32m~/anaconda3/envs/neuroconv/lib/python3.11/site-packages/spikeinterface/extractors/neoextractors/neobaseextractor.py:25\u001b[0m, in \u001b[0;36m_NeoBaseExtractor.__init__\u001b[0;34m(self, block_index, **neo_kwargs)\u001b[0m\n\u001b[1;32m     23\u001b[0m \u001b[39mdef\u001b[39;00m \u001b[39m__init__\u001b[39m(\u001b[39mself\u001b[39m, block_index, \u001b[39m*\u001b[39m\u001b[39m*\u001b[39mneo_kwargs):\n\u001b[1;32m     24\u001b[0m     \u001b[39mif\u001b[39;00m \u001b[39mnot\u001b[39;00m \u001b[39mhasattr\u001b[39m(\u001b[39mself\u001b[39m, \u001b[39m\"\u001b[39m\u001b[39mneo_reader\u001b[39m\u001b[39m\"\u001b[39m):  \u001b[39m# Avoid double initialization\u001b[39;00m\n\u001b[0;32m---> 25\u001b[0m         \u001b[39mself\u001b[39m\u001b[39m.\u001b[39mneo_reader \u001b[39m=\u001b[39m \u001b[39mself\u001b[39;49m\u001b[39m.\u001b[39;49mget_neo_io_reader(\u001b[39mself\u001b[39;49m\u001b[39m.\u001b[39;49mNeoRawIOClass, \u001b[39m*\u001b[39;49m\u001b[39m*\u001b[39;49mneo_kwargs)\n\u001b[1;32m     27\u001b[0m     \u001b[39mif\u001b[39;00m \u001b[39mself\u001b[39m\u001b[39m.\u001b[39mneo_reader\u001b[39m.\u001b[39mblock_count() \u001b[39m>\u001b[39m \u001b[39m1\u001b[39m \u001b[39mand\u001b[39;00m block_index \u001b[39mis\u001b[39;00m \u001b[39mNone\u001b[39;00m:\n\u001b[1;32m     28\u001b[0m         \u001b[39mraise\u001b[39;00m \u001b[39mException\u001b[39;00m(\n\u001b[1;32m     29\u001b[0m             \u001b[39m\"\u001b[39m\u001b[39mThis dataset is multi-block. Spikeinterface can load one block at a time. \u001b[39m\u001b[39m\"\u001b[39m\n\u001b[1;32m     30\u001b[0m             \u001b[39m\"\u001b[39m\u001b[39mUse \u001b[39m\u001b[39m'\u001b[39m\u001b[39mblock_index\u001b[39m\u001b[39m'\u001b[39m\u001b[39m to select the block to be loaded.\u001b[39m\u001b[39m\"\u001b[39m\n\u001b[1;32m     31\u001b[0m         )\n",
      "File \u001b[0;32m~/anaconda3/envs/neuroconv/lib/python3.11/site-packages/spikeinterface/extractors/neoextractors/neobaseextractor.py:64\u001b[0m, in \u001b[0;36m_NeoBaseExtractor.get_neo_io_reader\u001b[0;34m(cls, raw_class, **neo_kwargs)\u001b[0m\n\u001b[1;32m     62\u001b[0m neoIOclass \u001b[39m=\u001b[39m \u001b[39mgetattr\u001b[39m(rawio_module, raw_class)\n\u001b[1;32m     63\u001b[0m neo_reader \u001b[39m=\u001b[39m neoIOclass(\u001b[39m*\u001b[39m\u001b[39m*\u001b[39mneo_kwargs)\n\u001b[0;32m---> 64\u001b[0m neo_reader\u001b[39m.\u001b[39;49mparse_header()\n\u001b[1;32m     66\u001b[0m \u001b[39mreturn\u001b[39;00m neo_reader\n",
      "File \u001b[0;32m~/anaconda3/envs/neuroconv/lib/python3.11/site-packages/neo/rawio/baserawio.py:179\u001b[0m, in \u001b[0;36mBaseRawIO.parse_header\u001b[0;34m(self)\u001b[0m\n\u001b[1;32m    166\u001b[0m \u001b[39mdef\u001b[39;00m \u001b[39mparse_header\u001b[39m(\u001b[39mself\u001b[39m):\n\u001b[1;32m    167\u001b[0m \u001b[39m    \u001b[39m\u001b[39m\"\"\"\u001b[39;00m\n\u001b[1;32m    168\u001b[0m \u001b[39m    This must parse the file header to get all stuff for fast use later on.\u001b[39;00m\n\u001b[1;32m    169\u001b[0m \n\u001b[0;32m   (...)\u001b[0m\n\u001b[1;32m    177\u001b[0m \n\u001b[1;32m    178\u001b[0m \u001b[39m    \"\"\"\u001b[39;00m\n\u001b[0;32m--> 179\u001b[0m     \u001b[39mself\u001b[39;49m\u001b[39m.\u001b[39;49m_parse_header()\n\u001b[1;32m    180\u001b[0m     \u001b[39mself\u001b[39m\u001b[39m.\u001b[39m_check_stream_signal_channel_characteristics()\n",
      "File \u001b[0;32m~/anaconda3/envs/neuroconv/lib/python3.11/site-packages/neo/rawio/neuralynxrawio/neuralynxrawio.py:189\u001b[0m, in \u001b[0;36mNeuralynxRawIO._parse_header\u001b[0;34m(self)\u001b[0m\n\u001b[1;32m    186\u001b[0m     \u001b[39mcontinue\u001b[39;00m\n\u001b[1;32m    188\u001b[0m \u001b[39m# All file have more or less the same header structure\u001b[39;00m\n\u001b[0;32m--> 189\u001b[0m info \u001b[39m=\u001b[39m NlxHeader(filename)\n\u001b[1;32m    190\u001b[0m \u001b[39mself\u001b[39m\u001b[39m.\u001b[39mfile_headers[filename] \u001b[39m=\u001b[39m info\n\u001b[1;32m    191\u001b[0m chan_names \u001b[39m=\u001b[39m info[\u001b[39m'\u001b[39m\u001b[39mchannel_names\u001b[39m\u001b[39m'\u001b[39m]\n",
      "File \u001b[0;32m~/anaconda3/envs/neuroconv/lib/python3.11/site-packages/neo/rawio/neuralynxrawio/nlxheader.py:265\u001b[0m, in \u001b[0;36mNlxHeader.__init__\u001b[0;34m(self, filename)\u001b[0m\n\u001b[1;32m    263\u001b[0m \u001b[39m# back to og code\u001b[39;00m\n\u001b[1;32m    264\u001b[0m \u001b[39mif\u001b[39;00m \u001b[39mnot\u001b[39;00m sr:\n\u001b[0;32m--> 265\u001b[0m     \u001b[39mraise\u001b[39;00m \u001b[39mIOError\u001b[39;00m(\u001b[39m\"\u001b[39m\u001b[39mNo matching header open date/time for application \u001b[39m\u001b[39m{}\u001b[39;00m\u001b[39m \u001b[39m\u001b[39m\"\u001b[39m \u001b[39m+\u001b[39m\n\u001b[1;32m    266\u001b[0m                   \u001b[39m\"\u001b[39m\u001b[39mversion \u001b[39m\u001b[39m{}\u001b[39;00m\u001b[39m. Please contact developers.\u001b[39m\u001b[39m\"\u001b[39m\u001b[39m.\u001b[39mformat(an, av))\n\u001b[1;32m    267\u001b[0m \u001b[39melse\u001b[39;00m:\n\u001b[1;32m    268\u001b[0m     dt1 \u001b[39m=\u001b[39m sr\u001b[39m.\u001b[39mgroupdict()\n",
      "\u001b[0;31mOSError\u001b[0m: No matching header open date/time for application {} version Cheetah. Please contact developers."
     ]
    }
   ],
   "source": [
    "# This package is for reading nwb data easily\n",
    "from decode_lab_code.preprocessing.ephys import nlx2nwb\n",
    "\n",
    "# read or write?\n",
    "dataCommand = 'write'\n",
    "\n",
    "# lets get our path with data\n",
    "folder_name = '/Users/js0403/local data/Fear/2022-06-02_13-37-18 18eB R1 C2 Ext'\n",
    "file_name = 'data_nwb'\n",
    "\n",
    "# pull in data - this would be the data freely shared!\n",
    "if dataCommand == 'read':\n",
    "\n",
    "    # read data\n",
    "    print(\"reading nwb data\")\n",
    "    data_nwb = nlx2nwb.readNWB(folder_path = folder_name, file_name = file_name)\n",
    "\n",
    "elif dataCommand == 'write':\n",
    "\n",
    "    # write data\n",
    "    print(\"Writing data...\")\n",
    "    nlx2nwb.writeNWB(folder_path = folder_name, save_name = file_name)\n",
    "\n",
    "    # read data to visualize output\n",
    "    print(\"Reading data...\")\n",
    "    data_nwb = nlx2nwb.readNWB(folder_path = folder_name, file_name = file_name)"
   ]
  },
  {
   "cell_type": "code",
   "execution_count": null,
   "metadata": {},
   "outputs": [],
   "source": []
  }
 ],
 "metadata": {
  "kernelspec": {
   "display_name": "neuroconv",
   "language": "python",
   "name": "python3"
  },
  "language_info": {
   "codemirror_mode": {
    "name": "ipython",
    "version": 3
   },
   "file_extension": ".py",
   "mimetype": "text/x-python",
   "name": "python",
   "nbconvert_exporter": "python",
   "pygments_lexer": "ipython3",
   "version": "3.11.0"
  },
  "orig_nbformat": 4
 },
 "nbformat": 4,
 "nbformat_minor": 2
}
