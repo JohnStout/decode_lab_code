{
 "cells": [
  {
   "cell_type": "markdown",
   "metadata": {},
   "source": [
    "# Load packages\n",
    "Once we have used the decode_lab_code.readers.ioreaders to save ephys data into the NWB files, we can now use that standard format with a variety of packages!!"
   ]
  },
  {
   "cell_type": "code",
   "execution_count": 1,
   "metadata": {},
   "outputs": [
    {
     "name": "stdout",
     "output_type": "stream",
     "text": [
      "Cite NWB\n",
      "Cite CatalystNeuro: NeuroConv toolbox if converting Neuralynx data\n"
     ]
    }
   ],
   "source": [
    "from decode_lab_code.readers.ioreaders import load_nwb\n",
    "import matplotlib.pyplot as plt\n",
    "import numpy as np\n",
    "import pynapple as nap\n",
    "import os\n",
    "\n",
    "folder_path = '/Users/js0403/local data/2020-06-26_16-56-10 9&10eb male ACTH ELS'\n",
    "nwbname = 'nwbfile.nwb'"
   ]
  },
  {
   "cell_type": "markdown",
   "metadata": {},
   "source": [
    "# NWB to Pynapple"
   ]
  },
  {
   "cell_type": "code",
   "execution_count": 5,
   "metadata": {},
   "outputs": [
    {
     "data": {
      "text/html": [
       "<pre style=\"white-space:pre;overflow-x:auto;line-height:normal;font-family:Menlo,'DejaVu Sans Mono',consolas,'Courier New',monospace\"><span style=\"font-style: italic\">            nwbfile            </span>\n",
       "┏━━━━━━━━━━━━━━━━━━┳━━━━━━━━━━┓\n",
       "┃<span style=\"font-weight: bold\"> Keys             </span>┃<span style=\"font-weight: bold\"> Type     </span>┃\n",
       "┡━━━━━━━━━━━━━━━━━━╇━━━━━━━━━━┩\n",
       "│<span style=\"color: #008080; text-decoration-color: #008080\"> units            </span>│<span style=\"color: #008000; text-decoration-color: #008000\"> TsGroup  </span>│\n",
       "│<span style=\"color: #008080; text-decoration-color: #008080\"> ElectricalSeries </span>│<span style=\"color: #008000; text-decoration-color: #008000\"> TsdFrame </span>│\n",
       "└──────────────────┴──────────┘\n",
       "</pre>\n"
      ],
      "text/plain": [
       "\u001b[3m            nwbfile            \u001b[0m\n",
       "┏━━━━━━━━━━━━━━━━━━┳━━━━━━━━━━┓\n",
       "┃\u001b[1m \u001b[0m\u001b[1mKeys            \u001b[0m\u001b[1m \u001b[0m┃\u001b[1m \u001b[0m\u001b[1mType    \u001b[0m\u001b[1m \u001b[0m┃\n",
       "┡━━━━━━━━━━━━━━━━━━╇━━━━━━━━━━┩\n",
       "│\u001b[36m \u001b[0m\u001b[36munits           \u001b[0m\u001b[36m \u001b[0m│\u001b[32m \u001b[0m\u001b[32mTsGroup \u001b[0m\u001b[32m \u001b[0m│\n",
       "│\u001b[36m \u001b[0m\u001b[36mElectricalSeries\u001b[0m\u001b[36m \u001b[0m│\u001b[32m \u001b[0m\u001b[32mTsdFrame\u001b[0m\u001b[32m \u001b[0m│\n",
       "└──────────────────┴──────────┘\n"
      ]
     },
     "metadata": {},
     "output_type": "display_data"
    },
    {
     "name": "stdout",
     "output_type": "stream",
     "text": [
      "\n"
     ]
    }
   ],
   "source": [
    "data = nap.load_file(os.path.join(folder_path,nwbname))\n",
    "print(data)"
   ]
  },
  {
   "cell_type": "markdown",
   "metadata": {},
   "source": [
    "Print out general statistics about neurons"
   ]
  },
  {
   "cell_type": "code",
   "execution_count": 3,
   "metadata": {},
   "outputs": [
    {
     "data": {
      "text/plain": [
       "  Index    rate  quality    location\n",
       "-------  ------  ---------  ----------\n",
       "      0    5.85  good       PFC\n",
       "      1    0.08  good       PFC\n",
       "      2    2.02  good       PFC\n",
       "      3    0.17  good       PFC\n",
       "      4    0.7   good       PFC\n",
       "      5    6.01  good       PFC\n",
       "      6    8.05  good       PFC\n",
       "      7    0.12  good       PFC\n",
       "      8    0.35  good       PFC\n",
       "      9    1.2   good       PFC\n",
       "     10    0.07  good       PFC\n",
       "     11    2.8   good       PFC\n",
       "     12    0.14  good       PFC\n",
       "     13    0.29  good       PFC\n",
       "     14    0.72  good       PFC\n",
       "     15    2.9   good       PFC\n",
       "     16    0.06  good       PFC\n",
       "     17    3.93  good       PFC\n",
       "     18    0.76  good       PFC\n",
       "     19    2.1   good       PFC\n",
       "     20    1.53  good       PFC\n",
       "     21    2.74  good       PFC\n",
       "     22    0.36  good       PFC"
      ]
     },
     "execution_count": 3,
     "metadata": {},
     "output_type": "execute_result"
    }
   ],
   "source": [
    "spikes = data[\"units\"]\n",
    "spikes"
   ]
  },
  {
   "cell_type": "markdown",
   "metadata": {},
   "source": [
    "Can access neuron-specific spike times via dictionary like retrieval"
   ]
  },
  {
   "cell_type": "code",
   "execution_count": 13,
   "metadata": {},
   "outputs": [
    {
     "data": {
      "text/plain": [
       "5.849425045230113"
      ]
     },
     "execution_count": 13,
     "metadata": {},
     "output_type": "execute_result"
    }
   ],
   "source": [
    "spikes[0].rate"
   ]
  },
  {
   "cell_type": "code",
   "execution_count": 14,
   "metadata": {},
   "outputs": [
    {
     "data": {
      "text/plain": [
       "Time (s)\n",
       "8145.957584   NaN\n",
       "8147.153709   NaN\n",
       "8147.305834   NaN\n",
       "8147.343740   NaN\n",
       "8147.369677   NaN\n",
       "               ..\n",
       "9417.081834   NaN\n",
       "9418.087427   NaN\n",
       "9420.416365   NaN\n",
       "9421.383240   NaN\n",
       "9421.745146   NaN\n",
       "Length: 7467, dtype: float64"
      ]
     },
     "execution_count": 14,
     "metadata": {},
     "output_type": "execute_result"
    }
   ],
   "source": [
    "spikes[0]"
   ]
  },
  {
   "cell_type": "markdown",
   "metadata": {},
   "source": [
    "Compute cross correlograms\n",
    "\n",
    "notice that this array is 2D. Unit0 vs Unit1-N. Unit1 vs Unit2-N. Unit2 vs Unit3-N. That is why when you inspect Unit1 cc_wave[1], you don't see a correlation to unit0, because the correlation between Unit0 and Unit1 is represented by Unit0 (cc_wave[0][1])"
   ]
  },
  {
   "cell_type": "code",
   "execution_count": 15,
   "metadata": {},
   "outputs": [],
   "source": [
    "cc_wake = nap.compute_crosscorrelogram(\n",
    "    group=spikes,\n",
    "    binsize=20,  # ms\n",
    "    windowsize=4000,  # ms,\n",
    "    norm=True,\n",
    "    time_units=\"ms\",\n",
    ")"
   ]
  },
  {
   "cell_type": "code",
   "execution_count": 39,
   "metadata": {},
   "outputs": [
    {
     "data": {
      "text/plain": [
       "-3.98    0.678085\n",
       "-3.96    1.017128\n",
       "-3.94    0.339043\n",
       "-3.92    0.339043\n",
       "-3.90    0.000000\n",
       "           ...   \n",
       " 3.90    1.017128\n",
       " 3.92    0.339043\n",
       " 3.94    0.678085\n",
       " 3.96    0.678085\n",
       " 3.98    0.678085\n",
       "Name: 4, Length: 399, dtype: float64"
      ]
     },
     "execution_count": 39,
     "metadata": {},
     "output_type": "execute_result"
    }
   ],
   "source": [
    "cc_wake[3][4]"
   ]
  },
  {
   "cell_type": "code",
   "execution_count": 36,
   "metadata": {},
   "outputs": [
    {
     "data": {
      "text/plain": [
       "-3.98    0.942753\n",
       "-3.96    0.892960\n",
       "-3.94    0.922836\n",
       "-3.92    0.989227\n",
       "-3.90    0.942753\n",
       "           ...   \n",
       " 3.90    0.883001\n",
       " 3.92    0.896279\n",
       " 3.94    0.992546\n",
       " 3.96    0.965990\n",
       " 3.98    0.892960\n",
       "Name: 2, Length: 399, dtype: float64"
      ]
     },
     "execution_count": 36,
     "metadata": {},
     "output_type": "execute_result"
    }
   ],
   "source": [
    "cc_wake[0][2]"
   ]
  },
  {
   "cell_type": "code",
   "execution_count": 42,
   "metadata": {},
   "outputs": [
    {
     "data": {
      "text/plain": [
       "<matplotlib.collections.PolyCollection at 0x2bba9f100>"
      ]
     },
     "execution_count": 42,
     "metadata": {},
     "output_type": "execute_result"
    },
    {
     "data": {
      "image/png": "[encoded data removed]",
      "text/plain": [
       "<Figure size 640x480 with 2 Axes>"
      ]
     },
     "metadata": {},
     "output_type": "display_data"
    }
   ],
   "source": [
    "xtwake = cc_wake.index.values\n",
    "plt.subplot(121)\n",
    "plt.fill_between(\n",
    "    xtwake, np.zeros_like(xtwake), cc_wake[0][1].values, color=\"darkgray\"\n",
    ")\n",
    "plt.subplot(122)\n",
    "plt.fill_between(\n",
    "    xtwake, np.zeros_like(xtwake), cc_wake[0][2].values, color=\"darkgray\"\n",
    ")"
   ]
  },
  {
   "cell_type": "markdown",
   "metadata": {},
   "source": [
    "# NWB to spikeinterface\n"
   ]
  },
  {
   "cell_type": "markdown",
   "metadata": {},
   "source": []
  }
 ],
 "metadata": {
  "kernelspec": {
   "display_name": "decode_lab_env",
   "language": "python",
   "name": "python3"
  },
  "language_info": {
   "codemirror_mode": {
    "name": "ipython",
    "version": 3
   },
   "file_extension": ".py",
   "mimetype": "text/x-python",
   "name": "python",
   "nbconvert_exporter": "python",
   "pygments_lexer": "ipython3",
   "version": "3.9.18"
  },
  "orig_nbformat": 4
 },
 "nbformat": 4,
 "nbformat_minor": 2
}
