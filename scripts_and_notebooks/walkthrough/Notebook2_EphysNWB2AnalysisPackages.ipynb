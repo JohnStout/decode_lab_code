{
 "cells": [
  {
   "cell_type": "markdown",
   "metadata": {},
   "source": [
    "# Load packages\n",
    "Once we have used the decode_lab_code.readers.ioreaders to save ephys data into the NWB files, we can now use that standard format with a variety of packages!!\n",
    "\n",
    "One should note that the NWB file may have different Indexing names depending on the dataset. For this lab, those names (unit, ElectricalSeries, epoch) will remain fixed."
   ]
  },
  {
   "cell_type": "code",
   "execution_count": 1,
   "metadata": {},
   "outputs": [
    {
     "name": "stdout",
     "output_type": "stream",
     "text": [
      "Cite pynwb, neo, and CatalystNeuro team\n",
      "Please note, if there are multiple start/stops, more data is collected after a stopping recording. You must trim the CSC.\n",
      "TODO: MUST CHECK ALL SLICING FOR [a:b], MUST BE [a::b]\n"
     ]
    }
   ],
   "source": [
    "from decode_lab_code.readers.ioreaders import load_nwb\n",
    "import matplotlib.pyplot as plt\n",
    "import numpy as np\n",
    "import pynapple as nap\n",
    "import os\n",
    "\n",
    "folder_path = '/Users/js0403/local data/2020-06-26_16-56-10 9&10eb male ACTH ELS'\n",
    "nwbname = 'nwbfile.nwb'\n",
    "nwbpath = os.path.join(folder_path,nwbname)"
   ]
  },
  {
   "cell_type": "code",
   "execution_count": 3,
   "metadata": {},
   "outputs": [],
   "source": [
    "nwbfile_dc=load_nwb(nwbpath = os.path.join(folder_path,nwbname))"
   ]
  },
  {
   "cell_type": "code",
   "execution_count": 4,
   "metadata": {},
   "outputs": [
    {
     "data": {
      "text/html": [
       "<div>\n",
       "<style scoped>\n",
       "    .dataframe tbody tr th:only-of-type {\n",
       "        vertical-align: middle;\n",
       "    }\n",
       "\n",
       "    .dataframe tbody tr th {\n",
       "        vertical-align: top;\n",
       "    }\n",
       "\n",
       "    .dataframe thead th {\n",
       "        text-align: right;\n",
       "    }\n",
       "</style>\n",
       "<table border=\"1\" class=\"dataframe\">\n",
       "  <thead>\n",
       "    <tr style=\"text-align: right;\">\n",
       "      <th></th>\n",
       "      <th>location</th>\n",
       "      <th>group</th>\n",
       "      <th>group_name</th>\n",
       "      <th>label</th>\n",
       "    </tr>\n",
       "    <tr>\n",
       "      <th>id</th>\n",
       "      <th></th>\n",
       "      <th></th>\n",
       "      <th></th>\n",
       "      <th></th>\n",
       "    </tr>\n",
       "  </thead>\n",
       "  <tbody>\n",
       "    <tr>\n",
       "      <th>0</th>\n",
       "      <td>PFC</td>\n",
       "      <td>Tetrode1 pynwb.ecephys.ElectrodeGroup at 0x116...</td>\n",
       "      <td>Tetrode1</td>\n",
       "      <td>CSC1</td>\n",
       "    </tr>\n",
       "    <tr>\n",
       "      <th>1</th>\n",
       "      <td>PFC</td>\n",
       "      <td>Tetrode1 pynwb.ecephys.ElectrodeGroup at 0x116...</td>\n",
       "      <td>Tetrode1</td>\n",
       "      <td>CSC2</td>\n",
       "    </tr>\n",
       "    <tr>\n",
       "      <th>2</th>\n",
       "      <td>PFC</td>\n",
       "      <td>Tetrode1 pynwb.ecephys.ElectrodeGroup at 0x116...</td>\n",
       "      <td>Tetrode1</td>\n",
       "      <td>CSC3</td>\n",
       "    </tr>\n",
       "    <tr>\n",
       "      <th>3</th>\n",
       "      <td>PFC</td>\n",
       "      <td>Tetrode1 pynwb.ecephys.ElectrodeGroup at 0x116...</td>\n",
       "      <td>Tetrode1</td>\n",
       "      <td>CSC4</td>\n",
       "    </tr>\n",
       "    <tr>\n",
       "      <th>4</th>\n",
       "      <td>PFC</td>\n",
       "      <td>Tetrode2 pynwb.ecephys.ElectrodeGroup at 0x116...</td>\n",
       "      <td>Tetrode2</td>\n",
       "      <td>CSC5</td>\n",
       "    </tr>\n",
       "    <tr>\n",
       "      <th>5</th>\n",
       "      <td>PFC</td>\n",
       "      <td>Tetrode2 pynwb.ecephys.ElectrodeGroup at 0x116...</td>\n",
       "      <td>Tetrode2</td>\n",
       "      <td>CSC6</td>\n",
       "    </tr>\n",
       "    <tr>\n",
       "      <th>6</th>\n",
       "      <td>PFC</td>\n",
       "      <td>Tetrode2 pynwb.ecephys.ElectrodeGroup at 0x116...</td>\n",
       "      <td>Tetrode2</td>\n",
       "      <td>CSC7</td>\n",
       "    </tr>\n",
       "    <tr>\n",
       "      <th>7</th>\n",
       "      <td>PFC</td>\n",
       "      <td>Tetrode2 pynwb.ecephys.ElectrodeGroup at 0x116...</td>\n",
       "      <td>Tetrode2</td>\n",
       "      <td>CSC8</td>\n",
       "    </tr>\n",
       "    <tr>\n",
       "      <th>8</th>\n",
       "      <td>PFC</td>\n",
       "      <td>Tetrode3 pynwb.ecephys.ElectrodeGroup at 0x116...</td>\n",
       "      <td>Tetrode3</td>\n",
       "      <td>CSC9</td>\n",
       "    </tr>\n",
       "    <tr>\n",
       "      <th>9</th>\n",
       "      <td>PFC</td>\n",
       "      <td>Tetrode3 pynwb.ecephys.ElectrodeGroup at 0x116...</td>\n",
       "      <td>Tetrode3</td>\n",
       "      <td>CSC10</td>\n",
       "    </tr>\n",
       "    <tr>\n",
       "      <th>10</th>\n",
       "      <td>PFC</td>\n",
       "      <td>Tetrode3 pynwb.ecephys.ElectrodeGroup at 0x116...</td>\n",
       "      <td>Tetrode3</td>\n",
       "      <td>CSC11</td>\n",
       "    </tr>\n",
       "    <tr>\n",
       "      <th>11</th>\n",
       "      <td>PFC</td>\n",
       "      <td>Tetrode3 pynwb.ecephys.ElectrodeGroup at 0x116...</td>\n",
       "      <td>Tetrode3</td>\n",
       "      <td>CSC12</td>\n",
       "    </tr>\n",
       "    <tr>\n",
       "      <th>12</th>\n",
       "      <td>PFC</td>\n",
       "      <td>Tetrode4 pynwb.ecephys.ElectrodeGroup at 0x116...</td>\n",
       "      <td>Tetrode4</td>\n",
       "      <td>CSC13</td>\n",
       "    </tr>\n",
       "    <tr>\n",
       "      <th>13</th>\n",
       "      <td>PFC</td>\n",
       "      <td>Tetrode4 pynwb.ecephys.ElectrodeGroup at 0x116...</td>\n",
       "      <td>Tetrode4</td>\n",
       "      <td>CSC14</td>\n",
       "    </tr>\n",
       "    <tr>\n",
       "      <th>14</th>\n",
       "      <td>PFC</td>\n",
       "      <td>Tetrode4 pynwb.ecephys.ElectrodeGroup at 0x116...</td>\n",
       "      <td>Tetrode4</td>\n",
       "      <td>CSC15</td>\n",
       "    </tr>\n",
       "    <tr>\n",
       "      <th>15</th>\n",
       "      <td>PFC</td>\n",
       "      <td>Tetrode4 pynwb.ecephys.ElectrodeGroup at 0x116...</td>\n",
       "      <td>Tetrode4</td>\n",
       "      <td>CSC16</td>\n",
       "    </tr>\n",
       "  </tbody>\n",
       "</table>\n",
       "</div>"
      ],
      "text/plain": [
       "   location                                              group group_name  \\\n",
       "id                                                                          \n",
       "0       PFC  Tetrode1 pynwb.ecephys.ElectrodeGroup at 0x116...   Tetrode1   \n",
       "1       PFC  Tetrode1 pynwb.ecephys.ElectrodeGroup at 0x116...   Tetrode1   \n",
       "2       PFC  Tetrode1 pynwb.ecephys.ElectrodeGroup at 0x116...   Tetrode1   \n",
       "3       PFC  Tetrode1 pynwb.ecephys.ElectrodeGroup at 0x116...   Tetrode1   \n",
       "4       PFC  Tetrode2 pynwb.ecephys.ElectrodeGroup at 0x116...   Tetrode2   \n",
       "5       PFC  Tetrode2 pynwb.ecephys.ElectrodeGroup at 0x116...   Tetrode2   \n",
       "6       PFC  Tetrode2 pynwb.ecephys.ElectrodeGroup at 0x116...   Tetrode2   \n",
       "7       PFC  Tetrode2 pynwb.ecephys.ElectrodeGroup at 0x116...   Tetrode2   \n",
       "8       PFC  Tetrode3 pynwb.ecephys.ElectrodeGroup at 0x116...   Tetrode3   \n",
       "9       PFC  Tetrode3 pynwb.ecephys.ElectrodeGroup at 0x116...   Tetrode3   \n",
       "10      PFC  Tetrode3 pynwb.ecephys.ElectrodeGroup at 0x116...   Tetrode3   \n",
       "11      PFC  Tetrode3 pynwb.ecephys.ElectrodeGroup at 0x116...   Tetrode3   \n",
       "12      PFC  Tetrode4 pynwb.ecephys.ElectrodeGroup at 0x116...   Tetrode4   \n",
       "13      PFC  Tetrode4 pynwb.ecephys.ElectrodeGroup at 0x116...   Tetrode4   \n",
       "14      PFC  Tetrode4 pynwb.ecephys.ElectrodeGroup at 0x116...   Tetrode4   \n",
       "15      PFC  Tetrode4 pynwb.ecephys.ElectrodeGroup at 0x116...   Tetrode4   \n",
       "\n",
       "    label  \n",
       "id         \n",
       "0    CSC1  \n",
       "1    CSC2  \n",
       "2    CSC3  \n",
       "3    CSC4  \n",
       "4    CSC5  \n",
       "5    CSC6  \n",
       "6    CSC7  \n",
       "7    CSC8  \n",
       "8    CSC9  \n",
       "9   CSC10  \n",
       "10  CSC11  \n",
       "11  CSC12  \n",
       "12  CSC13  \n",
       "13  CSC14  \n",
       "14  CSC15  \n",
       "15  CSC16  "
      ]
     },
     "execution_count": 4,
     "metadata": {},
     "output_type": "execute_result"
    }
   ],
   "source": [
    "nwbfile_dc.electrodes.to_dataframe()\n",
    "#nwbfile_dc.units.to_dataframe()"
   ]
  },
  {
   "cell_type": "markdown",
   "metadata": {},
   "source": [
    "# NWB to Pynapple\n",
    "\n",
    "Pynapple is used to visualize and analyze your data. It supports various analytical procedures, like cross-correlograms, circular statistics approaches (head direction analysis), and bayesian decoding.\n",
    "\n",
    "### Now that we have data in the NWB format, we can use Pynapple"
   ]
  },
  {
   "cell_type": "code",
   "execution_count": 5,
   "metadata": {},
   "outputs": [
    {
     "name": "stdout",
     "output_type": "stream",
     "text": [
      "nwbfile\n",
      "┍━━━━━━━━━━━━━━━━━━┯━━━━━━━━━━━━━┑\n",
      "│ Keys             │ Type        │\n",
      "┝━━━━━━━━━━━━━━━━━━┿━━━━━━━━━━━━━┥\n",
      "│ units            │ TsGroup     │\n",
      "│ epochs           │ IntervalSet │\n",
      "│ ElectricalSeries │ TsdFrame    │\n",
      "┕━━━━━━━━━━━━━━━━━━┷━━━━━━━━━━━━━┙\n"
     ]
    }
   ],
   "source": [
    "data = nap.load_file(nwbpath)\n",
    "print(data)"
   ]
  },
  {
   "cell_type": "markdown",
   "metadata": {},
   "source": [
    "Print out general statistics about neurons"
   ]
  },
  {
   "cell_type": "code",
   "execution_count": 6,
   "metadata": {},
   "outputs": [
    {
     "data": {
      "text/plain": [
       "  Index    rate  quality    location\n",
       "-------  ------  ---------  ----------\n",
       "      0    5.85  good       PFC\n",
       "      1    0.08  good       PFC\n",
       "      2    2.02  good       PFC\n",
       "      3    0.17  good       PFC\n",
       "      4    0.7   good       PFC\n",
       "      5    6.01  good       PFC\n",
       "      6    8.05  good       PFC\n",
       "      7    0.12  good       PFC\n",
       "      8    0.35  good       PFC\n",
       "      9    1.2   good       PFC\n",
       "     10    0.07  good       PFC\n",
       "     11    2.8   good       PFC\n",
       "     12    0.14  good       PFC\n",
       "     13    0.29  good       PFC\n",
       "     14    0.72  good       PFC\n",
       "     15    2.9   good       PFC\n",
       "     16    0.06  good       PFC\n",
       "     17    3.93  good       PFC\n",
       "     18    0.76  good       PFC\n",
       "     19    2.1   good       PFC\n",
       "     20    1.53  good       PFC\n",
       "     21    2.74  good       PFC\n",
       "     22    0.36  good       PFC"
      ]
     },
     "execution_count": 6,
     "metadata": {},
     "output_type": "execute_result"
    }
   ],
   "source": [
    "spikes = data[\"units\"]\n",
    "spikes"
   ]
  },
  {
   "cell_type": "markdown",
   "metadata": {},
   "source": [
    "Can access neuron-specific spike times via dictionary like retrieval"
   ]
  },
  {
   "cell_type": "code",
   "execution_count": 7,
   "metadata": {},
   "outputs": [
    {
     "data": {
      "text/plain": [
       "5.849425045230113"
      ]
     },
     "execution_count": 7,
     "metadata": {},
     "output_type": "execute_result"
    }
   ],
   "source": [
    "spikes[0].rate"
   ]
  },
  {
   "cell_type": "code",
   "execution_count": 8,
   "metadata": {},
   "outputs": [
    {
     "data": {
      "text/plain": [
       "Time (s)\n",
       "8145.957584\n",
       "8147.153709\n",
       "8147.305834\n",
       "8147.34374\n",
       "8147.369677\n",
       "...\n",
       "9417.081834\n",
       "9418.087427\n",
       "9420.416365\n",
       "9421.38324\n",
       "9421.745146\n",
       "shape: 7467"
      ]
     },
     "execution_count": 8,
     "metadata": {},
     "output_type": "execute_result"
    }
   ],
   "source": [
    "spikes[0]"
   ]
  },
  {
   "cell_type": "markdown",
   "metadata": {},
   "source": [
    "Compute cross correlograms\n",
    "\n",
    "notice that this array is 2D. Unit0 vs Unit1-N. Unit1 vs Unit2-N. Unit2 vs Unit3-N. That is why when you inspect Unit1 cc_wave[1], you don't see a correlation to unit0, because the correlation between Unit0 and Unit1 is represented by Unit0 (cc_wave[0][1])"
   ]
  },
  {
   "cell_type": "code",
   "execution_count": 9,
   "metadata": {},
   "outputs": [],
   "source": [
    "cc_wake = nap.compute_crosscorrelogram(\n",
    "    group=spikes,\n",
    "    binsize=20,  # ms\n",
    "    windowsize=4000,  # ms,\n",
    "    norm=True,\n",
    "    time_units=\"ms\",\n",
    ")"
   ]
  },
  {
   "cell_type": "code",
   "execution_count": 10,
   "metadata": {},
   "outputs": [
    {
     "data": {
      "text/plain": [
       "-3.98    0.678085\n",
       "-3.96    1.017128\n",
       "-3.94    0.339043\n",
       "-3.92    0.339043\n",
       "-3.90    0.000000\n",
       "           ...   \n",
       " 3.90    1.017128\n",
       " 3.92    0.339043\n",
       " 3.94    0.678085\n",
       " 3.96    0.678085\n",
       " 3.98    0.678085\n",
       "Name: 4, Length: 399, dtype: float64"
      ]
     },
     "execution_count": 10,
     "metadata": {},
     "output_type": "execute_result"
    }
   ],
   "source": [
    "cc_wake[3][4]"
   ]
  },
  {
   "cell_type": "code",
   "execution_count": 11,
   "metadata": {},
   "outputs": [
    {
     "data": {
      "text/plain": [
       "-3.98    0.942753\n",
       "-3.96    0.892960\n",
       "-3.94    0.922836\n",
       "-3.92    0.989227\n",
       "-3.90    0.942753\n",
       "           ...   \n",
       " 3.90    0.883001\n",
       " 3.92    0.896279\n",
       " 3.94    0.992546\n",
       " 3.96    0.965990\n",
       " 3.98    0.892960\n",
       "Name: 2, Length: 399, dtype: float64"
      ]
     },
     "execution_count": 11,
     "metadata": {},
     "output_type": "execute_result"
    }
   ],
   "source": [
    "cc_wake[0][2]"
   ]
  },
  {
   "cell_type": "code",
   "execution_count": 12,
   "metadata": {},
   "outputs": [
    {
     "data": {
      "text/plain": [
       "Text(0.5, 0, 'Time (s) around firing on Neuron 7')"
      ]
     },
     "execution_count": 12,
     "metadata": {},
     "output_type": "execute_result"
    },
    {
     "data": {
      "image/png": "[encoded data removed]",
      "text/plain": [
       "<Figure size 640x480 with 2 Axes>"
      ]
     },
     "metadata": {},
     "output_type": "display_data"
    }
   ],
   "source": [
    "xtwake = cc_wake.index.values\n",
    "plt.subplot(121)\n",
    "plt.fill_between(\n",
    "    xtwake, np.zeros_like(xtwake), cc_wake[0][1].values, color=\"k\"\n",
    ")\n",
    "plt.title(\"Unit0 and Unit1\")\n",
    "plt.ylabel(\"Norm. Firing Rate (Hz) of Unit0\")\n",
    "plt.xlabel(\"Time (s) around firing on Neuron 1\")\n",
    "plt.subplot(122)\n",
    "plt.fill_between(\n",
    "    xtwake, np.zeros_like(xtwake), cc_wake[0][7].values, color=\"k\"\n",
    ")\n",
    "plt.title('Unit0 and Unit7')\n",
    "plt.xlabel(\"Time (s) around firing on Neuron 7\")\n"
   ]
  },
  {
   "cell_type": "code",
   "execution_count": 18,
   "metadata": {},
   "outputs": [
    {
     "data": {
      "text/plain": [
       "array([2.07920643, 1.73267202, 1.84818349, 1.84818349, 1.32838189,\n",
       "       1.50164909, 1.32838189, 2.0214507 , 1.90593923, 1.96369496,\n",
       "       1.55940482, 1.32838189, 1.44389335, 1.90593923, 1.73267202,\n",
       "       2.31022937, 1.67491629, 1.79042776, 1.67491629, 2.1947179 ,\n",
       "       1.90593923, 1.73267202, 2.13696216, 1.73267202, 1.84818349,\n",
       "       1.79042776, 2.1947179 , 1.67491629, 2.0214507 , 1.73267202,\n",
       "       1.79042776, 2.31022937, 1.27062615, 1.79042776, 1.44389335,\n",
       "       1.84818349, 1.67491629, 1.32838189, 1.73267202, 1.38613762,\n",
       "       1.38613762, 1.27062615, 1.27062615, 1.96369496, 1.61716056,\n",
       "       1.90593923, 1.61716056, 1.79042776, 2.07920643, 2.07920643,\n",
       "       1.90593923, 1.61716056, 2.31022937, 1.84818349, 2.07920643,\n",
       "       2.07920643, 1.73267202, 1.84818349, 2.07920643, 1.67491629,\n",
       "       1.27062615, 1.84818349, 2.13696216, 1.79042776, 2.48349657,\n",
       "       1.96369496, 1.96369496, 2.0214507 , 1.73267202, 1.79042776,\n",
       "       2.13696216, 1.96369496, 1.73267202, 2.48349657, 1.90593923,\n",
       "       2.07920643, 1.61716056, 2.0214507 , 1.96369496, 2.3679851 ,\n",
       "       2.07920643, 1.73267202, 1.84818349, 2.07920643, 1.90593923,\n",
       "       2.13696216, 2.25247363, 2.0214507 , 1.67491629, 2.0214507 ,\n",
       "       1.79042776, 1.79042776, 2.48349657, 1.50164909, 2.07920643,\n",
       "       2.1947179 , 1.73267202, 1.67491629, 2.25247363, 2.0214507 ,\n",
       "       1.96369496, 1.84818349, 1.73267202, 1.50164909, 1.61716056,\n",
       "       1.90593923, 1.73267202, 1.79042776, 1.61716056, 2.07920643,\n",
       "       1.38613762, 2.07920643, 1.79042776, 1.79042776, 1.44389335,\n",
       "       1.67491629, 1.84818349, 1.61716056, 1.55940482, 1.79042776,\n",
       "       1.84818349, 1.84818349, 2.13696216, 1.79042776, 2.07920643,\n",
       "       1.73267202, 2.42574083, 1.96369496, 1.96369496, 1.67491629,\n",
       "       2.3679851 , 2.5412523 , 1.55940482, 1.79042776, 1.67491629,\n",
       "       2.25247363, 1.50164909, 2.31022937, 1.73267202, 1.96369496,\n",
       "       1.73267202, 1.79042776, 1.73267202, 1.73267202, 2.0214507 ,\n",
       "       1.84818349, 1.67491629, 1.61716056, 1.96369496, 1.79042776,\n",
       "       1.96369496, 1.84818349, 2.25247363, 1.61716056, 1.96369496,\n",
       "       1.79042776, 2.1947179 , 1.55940482, 1.84818349, 2.31022937,\n",
       "       2.07920643, 2.3679851 , 2.07920643, 2.31022937, 2.0214507 ,\n",
       "       1.90593923, 1.96369496, 1.90593923, 2.0214507 , 2.5412523 ,\n",
       "       1.44389335, 2.42574083, 2.59900804, 2.83003097, 2.07920643,\n",
       "       2.42574083, 2.42574083, 2.31022937, 2.3679851 , 2.3679851 ,\n",
       "       2.71451951, 2.25247363, 2.48349657, 3.23432111, 2.13696216,\n",
       "       2.42574083, 2.25247363, 2.42574083, 2.48349657, 3.34983258,\n",
       "       2.3679851 , 2.88778671, 2.94554244, 3.17656538, 2.25247363,\n",
       "       3.29207685, 3.17656538, 2.3679851 , 2.48349657, 2.65676377,\n",
       "       2.31022937, 2.5412523 , 2.1947179 , 2.59900804, 2.5412523 ,\n",
       "       2.65676377, 3.06105391, 1.73267202, 2.5412523 , 2.13696216,\n",
       "       2.94554244, 2.13696216, 1.67491629, 2.48349657, 2.65676377,\n",
       "       2.48349657, 2.71451951, 2.59900804, 2.42574083, 2.1947179 ,\n",
       "       2.07920643, 2.42574083, 2.3679851 , 2.65676377, 1.67491629,\n",
       "       2.31022937, 1.96369496, 2.3679851 , 2.25247363, 2.5412523 ,\n",
       "       2.1947179 , 2.3679851 , 2.0214507 , 2.13696216, 2.0214507 ,\n",
       "       2.07920643, 2.5412523 , 2.31022937, 2.3679851 , 2.07920643,\n",
       "       2.0214507 , 1.61716056, 1.67491629, 1.90593923, 2.5412523 ,\n",
       "       1.90593923, 2.31022937, 1.96369496, 2.59900804, 2.13696216,\n",
       "       1.96369496, 1.73267202, 1.79042776, 1.90593923, 2.0214507 ,\n",
       "       1.90593923, 1.90593923, 1.73267202, 1.73267202, 2.1947179 ,\n",
       "       1.79042776, 2.13696216, 2.1947179 , 2.13696216, 1.67491629,\n",
       "       1.32838189, 1.73267202, 1.96369496, 1.84818349, 1.96369496,\n",
       "       1.38613762, 2.42574083, 1.84818349, 1.27062615, 1.84818349,\n",
       "       1.55940482, 1.90593923, 1.73267202, 1.67491629, 1.84818349,\n",
       "       2.1947179 , 1.67491629, 1.96369496, 2.31022937, 1.55940482,\n",
       "       1.84818349, 2.13696216, 2.13696216, 1.44389335, 1.67491629,\n",
       "       1.67491629, 2.07920643, 1.44389335, 2.3679851 , 1.55940482,\n",
       "       1.90593923, 1.67491629, 1.61716056, 2.25247363, 2.0214507 ,\n",
       "       2.13696216, 1.84818349, 1.96369496, 1.84818349, 2.13696216,\n",
       "       2.48349657, 1.90593923, 1.32838189, 1.84818349, 1.90593923,\n",
       "       1.96369496, 1.73267202, 1.73267202, 1.73267202, 2.1947179 ,\n",
       "       2.71451951, 1.96369496, 2.31022937, 2.07920643, 2.48349657,\n",
       "       2.13696216, 1.90593923, 2.1947179 , 2.48349657, 2.0214507 ,\n",
       "       2.1947179 , 1.67491629, 1.84818349, 2.13696216, 2.31022937,\n",
       "       2.13696216, 2.0214507 , 2.13696216, 2.31022937, 2.1947179 ,\n",
       "       2.65676377, 1.79042776, 2.07920643, 1.67491629, 2.59900804,\n",
       "       2.5412523 , 1.55940482, 2.0214507 , 1.84818349, 1.67491629,\n",
       "       1.50164909, 1.50164909, 1.50164909, 2.0214507 , 1.73267202,\n",
       "       1.90593923, 1.73267202, 1.73267202, 1.67491629, 1.79042776,\n",
       "       1.79042776, 1.27062615, 1.44389335, 1.96369496, 2.1947179 ,\n",
       "       1.44389335, 1.38613762, 1.55940482, 1.38613762, 1.73267202,\n",
       "       2.1947179 , 1.61716056, 1.38613762, 1.32838189, 1.44389335,\n",
       "       1.79042776, 1.38613762, 1.27062615, 1.44389335, 1.73267202,\n",
       "       1.79042776, 1.73267202, 1.96369496, 1.55940482, 1.79042776,\n",
       "       1.73267202, 1.67491629, 2.07920643, 1.61716056, 1.90593923,\n",
       "       2.07920643, 1.79042776, 2.07920643, 1.50164909, 1.27062615,\n",
       "       1.90593923, 1.67491629, 1.38613762, 1.73267202, 1.67491629,\n",
       "       1.67491629, 1.55940482, 1.44389335, 1.67491629])"
      ]
     },
     "execution_count": 18,
     "metadata": {},
     "output_type": "execute_result"
    }
   ],
   "source": [
    "cc_wake[0][7].values"
   ]
  },
  {
   "cell_type": "markdown",
   "metadata": {},
   "source": [
    "# Exploring the LFP data\n",
    "\n",
    "You can specifically select the \"CSC1\" channel as such:\n"
   ]
  },
  {
   "cell_type": "code",
   "execution_count": 20,
   "metadata": {},
   "outputs": [
    {
     "data": {
      "text/plain": [
       "Time (s)\n",
       "-------------  ---------\n",
       "8145.353771    -22.7973\n",
       "8145.35380225  -25.5135\n",
       "8145.3538335   -17.3345\n",
       "8145.35386475   -6.89718\n",
       "8145.353896     -9.49126\n",
       "...\n",
       "9466.121646     -2.07526\n",
       "9466.12167725   -1.06815\n",
       "9466.1217085     1.03763\n",
       "9466.12173975    2.28889\n",
       "9466.121771     -6.13422\n",
       "dtype: float64, shape: (40848770,)"
      ]
     },
     "execution_count": 20,
     "metadata": {},
     "output_type": "execute_result"
    }
   ],
   "source": [
    "data['ElectricalSeries'][\"CSC1\"]"
   ]
  },
  {
   "cell_type": "markdown",
   "metadata": {},
   "source": [
    "## Indexing with Pynapple"
   ]
  },
  {
   "cell_type": "code",
   "execution_count": 56,
   "metadata": {},
   "outputs": [
    {
     "name": "stdout",
     "output_type": "stream",
     "text": [
      "         start          end\n",
      "0  8145.353771  8446.868771\n",
      "Time (s)             CSC1      CSC2      CSC3      CSC4       CSC5  ...\n",
      "-------------  ----------  --------  --------  --------  ---------  -----\n",
      "8145.353771     -22.7973   -26.4595  -18.5247  -25.8492    8.72829  ...\n",
      "8145.35380225   -25.5135   -28.2296  -16.1138  -26.2764   24.2012   ...\n",
      "8145.3538335    -17.3345   -29.4198  -17.7007  -27.1004   20.1117   ...\n",
      "8145.35386475    -6.89718  -29.2367  -20.3558  -27.7718    1.67852  ...\n",
      "8145.353896      -9.49126  -29.7861  -23.896   -27.8939  -12.3905   ...\n",
      "...\n",
      "8446.868646    -104.801    -90.762   -98.6663  -86.7641  -41.8409   ...\n",
      "8446.86867725   -90.5179   -74.6178  -84.1701  -74.1905  -31.251    ...\n",
      "8446.8687085    -79.989    -62.0746  -76.3268  -67.9342  -31.7393   ...\n",
      "8446.86873975   -79.0735   -65.0655  -79.8364  -70.6504  -37.0495   ...\n",
      "8446.868771     -86.1232   -75.9301  -86.9167  -75.7164  -35.2489   ...\n",
      "dtype: float64, shape: (9648481, 16)\n",
      "\n",
      "Indexing the first 10 data points from CSC1\n",
      "Time (s)\n",
      "----------  ----------\n",
      "8145.35     -22.7973\n",
      "8145.35     -25.5135\n",
      "8145.35     -17.3345\n",
      "8145.35      -6.89718\n",
      "8145.35      -9.49126\n",
      "8145.35     -14.4963\n",
      "8145.35      -7.87378\n",
      "8145.35       0.274667\n",
      "8145.35      -4.91348\n",
      "8145.35     -21.6376\n",
      "dtype: float64, shape: (10,)\n"
     ]
    }
   ],
   "source": [
    "# getting start and stop times to extract data\n",
    "events = data[\"epochs\"] # getting events from the NWB file\n",
    "start_time = events[\"rec0\"][\"start\"].to_numpy()[0]\n",
    "stop_time = events[\"rec0\"][\"end\"].to_numpy()[0]\n",
    "\n",
    "# restrict data to specific time points\n",
    "ep = nap.IntervalSet(start=start_time, end=stop_time)\n",
    "print(ep)\n",
    "rec0_data = data[\"ElectricalSeries\"].restrict(ep)\n",
    "print(rec0_data)\n",
    "\n",
    "# index\n",
    "print()\n",
    "print(\"Indexing the first 10 data points from CSC1\")\n",
    "print(rec0_data[\"CSC1\"][0:10])\n"
   ]
  },
  {
   "cell_type": "markdown",
   "metadata": {},
   "source": [
    "## Power"
   ]
  },
  {
   "cell_type": "code",
   "execution_count": null,
   "metadata": {},
   "outputs": [],
   "source": [
    "from scipy.signal import welch\n",
    "\n",
    "# getting start and stop times to extract data\n",
    "events = data[\"epochs\"] # getting events from the NWB file\n",
    "start_time = events[\"rec1\"][\"start\"].to_numpy()[0]\n",
    "stop_time = events[\"rec1\"][\"end\"].to_numpy()[0]\n",
    "\n",
    "# restrict data to specific time points\n",
    "ep = nap.IntervalSet(start=start_time, end=stop_time)\n",
    "rec1_data = data[\"ElectricalSeries\"].restrict(ep)\n",
    "\n",
    "# power analysis\n",
    "fs = 32000\n",
    "lfp = rec0_data[\"CSC1\"][0:32000]\n",
    "f,Ptemp = welch(lfp,fs,nperseg=fs) # welches\n",
    "idxspec = np.where((f>1) & (f<100)) # index to restrict\n",
    "fSpec = f[idxspec] # restrict\n",
    "PSpec = Ptemp[idxspec] #extract\n",
    "\n",
    "# log10 transform\n",
    "PSpecLog = np.log10(PSpec) # log transform"
   ]
  },
  {
   "cell_type": "markdown",
   "metadata": {},
   "source": [
    "# NWB to spikeinterface\n",
    "SpikeInterface has some really cool tools, specifically dedicated to spike sorting. Some of these tools can be used for things like data filtering and such"
   ]
  },
  {
   "cell_type": "code",
   "execution_count": 19,
   "metadata": {},
   "outputs": [],
   "source": [
    "import spikeinterface as si\n",
    "import spikeinterface.extractors as se\n",
    "from spikeinterface.preprocessing import bandpass_filter, common_reference, detect_bad_channels, remove_artifacts"
   ]
  },
  {
   "cell_type": "markdown",
   "metadata": {},
   "source": [
    "### Load in the NWB file that we created using decode_lab_code"
   ]
  },
  {
   "cell_type": "code",
   "execution_count": 20,
   "metadata": {},
   "outputs": [],
   "source": [
    "nwbdata = se.read_nwb_recording(file_path=nwbpath)"
   ]
  },
  {
   "cell_type": "markdown",
   "metadata": {},
   "source": [
    "##### Bandpass filter"
   ]
  },
  {
   "cell_type": "code",
   "execution_count": 21,
   "metadata": {},
   "outputs": [],
   "source": [
    "# bandpass filter\n",
    "recording_theta = bandpass_filter(recording=nwbdata, freq_min=4, freq_max=12)\n",
    "recording_fasto = bandpass_filter(recording=nwbdata, freq_min=300, freq_max=9000)"
   ]
  },
  {
   "cell_type": "markdown",
   "metadata": {},
   "source": [
    "#### Get recording traces"
   ]
  },
  {
   "cell_type": "code",
   "execution_count": 22,
   "metadata": {},
   "outputs": [],
   "source": [
    "traces = nwbdata.get_traces(start_frame=0, end_frame=32000, segment_index=0)\n",
    "filt_traces_theta = recording_theta.get_traces(start_frame=0, end_frame=32000)\n",
    "filt_traces_fasto = recording_fasto.get_traces(start_frame=0, end_frame=32000)\n"
   ]
  },
  {
   "cell_type": "code",
   "execution_count": 23,
   "metadata": {},
   "outputs": [
    {
     "data": {
      "text/plain": [
       "[<matplotlib.lines.Line2D at 0x2bbb0af40>,\n",
       " <matplotlib.lines.Line2D at 0x2bbb18070>,\n",
       " <matplotlib.lines.Line2D at 0x2bbb18160>,\n",
       " <matplotlib.lines.Line2D at 0x2bbb18250>,\n",
       " <matplotlib.lines.Line2D at 0x2bbb18340>,\n",
       " <matplotlib.lines.Line2D at 0x2bbb18430>,\n",
       " <matplotlib.lines.Line2D at 0x2bbb18520>,\n",
       " <matplotlib.lines.Line2D at 0x2bbb18610>,\n",
       " <matplotlib.lines.Line2D at 0x2bbb18700>,\n",
       " <matplotlib.lines.Line2D at 0x2bbb187f0>,\n",
       " <matplotlib.lines.Line2D at 0x2bbb188e0>,\n",
       " <matplotlib.lines.Line2D at 0x2bbb189d0>,\n",
       " <matplotlib.lines.Line2D at 0x2bbb18ac0>,\n",
       " <matplotlib.lines.Line2D at 0x2bbb18bb0>,\n",
       " <matplotlib.lines.Line2D at 0x2bbb18ca0>,\n",
       " <matplotlib.lines.Line2D at 0x2bbb18d90>]"
      ]
     },
     "execution_count": 23,
     "metadata": {},
     "output_type": "execute_result"
    },
    {
     "data": {
      "image/png": "[encoded data removed]",
      "text/plain": [
       "<Figure size 640x480 with 1 Axes>"
      ]
     },
     "metadata": {},
     "output_type": "display_data"
    }
   ],
   "source": [
    "plt.plot(traces[:,0],color='k')\n",
    "plt.plot(filt_traces_theta[:,0],color='r',linewidth=2)\n",
    "plt.plot(filt_traces_fasto,color='b',linewidth=1)"
   ]
  },
  {
   "cell_type": "markdown",
   "metadata": {},
   "source": [
    "## Rereference your signal"
   ]
  },
  {
   "cell_type": "code",
   "execution_count": 24,
   "metadata": {},
   "outputs": [],
   "source": [
    "rec_cmr = common_reference(recording=nwbdata, operator=\"median\", reference=\"global\")"
   ]
  },
  {
   "cell_type": "code",
   "execution_count": 25,
   "metadata": {},
   "outputs": [],
   "source": [
    "traces_cmr = rec_cmr.get_traces(start_frame=0, end_frame=32000, segment_index=0)\n",
    "filt_cmr_fasto = bandpass_filter(recording=rec_cmr, freq_min=300, freq_max=9000).get_traces(start_frame=0, end_frame=32000)"
   ]
  },
  {
   "cell_type": "code",
   "execution_count": 26,
   "metadata": {},
   "outputs": [
    {
     "data": {
      "text/plain": [
       "[<matplotlib.lines.Line2D at 0x2bbc23d30>,\n",
       " <matplotlib.lines.Line2D at 0x2bbc23e20>,\n",
       " <matplotlib.lines.Line2D at 0x2bbc23f10>,\n",
       " <matplotlib.lines.Line2D at 0x2bbc31040>,\n",
       " <matplotlib.lines.Line2D at 0x2bbc31130>,\n",
       " <matplotlib.lines.Line2D at 0x2bbc31220>,\n",
       " <matplotlib.lines.Line2D at 0x2bbc31310>,\n",
       " <matplotlib.lines.Line2D at 0x2bbc31400>,\n",
       " <matplotlib.lines.Line2D at 0x2bbc314f0>,\n",
       " <matplotlib.lines.Line2D at 0x2bbc315e0>,\n",
       " <matplotlib.lines.Line2D at 0x2bbc316d0>,\n",
       " <matplotlib.lines.Line2D at 0x2bbc317c0>,\n",
       " <matplotlib.lines.Line2D at 0x2bbc318b0>,\n",
       " <matplotlib.lines.Line2D at 0x2bbc319a0>,\n",
       " <matplotlib.lines.Line2D at 0x2bbc31a90>,\n",
       " <matplotlib.lines.Line2D at 0x2bbc31b80>]"
      ]
     },
     "execution_count": 26,
     "metadata": {},
     "output_type": "execute_result"
    },
    {
     "data": {
      "image/png": "[encoded data removed]",
      "text/plain": [
       "<Figure size 640x480 with 2 Axes>"
      ]
     },
     "metadata": {},
     "output_type": "display_data"
    }
   ],
   "source": [
    "plt.subplot(1,2,1)\n",
    "plt.plot(traces[:,0],color='k')\n",
    "plt.plot(traces_cmr[:,0],color='r')\n",
    "\n",
    "plt.subplot(1,2,2)\n",
    "plt.plot(filt_traces_fasto,color='k',linewidth=1)\n",
    "plt.plot(filt_cmr_fasto,color='r',linewidth=1)"
   ]
  },
  {
   "cell_type": "markdown",
   "metadata": {},
   "source": [
    "## Spike sorting"
   ]
  },
  {
   "cell_type": "code",
   "execution_count": 27,
   "metadata": {},
   "outputs": [],
   "source": [
    "from spikeinterface.sorters import run_sorter"
   ]
  }
 ],
 "metadata": {
  "kernelspec": {
   "display_name": "decode_lab_env",
   "language": "python",
   "name": "python3"
  },
  "language_info": {
   "codemirror_mode": {
    "name": "ipython",
    "version": 3
   },
   "file_extension": ".py",
   "mimetype": "text/x-python",
   "name": "python",
   "nbconvert_exporter": "python",
   "pygments_lexer": "ipython3",
   "version": "3.9.18"
  },
  "orig_nbformat": 4
 },
 "nbformat": 4,
 "nbformat_minor": 2
}
