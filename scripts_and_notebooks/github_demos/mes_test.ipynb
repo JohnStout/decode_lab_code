{
 "cells": [
  {
   "cell_type": "code",
   "execution_count": 1,
   "id": "d4c140bb-ea06-4c4b-a978-1a5560c271df",
   "metadata": {},
   "outputs": [],
   "source": [
    "from copy import deepcopy\n",
    "import os\n",
    "\n",
    "import fastplotlib as fpl\n",
    "import numpy as np\n",
    "\n",
    "import mesmerize_core as mc\n",
    "import mesmerize_viz"
   ]
  },
  {
   "cell_type": "code",
   "execution_count": 2,
   "id": "73777444-2576-47b4-ba1b-e42e0bbf5703",
   "metadata": {},
   "outputs": [
    {
     "data": {
      "application/vnd.jupyter.widget-view+json": {
       "model_id": "14de979b13dd47458416cfa3969de147",
       "version_major": 2,
       "version_minor": 0
      },
      "text/plain": [
       "RFBOutputContext()"
      ]
     },
     "metadata": {},
     "output_type": "display_data"
    },
    {
     "name": "stderr",
     "output_type": "stream",
     "text": [
      "/Users/js0403/anaconda3/envs/mescore/lib/python3.11/site-packages/fastplotlib/graphics/_features/_base.py:34: UserWarning: converting float64 array to float32\n",
      "  warn(f\"converting {array.dtype} array to float32\")\n"
     ]
    },
    {
     "data": {
      "application/vnd.jupyter.widget-view+json": {
       "model_id": "4010e6bcac5c4c59bf57bd3f74b3330f",
       "version_major": 2,
       "version_minor": 0
      },
      "text/plain": [
       "JupyterOutputContext(children=(JupyterWgpuCanvas(), IpywidgetToolBar(children=(Button(icon='expand-arrows-alt'…"
      ]
     },
     "execution_count": 2,
     "metadata": {},
     "output_type": "execute_result"
    }
   ],
   "source": [
    "imgs = [np.random.rand(100, 100, 100)] * 3\n",
    "iw = fpl.ImageWidget(imgs)\n",
    "iw.show()"
   ]
  },
  {
   "cell_type": "code",
   "execution_count": 3,
   "id": "741fee1a-8c09-4aa8-9f74-5c911e51778d",
   "metadata": {
    "tags": []
   },
   "outputs": [],
   "source": [
    "from mesmerize_core.caiman_extensions.cnmf import cnmf_cache"
   ]
  },
  {
   "cell_type": "code",
   "execution_count": 4,
   "id": "f88409cd-f3c5-44ff-b985-e2a0f3ddd4eb",
   "metadata": {
    "tags": []
   },
   "outputs": [],
   "source": [
    "if os.name == \"nt\":\n",
    "    # disable the cache on windows, this will be automatic in a future version\n",
    "    cnmf_cache.set_maxsize(0)"
   ]
  },
  {
   "cell_type": "code",
   "execution_count": 5,
   "id": "eda54925-de61-46d0-9cd3-05d293324644",
   "metadata": {},
   "outputs": [],
   "source": [
    "# Mac users!\n",
    "# temporary patch for Mac, won't be necessary in next release\n",
    "# Thanks Ryan Ly for the PR! :D I need to dig into it more before merging\n",
    "# conda_prefix_1_str = os.environ['CONDA_PREFIX'].replace(os.path.join(' ', 'envs', 'mescore')[1:], '')\n",
    "# os.environ['CONDA_PREFIX_1'] = conda_prefix_1_str"
   ]
  },
  {
   "cell_type": "markdown",
   "id": "547f90d2-4525-46c0-87b8-781f6fc88a0d",
   "metadata": {},
   "source": [
    "# Set `caiman_data` path"
   ]
  },
  {
   "cell_type": "code",
   "execution_count": 6,
   "id": "21645875-84b4-4966-baa4-8771e67c1a9e",
   "metadata": {
    "pycharm": {
     "name": "#%%\n"
    }
   },
   "outputs": [
    {
     "data": {
      "text/plain": [
       "PosixPath('/Users/js0403/caiman_data')"
      ]
     },
     "execution_count": 6,
     "metadata": {},
     "output_type": "execute_result"
    }
   ],
   "source": [
    "mc.set_parent_raw_data_path(\"/Users/js0403/caiman_data/\")"
   ]
  },
  {
   "cell_type": "code",
   "execution_count": 7,
   "id": "da02418a-fdaa-4dea-b235-819b1ed0546b",
   "metadata": {
    "pycharm": {
     "name": "#%%\n"
    }
   },
   "outputs": [],
   "source": [
    "batch_path = mc.get_parent_raw_data_path().joinpath(\"minimal_test/batch.pickle\")"
   ]
  },
  {
   "cell_type": "code",
   "execution_count": 8,
   "id": "615db230-a1f2-4e1c-851f-556483fd6272",
   "metadata": {
    "pycharm": {
     "name": "#%%\n"
    }
   },
   "outputs": [
    {
     "data": {
      "text/html": [
       "<div>\n",
       "<style scoped>\n",
       "    .dataframe tbody tr th:only-of-type {\n",
       "        vertical-align: middle;\n",
       "    }\n",
       "\n",
       "    .dataframe tbody tr th {\n",
       "        vertical-align: top;\n",
       "    }\n",
       "\n",
       "    .dataframe thead th {\n",
       "        text-align: right;\n",
       "    }\n",
       "</style>\n",
       "<table border=\"1\" class=\"dataframe\">\n",
       "  <thead>\n",
       "    <tr style=\"text-align: right;\">\n",
       "      <th></th>\n",
       "      <th>algo</th>\n",
       "      <th>item_name</th>\n",
       "      <th>input_movie_path</th>\n",
       "      <th>params</th>\n",
       "      <th>outputs</th>\n",
       "      <th>added_time</th>\n",
       "      <th>ran_time</th>\n",
       "      <th>algo_duration</th>\n",
       "      <th>comments</th>\n",
       "      <th>uuid</th>\n",
       "    </tr>\n",
       "  </thead>\n",
       "  <tbody>\n",
       "  </tbody>\n",
       "</table>\n",
       "</div>"
      ],
      "text/plain": [
       "Empty DataFrame\n",
       "Columns: [algo, item_name, input_movie_path, params, outputs, added_time, ran_time, algo_duration, comments, uuid]\n",
       "Index: []"
      ]
     },
     "execution_count": 8,
     "metadata": {},
     "output_type": "execute_result"
    }
   ],
   "source": [
    "# create a new batch, delete if exist (for test purpose only, not for your real batches!)\n",
    "df = mc.create_batch(batch_path)\n",
    "df"
   ]
  },
  {
   "cell_type": "code",
   "execution_count": 9,
   "id": "133b52ee-30fa-4154-b9a2-1056f6c9d32d",
   "metadata": {},
   "outputs": [],
   "source": [
    "mcorr_params = {\n",
    "    \"main\":{\n",
    "        'max_shifts': [12, 12],\n",
    "        'strides': [32, 32],\n",
    "        'overlaps': [20, 20],\n",
    "        'max_deviation_rigid': 3,\n",
    "        'border_nan': 'copy',\n",
    "        'pw_rigid': True,\n",
    "        'gSig_filt': None,\n",
    "    }\n",
    "}"
   ]
  },
  {
   "cell_type": "code",
   "execution_count": 10,
   "id": "3842c2b8-a90c-45fe-bf92-c08d2c97839a",
   "metadata": {},
   "outputs": [],
   "source": [
    "df.caiman.add_item(\n",
    "    algo=\"mcorr\",\n",
    "    input_movie_path=mc.get_parent_raw_data_path().joinpath(\"example_movies/demoMovie.tif\"),\n",
    "    params=mcorr_params,\n",
    "    item_name=\"demo\",\n",
    ")"
   ]
  },
  {
   "cell_type": "code",
   "execution_count": 11,
   "id": "121aab8a-71e1-45e7-8b3a-0d4a395aa1cc",
   "metadata": {},
   "outputs": [
    {
     "data": {
      "text/html": [
       "<div>\n",
       "<style scoped>\n",
       "    .dataframe tbody tr th:only-of-type {\n",
       "        vertical-align: middle;\n",
       "    }\n",
       "\n",
       "    .dataframe tbody tr th {\n",
       "        vertical-align: top;\n",
       "    }\n",
       "\n",
       "    .dataframe thead th {\n",
       "        text-align: right;\n",
       "    }\n",
       "</style>\n",
       "<table border=\"1\" class=\"dataframe\">\n",
       "  <thead>\n",
       "    <tr style=\"text-align: right;\">\n",
       "      <th></th>\n",
       "      <th>algo</th>\n",
       "      <th>item_name</th>\n",
       "      <th>input_movie_path</th>\n",
       "      <th>params</th>\n",
       "      <th>outputs</th>\n",
       "      <th>added_time</th>\n",
       "      <th>ran_time</th>\n",
       "      <th>algo_duration</th>\n",
       "      <th>comments</th>\n",
       "      <th>uuid</th>\n",
       "    </tr>\n",
       "  </thead>\n",
       "  <tbody>\n",
       "    <tr>\n",
       "      <th>0</th>\n",
       "      <td>mcorr</td>\n",
       "      <td>demo</td>\n",
       "      <td>example_movies/demoMovie.tif</td>\n",
       "      <td>{'main': {'max_shifts': (12, 12), 'strides': (...</td>\n",
       "      <td>None</td>\n",
       "      <td>2023-11-08T12:27:27</td>\n",
       "      <td>None</td>\n",
       "      <td>None</td>\n",
       "      <td>None</td>\n",
       "      <td>dfc262c9-68e9-4dc4-bc30-dbc82bdba8f9</td>\n",
       "    </tr>\n",
       "  </tbody>\n",
       "</table>\n",
       "</div>"
      ],
      "text/plain": [
       "    algo item_name              input_movie_path  \\\n",
       "0  mcorr      demo  example_movies/demoMovie.tif   \n",
       "\n",
       "                                              params outputs  \\\n",
       "0  {'main': {'max_shifts': (12, 12), 'strides': (...    None   \n",
       "\n",
       "            added_time ran_time algo_duration comments  \\\n",
       "0  2023-11-08T12:27:27     None          None     None   \n",
       "\n",
       "                                   uuid  \n",
       "0  dfc262c9-68e9-4dc4-bc30-dbc82bdba8f9  "
      ]
     },
     "execution_count": 11,
     "metadata": {},
     "output_type": "execute_result"
    }
   ],
   "source": [
    "df"
   ]
  },
  {
   "cell_type": "code",
   "execution_count": 11,
   "id": "309301d3-f8ab-46a7-8eb9-3e4816ff748f",
   "metadata": {},
   "outputs": [
    {
     "name": "stdout",
     "output_type": "stream",
     "text": [
      "starting mc\n",
      "mc finished successfully!\n",
      "computing projections\n",
      "Computing correlation image\n"
     ]
    },
    {
     "name": "stderr",
     "output_type": "stream",
     "text": [
      "100%|██████████| 1/1 [00:00<00:00, 50.80it/s]\n",
      "100%|██████████| 1/1 [00:00<00:00, 45.59it/s]\n"
     ]
    },
    {
     "name": "stdout",
     "output_type": "stream",
     "text": [
      "finished computing correlation image\n"
     ]
    }
   ],
   "source": [
    "df.iloc[-1].caiman.run()\n",
    "\n",
    "df = df.caiman.reload_from_disk()"
   ]
  },
  {
   "cell_type": "code",
   "execution_count": 12,
   "id": "3f75d475-b8fe-48b2-b280-802d21b1f296",
   "metadata": {},
   "outputs": [
    {
     "name": "stderr",
     "output_type": "stream",
     "text": [
      "/Users/js0403/anaconda3/envs/mescore/lib/python3.11/site-packages/ipydatagrid/datagrid.py:460: UserWarning: Index name of 'index' is not round-trippable.\n",
      "  schema = pd.io.json.build_table_schema(dataframe)\n"
     ]
    },
    {
     "data": {
      "application/vnd.jupyter.widget-view+json": {
       "model_id": "41964ceb8cf44db2bfc0a1c639840d88",
       "version_major": 2,
       "version_minor": 0
      },
      "text/plain": [
       "RFBOutputContext()"
      ]
     },
     "metadata": {},
     "output_type": "display_data"
    },
    {
     "name": "stderr",
     "output_type": "stream",
     "text": [
      "/Users/js0403/anaconda3/envs/mescore/lib/python3.11/site-packages/fastplotlib/graphics/_features/_base.py:34: UserWarning: converting float64 array to float32\n",
      "  warn(f\"converting {array.dtype} array to float32\")\n"
     ]
    },
    {
     "data": {
      "application/vnd.jupyter.widget-view+json": {
       "model_id": "f0c6f6bcf6a94994b3e45ee683dff626",
       "version_major": 2,
       "version_minor": 0
      },
      "text/plain": [
       "VBox(children=(HBox(children=(DataGrid(auto_fit_params={'area': 'all', 'padding': 30, 'numCols': None}, base_r…"
      ]
     },
     "execution_count": 12,
     "metadata": {},
     "output_type": "execute_result"
    }
   ],
   "source": [
    "viz = df.mcorr.viz(data_options=[\"input\", \"mcorr\"], image_widget_kwargs={\"grid_plot_kwargs\": {\"size\": (700, 300)}})\n",
    "viz.show()"
   ]
  },
  {
   "cell_type": "code",
   "execution_count": 13,
   "id": "3477b756-151f-403d-835a-6f3f4d6ee5da",
   "metadata": {},
   "outputs": [],
   "source": [
    "# some params for CNMF\n",
    "params_cnmf =\\\n",
    "{\n",
    "    'main': # indicates that these are the \"main\" params for the CNMF algo\n",
    "        {\n",
    "            'fr': 30, # framerate, very important!\n",
    "            'p': 1,\n",
    "            'nb': 2,\n",
    "            'merge_thr': 0.9,\n",
    "            'rf': 20,\n",
    "            'stride': 12, # \"stride\" for cnmf, \"strides\" for mcorr\n",
    "            'K': 4,\n",
    "            'gSig': [4, 4],\n",
    "            'method_init': 'greedy_roi',\n",
    "            'min_SNR': 2.0,\n",
    "            'rval_thr': 0.7,\n",
    "            'use_cnn': True,\n",
    "            'min_cnn_thr': 0.8,\n",
    "            'cnn_lowest': 0.1,\n",
    "            'decay_time': 0.4,\n",
    "        },\n",
    "    'refit': True, # If `True`, run a second iteration of CNMF\n",
    "}"
   ]
  },
  {
   "cell_type": "code",
   "execution_count": 14,
   "id": "c274955b-5297-46f3-9ae4-056c5cf176c3",
   "metadata": {},
   "outputs": [
    {
     "data": {
      "text/html": [
       "<div>\n",
       "<style scoped>\n",
       "    .dataframe tbody tr th:only-of-type {\n",
       "        vertical-align: middle;\n",
       "    }\n",
       "\n",
       "    .dataframe tbody tr th {\n",
       "        vertical-align: top;\n",
       "    }\n",
       "\n",
       "    .dataframe thead th {\n",
       "        text-align: right;\n",
       "    }\n",
       "</style>\n",
       "<table border=\"1\" class=\"dataframe\">\n",
       "  <thead>\n",
       "    <tr style=\"text-align: right;\">\n",
       "      <th></th>\n",
       "      <th>algo</th>\n",
       "      <th>item_name</th>\n",
       "      <th>input_movie_path</th>\n",
       "      <th>params</th>\n",
       "      <th>outputs</th>\n",
       "      <th>added_time</th>\n",
       "      <th>ran_time</th>\n",
       "      <th>algo_duration</th>\n",
       "      <th>comments</th>\n",
       "      <th>uuid</th>\n",
       "    </tr>\n",
       "  </thead>\n",
       "  <tbody>\n",
       "    <tr>\n",
       "      <th>0</th>\n",
       "      <td>mcorr</td>\n",
       "      <td>demo</td>\n",
       "      <td>example_movies/demoMovie.tif</td>\n",
       "      <td>{'main': {'max_shifts': (12, 12), 'strides': (...</td>\n",
       "      <td>{'mean-projection-path': 19ddaf1f-5520-4dfb-a6...</td>\n",
       "      <td>2023-11-09T17:12:56</td>\n",
       "      <td>2023-11-09T17:13:16</td>\n",
       "      <td>10.5 sec</td>\n",
       "      <td>None</td>\n",
       "      <td>19ddaf1f-5520-4dfb-a61d-391ba6b6007f</td>\n",
       "    </tr>\n",
       "    <tr>\n",
       "      <th>1</th>\n",
       "      <td>cnmf</td>\n",
       "      <td>demo</td>\n",
       "      <td>19ddaf1f-5520-4dfb-a61d-391ba6b6007f/19ddaf1f-...</td>\n",
       "      <td>{'main': {'fr': 30, 'p': 1, 'nb': 2, 'merge_th...</td>\n",
       "      <td>None</td>\n",
       "      <td>2023-11-09T17:13:21</td>\n",
       "      <td>None</td>\n",
       "      <td>None</td>\n",
       "      <td>None</td>\n",
       "      <td>d12c4836-7ac3-4a01-9cd9-b4ed26ace4d7</td>\n",
       "    </tr>\n",
       "  </tbody>\n",
       "</table>\n",
       "</div>"
      ],
      "text/plain": [
       "    algo item_name                                   input_movie_path  \\\n",
       "0  mcorr      demo                       example_movies/demoMovie.tif   \n",
       "1   cnmf      demo  19ddaf1f-5520-4dfb-a61d-391ba6b6007f/19ddaf1f-...   \n",
       "\n",
       "                                              params  \\\n",
       "0  {'main': {'max_shifts': (12, 12), 'strides': (...   \n",
       "1  {'main': {'fr': 30, 'p': 1, 'nb': 2, 'merge_th...   \n",
       "\n",
       "                                             outputs           added_time  \\\n",
       "0  {'mean-projection-path': 19ddaf1f-5520-4dfb-a6...  2023-11-09T17:12:56   \n",
       "1                                               None  2023-11-09T17:13:21   \n",
       "\n",
       "              ran_time algo_duration comments  \\\n",
       "0  2023-11-09T17:13:16      10.5 sec     None   \n",
       "1                 None          None     None   \n",
       "\n",
       "                                   uuid  \n",
       "0  19ddaf1f-5520-4dfb-a61d-391ba6b6007f  \n",
       "1  d12c4836-7ac3-4a01-9cd9-b4ed26ace4d7  "
      ]
     },
     "execution_count": 14,
     "metadata": {},
     "output_type": "execute_result"
    }
   ],
   "source": [
    "df.caiman.add_item(\n",
    "    algo=\"cnmf\",\n",
    "    input_movie_path=df.iloc[0],\n",
    "    params=params_cnmf,\n",
    "    item_name=\"demo\",\n",
    ")\n",
    "df"
   ]
  },
  {
   "cell_type": "code",
   "execution_count": 17,
   "id": "f20ecbc3-cb1f-4a2e-a4c4-a0f97aa638c2",
   "metadata": {},
   "outputs": [
    {
     "name": "stdout",
     "output_type": "stream",
     "text": [
      "************************************************************************\n",
      "\n",
      "Starting CNMF item:\n",
      "algo                                                             cnmf\n",
      "item_name                                                        demo\n",
      "input_movie_path    19ddaf1f-5520-4dfb-a61d-391ba6b6007f/19ddaf1f-...\n",
      "params              {'main': {'fr': 30, 'p': 1, 'nb': 2, 'merge_th...\n",
      "outputs                                                          None\n",
      "added_time                                        2023-11-09T17:13:21\n",
      "ran_time                                                         None\n",
      "algo_duration                                                    None\n",
      "comments                                                         None\n",
      "uuid                             d12c4836-7ac3-4a01-9cd9-b4ed26ace4d7\n",
      "Name: 1, dtype: object\n",
      "With params:{'main': {'fr': 30, 'p': 1, 'nb': 2, 'merge_thr': 0.9, 'rf': 20, 'stride': 12, 'K': 4, 'gSig': (4, 4), 'method_init': 'greedy_roi', 'min_SNR': 2.0, 'rval_thr': 0.7, 'use_cnn': True, 'min_cnn_thr': 0.8, 'cnn_lowest': 0.1, 'decay_time': 0.4}, 'refit': True}\n",
      "making memmap\n",
      "performing CNMF\n",
      "fitting images\n",
      "refitting\n",
      "performing eval\n",
      "GPU run not requested, disabling use of GPUs\n",
      "USING MODEL (keras API): /Users/js0403/caiman_data/model/cnn_model.json\n"
     ]
    },
    {
     "name": "stderr",
     "output_type": "stream",
     "text": [
      "2023-11-09 17:14:10.118094: W tensorflow/tsl/platform/profile_utils/cpu_utils.cc:128] Failed to get CPU frequency: 0 Hz\n"
     ]
    },
    {
     "name": "stdout",
     "output_type": "stream",
     "text": [
      "1/1 [==============================] - 0s 124ms/step\n"
     ]
    }
   ],
   "source": [
    "df.iloc[-1].caiman.run()\n",
    "df = df.caiman.reload_from_disk()"
   ]
  },
  {
   "cell_type": "code",
   "execution_count": 18,
   "id": "de531d39-6897-46fa-b2b1-4b8bef67290a",
   "metadata": {},
   "outputs": [
    {
     "name": "stderr",
     "output_type": "stream",
     "text": [
      "/Users/js0403/anaconda3/envs/mescore/lib/python3.11/site-packages/ipydatagrid/datagrid.py:460: UserWarning: Index name of 'index' is not round-trippable.\n",
      "  schema = pd.io.json.build_table_schema(dataframe)\n"
     ]
    },
    {
     "data": {
      "application/vnd.jupyter.widget-view+json": {
       "model_id": "54b93a291bb64ed9a93e713d034b6761",
       "version_major": 2,
       "version_minor": 0
      },
      "text/plain": [
       "RFBOutputContext()"
      ]
     },
     "metadata": {},
     "output_type": "display_data"
    },
    {
     "data": {
      "application/vnd.jupyter.widget-view+json": {
       "model_id": "3430e1ee27fd4262b2780da8f63a6aa6",
       "version_major": 2,
       "version_minor": 0
      },
      "text/plain": [
       "RFBOutputContext()"
      ]
     },
     "metadata": {},
     "output_type": "display_data"
    },
    {
     "name": "stderr",
     "output_type": "stream",
     "text": [
      "/Users/js0403/anaconda3/envs/mescore/lib/python3.11/site-packages/fastplotlib/graphics/_features/_base.py:34: UserWarning: converting float64 array to float32\n",
      "  warn(f\"converting {array.dtype} array to float32\")\n"
     ]
    },
    {
     "data": {
      "application/vnd.jupyter.widget-view+json": {
       "model_id": "056f1a3dc8eb42b99715c4583bfb7a39",
       "version_major": 2,
       "version_minor": 0
      },
      "text/plain": [
       "RFBOutputContext()"
      ]
     },
     "metadata": {},
     "output_type": "display_data"
    },
    {
     "data": {
      "application/vnd.jupyter.widget-view+json": {
       "model_id": "6070cd6b3f9547c3abec4d7088f4c6ae",
       "version_major": 2,
       "version_minor": 0
      },
      "text/plain": [
       "VBox(children=(VBox(children=(HBox(children=(DataGrid(auto_fit_params={'area': 'all', 'padding': 30, 'numCols'…"
      ]
     },
     "execution_count": 18,
     "metadata": {},
     "output_type": "execute_result"
    },
    {
     "name": "stderr",
     "output_type": "stream",
     "text": [
      "/Users/js0403/anaconda3/envs/mescore/lib/python3.11/site-packages/fastplotlib/graphics/_features/_base.py:34: UserWarning: converting float64 array to float32\n",
      "  warn(f\"converting {array.dtype} array to float32\")\n"
     ]
    }
   ],
   "source": [
    "viz = df.cnmf.viz()\n",
    "viz.show()"
   ]
  },
  {
   "cell_type": "code",
   "execution_count": null,
   "id": "4326fc42-cf38-4ba8-851c-cd813eecfdfb",
   "metadata": {},
   "outputs": [],
   "source": []
  }
 ],
 "metadata": {
  "kernelspec": {
   "display_name": "Python 3 (ipykernel)",
   "language": "python",
   "name": "python3"
  },
  "language_info": {
   "codemirror_mode": {
    "name": "ipython",
    "version": 3
   },
   "file_extension": ".py",
   "mimetype": "text/x-python",
   "name": "python",
   "nbconvert_exporter": "python",
   "pygments_lexer": "ipython3",
   "version": "3.11.6"
  }
 },
 "nbformat": 4,
 "nbformat_minor": 5
}
