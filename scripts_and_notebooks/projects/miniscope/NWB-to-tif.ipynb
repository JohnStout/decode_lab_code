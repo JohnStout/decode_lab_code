{
 "cells": [
  {
   "cell_type": "markdown",
   "metadata": {},
   "source": [
    "# Extract and save-out your miniscope videos\n",
    "\n",
    "This notebook shows a user how to take their NWB file from the miniscope v4.4 and extract out the individual movies\n",
    "\n",
    "environment: \n",
    "\n",
    "        decode_lab_env"
   ]
  },
  {
   "cell_type": "code",
   "execution_count": 1,
   "metadata": {},
   "outputs": [],
   "source": [
    "# import our package\n",
    "from decode_lab_code.calcium_imaging.nwb_utils import nwb_to_tif"
   ]
  },
  {
   "cell_type": "code",
   "execution_count": 2,
   "metadata": {},
   "outputs": [
    {
     "name": "stdout",
     "output_type": "stream",
     "text": [
      "New folder created:  /Users/js0403/miniscope/122A_session2_nwbfile\n",
      "recording0.tif saved to /Users/js0403/miniscope/122A_session2_nwbfile\n",
      "recording1.tif saved to /Users/js0403/miniscope/122A_session2_nwbfile\n",
      "recording2.tif saved to /Users/js0403/miniscope/122A_session2_nwbfile\n",
      "recording3.tif saved to /Users/js0403/miniscope/122A_session2_nwbfile\n",
      "recording4.tif saved to /Users/js0403/miniscope/122A_session2_nwbfile\n",
      "recording5.tif saved to /Users/js0403/miniscope/122A_session2_nwbfile\n",
      "recording6.tif saved to /Users/js0403/miniscope/122A_session2_nwbfile\n",
      "recording7.tif saved to /Users/js0403/miniscope/122A_session2_nwbfile\n"
     ]
    }
   ],
   "source": [
    "# convert your data\n",
    "nwbpath = r'/Users/js0403/miniscope/122A_session2_nwbfile.nwb'\n",
    "nwb_to_tif(nwbpath=nwbpath)"
   ]
  }
 ],
 "metadata": {
  "kernelspec": {
   "display_name": "decode_lab_env",
   "language": "python",
   "name": "python3"
  },
  "language_info": {
   "codemirror_mode": {
    "name": "ipython",
    "version": 3
   },
   "file_extension": ".py",
   "mimetype": "text/x-python",
   "name": "python",
   "nbconvert_exporter": "python",
   "pygments_lexer": "ipython3",
   "version": "3.9.18"
  }
 },
 "nbformat": 4,
 "nbformat_minor": 2
}
