{
 "cells": [
  {
   "cell_type": "markdown",
   "metadata": {},
   "source": [
    "### Demo: converting OPHYS to NWB and then extracting relevant metadata for analysis\n",
    "Neurodata Without Borders (NWB) is a powerful tool for organizing your data for purposes such as:\n",
    "* data sharing\n",
    "* result reproduction\n",
    "* experiment organization\n",
    "\n",
    "Here is a demo showing its utility:\n",
    "_____"
   ]
  },
  {
   "cell_type": "markdown",
   "metadata": {},
   "source": [
    "### Relevant packages\n",
    "For Ophys, we must have the following packages:\n",
    "* `caiman`\n",
    "* `decode_lab_code`"
   ]
  },
  {
   "cell_type": "code",
   "execution_count": 1,
   "metadata": {},
   "outputs": [],
   "source": [
    "from datetime import datetime\n",
    "from uuid import uuid4\n",
    "\n",
    "import numpy as np\n",
    "\n",
    "from dateutil import tz\n",
    "\n",
    "from pynwb import NWBHDF5IO, NWBFile, TimeSeries\n",
    "from pynwb.behavior import Position, SpatialSeries\n",
    "from pynwb.epoch import TimeIntervals\n",
    "from pynwb.file import Subject\n",
    "\n",
    "from decode_lab_code.preprocessing.ophys.caiman_wrapper import caiman_preprocess"
   ]
  },
  {
   "cell_type": "markdown",
   "metadata": {},
   "source": [
    "### Lets build our NWB file using the ``NWBFile`` object"
   ]
  },
  {
   "cell_type": "code",
   "execution_count": 2,
   "metadata": {},
   "outputs": [],
   "source": [
    "session_start_time = datetime(2018, 4, 25, 2, 30, 3, tzinfo=tz.gettz(\"US/Pacific\"))\n",
    "# initialize the nwbfile\n",
    "nwbfile = NWBFile(\n",
    "    session_description=input(\"Enter description of your recording session: \"),  # required\n",
    "    identifier=str(uuid4()),  # required\n",
    "    session_start_time=session_start_time,  # required\n",
    "    session_id=input(\"Enter unique identifier for session: \"),  # optional\n",
    "    experimenter=[\n",
    "        input(\"Enter experimenter name: \"),\n",
    "    ],  # optional\n",
    "    lab=input(\"Enter lab name: \"),  # optional\n",
    "    institution=input(\"Enter institution name: \"),  # optional\n",
    "    experiment_description=input(\"Enter a description of your experiment\"),  # optional\n",
    "    related_publications=input(\"Enter any information about publication (if relevant)\"),  # optional\n",
    ")"
   ]
  },
  {
   "cell_type": "markdown",
   "metadata": {},
   "source": [
    "### Enter information about subject"
   ]
  },
  {
   "cell_type": "code",
   "execution_count": 3,
   "metadata": {},
   "outputs": [],
   "source": [
    "# enter information about subject\n",
    "nwbfile.subject = Subject(\n",
    "    subject_id=input(\"Enter subject ID: \"),\n",
    "    age=input(\"Enter subject age as such (PD100):  \"),\n",
    "    description=input(\"Enter subject identifier: \"),\n",
    "    species=input(\"Enter species name: \"),\n",
    "    sex=input(\"Enter sex of subject: \"),\n",
    ")"
   ]
  },
  {
   "cell_type": "markdown",
   "metadata": {},
   "source": [
    "### Add our data to the NWB file"
   ]
  },
  {
   "cell_type": "markdown",
   "metadata": {},
   "source": [
    "Interface with the user to get some information about directory"
   ]
  },
  {
   "cell_type": "code",
   "execution_count": 4,
   "metadata": {},
   "outputs": [],
   "source": [
    "# directory information\n",
    "folder_name = input(\"Enter the folder name for your data: \")\n",
    "fname_neuron = input(\"Enter file name with extension: \")\n",
    "frame_rate = float(input(\"Enter the frame rate: \"))"
   ]
  },
  {
   "cell_type": "markdown",
   "metadata": {},
   "source": [
    "By initializing the `caiman_process` object, we can then access the attribute `get_frames`, which allows us to directly extract the recorded video"
   ]
  },
  {
   "cell_type": "code",
   "execution_count": 5,
   "metadata": {},
   "outputs": [
    {
     "name": "stdout",
     "output_type": "stream",
     "text": [
      "Loading movie\n"
     ]
    },
    {
     "name": "stderr",
     "output_type": "stream",
     "text": [
      "100%|██████████| 1/1 [00:00<00:00,  3.59it/s]\n"
     ]
    }
   ],
   "source": [
    "# if you get the Error: \"Exception: A cluster is already runnning\", restart the kernel\n",
    "cp = caiman_preprocess(folder_name,fname_neuron,frame_rate,False) # False flag for preventing cluster\n",
    "\n",
    "# this wrapper function interfaces directly with caiman to extract our video\n",
    "data = cp.get_frames()\n",
    "cp.watch_movie()"
   ]
  },
  {
   "cell_type": "markdown",
   "metadata": {},
   "source": [
    "Lets view the video for fun"
   ]
  },
  {
   "cell_type": "markdown",
   "metadata": {},
   "source": [
    "### Now lets add the video to the NWB file"
   ]
  },
  {
   "cell_type": "code",
   "execution_count": 6,
   "metadata": {},
   "outputs": [],
   "source": [
    "time_series_with_rate = TimeSeries(\n",
    "    name=\"ophys\",\n",
    "    data=data,\n",
    "    unit=\"pixels\",\n",
    "    starting_time=0.0,\n",
    "    # I'm not sure if this is numsamples/sec or sec/numsamples\n",
    "    rate=frame_rate, # sampled every second (make sure this is correct***)\n",
    ")\n",
    "time_series_with_rate\n",
    "nwbfile.add_acquisition(time_series_with_rate)"
   ]
  },
  {
   "cell_type": "markdown",
   "metadata": {},
   "source": [
    "### We can save out our data"
   ]
  },
  {
   "cell_type": "code",
   "execution_count": 7,
   "metadata": {},
   "outputs": [],
   "source": [
    "# write\n",
    "with NWBHDF5IO(folder_name+\"/data_nwb.nwb\", \"w\") as io:\n",
    "    io.write(nwbfile)"
   ]
  },
  {
   "cell_type": "markdown",
   "metadata": {},
   "source": [
    "### Lets use nwbwidgets to see our data"
   ]
  },
  {
   "cell_type": "code",
   "execution_count": 10,
   "metadata": {},
   "outputs": [
    {
     "data": {
      "application/vnd.jupyter.widget-view+json": {
       "model_id": "956c6cd3013e47919253981c902bda7d",
       "version_major": 2,
       "version_minor": 0
      },
      "text/plain": [
       "VBox(children=(HBox(children=(Label(value='session_description:', layout=Layout(max_height='40px', max_width='…"
      ]
     },
     "execution_count": 10,
     "metadata": {},
     "output_type": "execute_result"
    },
    {
     "ename": "ValueError",
     "evalue": "Visualization for TimeSeries that has data with shape (514, 512, 512) not implemented",
     "output_type": "error",
     "traceback": [
      "\u001b[0;31m---------------------------------------------------------------------------\u001b[0m",
      "\u001b[0;31mValueError\u001b[0m                                Traceback (most recent call last)",
      "File \u001b[0;32m~/anaconda3/envs/caiman/lib/python3.10/site-packages/ipywidgets/widgets/widget.py:773\u001b[0m, in \u001b[0;36mWidget._handle_msg\u001b[0;34m(self, msg)\u001b[0m\n\u001b[1;32m    771\u001b[0m         \u001b[39mif\u001b[39;00m \u001b[39m'\u001b[39m\u001b[39mbuffer_paths\u001b[39m\u001b[39m'\u001b[39m \u001b[39min\u001b[39;00m data:\n\u001b[1;32m    772\u001b[0m             _put_buffers(state, data[\u001b[39m'\u001b[39m\u001b[39mbuffer_paths\u001b[39m\u001b[39m'\u001b[39m], msg[\u001b[39m'\u001b[39m\u001b[39mbuffers\u001b[39m\u001b[39m'\u001b[39m])\n\u001b[0;32m--> 773\u001b[0m         \u001b[39mself\u001b[39;49m\u001b[39m.\u001b[39;49mset_state(state)\n\u001b[1;32m    775\u001b[0m \u001b[39m# Handle a state request.\u001b[39;00m\n\u001b[1;32m    776\u001b[0m \u001b[39melif\u001b[39;00m method \u001b[39m==\u001b[39m \u001b[39m'\u001b[39m\u001b[39mrequest_state\u001b[39m\u001b[39m'\u001b[39m:\n",
      "File \u001b[0;32m~/anaconda3/envs/caiman/lib/python3.10/site-packages/ipywidgets/widgets/widget.py:650\u001b[0m, in \u001b[0;36mWidget.set_state\u001b[0;34m(self, sync_data)\u001b[0m\n\u001b[1;32m    645\u001b[0m         \u001b[39mself\u001b[39m\u001b[39m.\u001b[39m_send(msg, buffers\u001b[39m=\u001b[39mecho_buffers)\n\u001b[1;32m    647\u001b[0m \u001b[39m# The order of these context managers is important. Properties must\u001b[39;00m\n\u001b[1;32m    648\u001b[0m \u001b[39m# be locked when the hold_trait_notification context manager is\u001b[39;00m\n\u001b[1;32m    649\u001b[0m \u001b[39m# released and notifications are fired.\u001b[39;00m\n\u001b[0;32m--> 650\u001b[0m \u001b[39mwith\u001b[39;00m \u001b[39mself\u001b[39m\u001b[39m.\u001b[39m_lock_property(\u001b[39m*\u001b[39m\u001b[39m*\u001b[39msync_data), \u001b[39mself\u001b[39m\u001b[39m.\u001b[39mhold_trait_notifications():\n\u001b[1;32m    651\u001b[0m     \u001b[39mfor\u001b[39;00m name \u001b[39min\u001b[39;00m sync_data:\n\u001b[1;32m    652\u001b[0m         \u001b[39mif\u001b[39;00m name \u001b[39min\u001b[39;00m \u001b[39mself\u001b[39m\u001b[39m.\u001b[39mkeys:\n",
      "File \u001b[0;32m~/anaconda3/envs/caiman/lib/python3.10/contextlib.py:142\u001b[0m, in \u001b[0;36m_GeneratorContextManager.__exit__\u001b[0;34m(self, typ, value, traceback)\u001b[0m\n\u001b[1;32m    140\u001b[0m \u001b[39mif\u001b[39;00m typ \u001b[39mis\u001b[39;00m \u001b[39mNone\u001b[39;00m:\n\u001b[1;32m    141\u001b[0m     \u001b[39mtry\u001b[39;00m:\n\u001b[0;32m--> 142\u001b[0m         \u001b[39mnext\u001b[39;49m(\u001b[39mself\u001b[39;49m\u001b[39m.\u001b[39;49mgen)\n\u001b[1;32m    143\u001b[0m     \u001b[39mexcept\u001b[39;00m \u001b[39mStopIteration\u001b[39;00m:\n\u001b[1;32m    144\u001b[0m         \u001b[39mreturn\u001b[39;00m \u001b[39mFalse\u001b[39;00m\n",
      "File \u001b[0;32m~/anaconda3/envs/caiman/lib/python3.10/site-packages/traitlets/traitlets.py:1502\u001b[0m, in \u001b[0;36mHasTraits.hold_trait_notifications\u001b[0;34m(self)\u001b[0m\n\u001b[1;32m   1500\u001b[0m \u001b[39mfor\u001b[39;00m changes \u001b[39min\u001b[39;00m cache\u001b[39m.\u001b[39mvalues():\n\u001b[1;32m   1501\u001b[0m     \u001b[39mfor\u001b[39;00m change \u001b[39min\u001b[39;00m changes:\n\u001b[0;32m-> 1502\u001b[0m         \u001b[39mself\u001b[39;49m\u001b[39m.\u001b[39;49mnotify_change(change)\n",
      "File \u001b[0;32m~/anaconda3/envs/caiman/lib/python3.10/site-packages/ipywidgets/widgets/widget.py:701\u001b[0m, in \u001b[0;36mWidget.notify_change\u001b[0;34m(self, change)\u001b[0m\n\u001b[1;32m    698\u001b[0m     \u001b[39mif\u001b[39;00m name \u001b[39min\u001b[39;00m \u001b[39mself\u001b[39m\u001b[39m.\u001b[39mkeys \u001b[39mand\u001b[39;00m \u001b[39mself\u001b[39m\u001b[39m.\u001b[39m_should_send_property(name, \u001b[39mgetattr\u001b[39m(\u001b[39mself\u001b[39m, name)):\n\u001b[1;32m    699\u001b[0m         \u001b[39m# Send new state to front-end\u001b[39;00m\n\u001b[1;32m    700\u001b[0m         \u001b[39mself\u001b[39m\u001b[39m.\u001b[39msend_state(key\u001b[39m=\u001b[39mname)\n\u001b[0;32m--> 701\u001b[0m \u001b[39msuper\u001b[39;49m()\u001b[39m.\u001b[39;49mnotify_change(change)\n",
      "File \u001b[0;32m~/anaconda3/envs/caiman/lib/python3.10/site-packages/traitlets/traitlets.py:1517\u001b[0m, in \u001b[0;36mHasTraits.notify_change\u001b[0;34m(self, change)\u001b[0m\n\u001b[1;32m   1515\u001b[0m \u001b[39mdef\u001b[39;00m \u001b[39mnotify_change\u001b[39m(\u001b[39mself\u001b[39m, change):\n\u001b[1;32m   1516\u001b[0m \u001b[39m    \u001b[39m\u001b[39m\"\"\"Notify observers of a change event\"\"\"\u001b[39;00m\n\u001b[0;32m-> 1517\u001b[0m     \u001b[39mreturn\u001b[39;00m \u001b[39mself\u001b[39;49m\u001b[39m.\u001b[39;49m_notify_observers(change)\n",
      "File \u001b[0;32m~/anaconda3/envs/caiman/lib/python3.10/site-packages/traitlets/traitlets.py:1564\u001b[0m, in \u001b[0;36mHasTraits._notify_observers\u001b[0;34m(self, event)\u001b[0m\n\u001b[1;32m   1561\u001b[0m \u001b[39melif\u001b[39;00m \u001b[39misinstance\u001b[39m(c, EventHandler) \u001b[39mand\u001b[39;00m c\u001b[39m.\u001b[39mname \u001b[39mis\u001b[39;00m \u001b[39mnot\u001b[39;00m \u001b[39mNone\u001b[39;00m:\n\u001b[1;32m   1562\u001b[0m     c \u001b[39m=\u001b[39m \u001b[39mgetattr\u001b[39m(\u001b[39mself\u001b[39m, c\u001b[39m.\u001b[39mname)\n\u001b[0;32m-> 1564\u001b[0m c(event)\n",
      "File \u001b[0;32m~/anaconda3/envs/caiman/lib/python3.10/site-packages/nwbwidgets/base.py:189\u001b[0m, in \u001b[0;36mlazy_show_over_data.<locals>.on_selected_index\u001b[0;34m(change)\u001b[0m\n\u001b[1;32m    187\u001b[0m \u001b[39mdef\u001b[39;00m \u001b[39mon_selected_index\u001b[39m(change):\n\u001b[1;32m    188\u001b[0m     \u001b[39mif\u001b[39;00m change\u001b[39m.\u001b[39mnew \u001b[39mis\u001b[39;00m \u001b[39mnot\u001b[39;00m \u001b[39mNone\u001b[39;00m \u001b[39mand\u001b[39;00m \u001b[39misinstance\u001b[39m(change\u001b[39m.\u001b[39mowner\u001b[39m.\u001b[39mchildren[change\u001b[39m.\u001b[39mnew], widgets\u001b[39m.\u001b[39mHTML):\n\u001b[0;32m--> 189\u001b[0m         children[change\u001b[39m.\u001b[39mnew] \u001b[39m=\u001b[39m vis2widget(func_(list_[change\u001b[39m.\u001b[39;49mnew]))\n\u001b[1;32m    190\u001b[0m         change\u001b[39m.\u001b[39mowner\u001b[39m.\u001b[39mchildren \u001b[39m=\u001b[39m children\n",
      "File \u001b[0;32m~/anaconda3/envs/caiman/lib/python3.10/site-packages/nwbwidgets/view.py:123\u001b[0m, in \u001b[0;36mnwb2widget\u001b[0;34m(node, neurodata_vis_spec)\u001b[0m\n\u001b[1;32m    122\u001b[0m \u001b[39mdef\u001b[39;00m \u001b[39mnwb2widget\u001b[39m(node, neurodata_vis_spec\u001b[39m=\u001b[39mdefault_neurodata_vis_spec):\n\u001b[0;32m--> 123\u001b[0m     \u001b[39mreturn\u001b[39;00m nwb2widget_base(node, neurodata_vis_spec)\n",
      "File \u001b[0;32m~/anaconda3/envs/caiman/lib/python3.10/site-packages/nwbwidgets/base.py:204\u001b[0m, in \u001b[0;36mnwb2widget\u001b[0;34m(node, neurodata_vis_spec, **pass_kwargs)\u001b[0m\n\u001b[1;32m    202\u001b[0m             \u001b[39mreturn\u001b[39;00m lazy_tabs(spec, node)\n\u001b[1;32m    203\u001b[0m         \u001b[39melif\u001b[39;00m \u001b[39mcallable\u001b[39m(spec):\n\u001b[0;32m--> 204\u001b[0m             visualization \u001b[39m=\u001b[39m spec(node, neurodata_vis_spec\u001b[39m=\u001b[39;49mneurodata_vis_spec, \u001b[39m*\u001b[39;49m\u001b[39m*\u001b[39;49mpass_kwargs)\n\u001b[1;32m    205\u001b[0m             \u001b[39mreturn\u001b[39;00m vis2widget(visualization)\n\u001b[1;32m    206\u001b[0m out1 \u001b[39m=\u001b[39m widgets\u001b[39m.\u001b[39mOutput()\n",
      "File \u001b[0;32m~/anaconda3/envs/caiman/lib/python3.10/site-packages/nwbwidgets/base.py:83\u001b[0m, in \u001b[0;36mdict2accordion\u001b[0;34m(d, neurodata_vis_spec, **pass_kwargs)\u001b[0m\n\u001b[1;32m     81\u001b[0m \u001b[39mdef\u001b[39;00m \u001b[39mdict2accordion\u001b[39m(d: \u001b[39mdict\u001b[39m, neurodata_vis_spec: \u001b[39mdict\u001b[39m, \u001b[39m*\u001b[39m\u001b[39m*\u001b[39mpass_kwargs) \u001b[39m-\u001b[39m\u001b[39m>\u001b[39m widgets\u001b[39m.\u001b[39mWidget:\n\u001b[1;32m     82\u001b[0m     \u001b[39mif\u001b[39;00m \u001b[39mlen\u001b[39m(d) \u001b[39m==\u001b[39m \u001b[39m1\u001b[39m:\n\u001b[0;32m---> 83\u001b[0m         \u001b[39mreturn\u001b[39;00m nwb2widget(\u001b[39mlist\u001b[39;49m(d\u001b[39m.\u001b[39;49mvalues())[\u001b[39m0\u001b[39;49m], neurodata_vis_spec\u001b[39m=\u001b[39;49mneurodata_vis_spec)\n\u001b[1;32m     84\u001b[0m     children \u001b[39m=\u001b[39m [widgets\u001b[39m.\u001b[39mHTML(\u001b[39m\"\u001b[39m\u001b[39mRendering...\u001b[39m\u001b[39m\"\u001b[39m) \u001b[39mfor\u001b[39;00m _ \u001b[39min\u001b[39;00m d]\n\u001b[1;32m     85\u001b[0m     accordion \u001b[39m=\u001b[39m widgets\u001b[39m.\u001b[39mAccordion(children\u001b[39m=\u001b[39mchildren, selected_index\u001b[39m=\u001b[39m\u001b[39mNone\u001b[39;00m)\n",
      "File \u001b[0;32m~/anaconda3/envs/caiman/lib/python3.10/site-packages/nwbwidgets/base.py:204\u001b[0m, in \u001b[0;36mnwb2widget\u001b[0;34m(node, neurodata_vis_spec, **pass_kwargs)\u001b[0m\n\u001b[1;32m    202\u001b[0m             \u001b[39mreturn\u001b[39;00m lazy_tabs(spec, node)\n\u001b[1;32m    203\u001b[0m         \u001b[39melif\u001b[39;00m \u001b[39mcallable\u001b[39m(spec):\n\u001b[0;32m--> 204\u001b[0m             visualization \u001b[39m=\u001b[39m spec(node, neurodata_vis_spec\u001b[39m=\u001b[39;49mneurodata_vis_spec, \u001b[39m*\u001b[39;49m\u001b[39m*\u001b[39;49mpass_kwargs)\n\u001b[1;32m    205\u001b[0m             \u001b[39mreturn\u001b[39;00m vis2widget(visualization)\n\u001b[1;32m    206\u001b[0m out1 \u001b[39m=\u001b[39m widgets\u001b[39m.\u001b[39mOutput()\n",
      "File \u001b[0;32m~/anaconda3/envs/caiman/lib/python3.10/site-packages/nwbwidgets/timeseries.py:272\u001b[0m, in \u001b[0;36mshow_timeseries\u001b[0;34m(node, **kwargs)\u001b[0m\n\u001b[1;32m    270\u001b[0m     \u001b[39mreturn\u001b[39;00m BaseGroupedTraceWidget(node, \u001b[39m*\u001b[39m\u001b[39m*\u001b[39mkwargs)\n\u001b[1;32m    271\u001b[0m \u001b[39melse\u001b[39;00m:\n\u001b[0;32m--> 272\u001b[0m     \u001b[39mraise\u001b[39;00m \u001b[39mValueError\u001b[39;00m(\n\u001b[1;32m    273\u001b[0m         \u001b[39m\"\u001b[39m\u001b[39mVisualization for TimeSeries that has data with shape \u001b[39m\u001b[39m{}\u001b[39;00m\u001b[39m not implemented\u001b[39m\u001b[39m\"\u001b[39m\u001b[39m.\u001b[39mformat(node\u001b[39m.\u001b[39mdata\u001b[39m.\u001b[39mshape)\n\u001b[1;32m    274\u001b[0m     )\n",
      "\u001b[0;31mValueError\u001b[0m: Visualization for TimeSeries that has data with shape (514, 512, 512) not implemented"
     ]
    },
    {
     "ename": "ValueError",
     "evalue": "Visualization for TimeSeries that has data with shape (514, 512, 512) not implemented",
     "output_type": "error",
     "traceback": [
      "\u001b[0;31m---------------------------------------------------------------------------\u001b[0m",
      "\u001b[0;31mValueError\u001b[0m                                Traceback (most recent call last)",
      "File \u001b[0;32m~/anaconda3/envs/caiman/lib/python3.10/site-packages/ipywidgets/widgets/widget.py:773\u001b[0m, in \u001b[0;36mWidget._handle_msg\u001b[0;34m(self, msg)\u001b[0m\n\u001b[1;32m    771\u001b[0m         \u001b[39mif\u001b[39;00m \u001b[39m'\u001b[39m\u001b[39mbuffer_paths\u001b[39m\u001b[39m'\u001b[39m \u001b[39min\u001b[39;00m data:\n\u001b[1;32m    772\u001b[0m             _put_buffers(state, data[\u001b[39m'\u001b[39m\u001b[39mbuffer_paths\u001b[39m\u001b[39m'\u001b[39m], msg[\u001b[39m'\u001b[39m\u001b[39mbuffers\u001b[39m\u001b[39m'\u001b[39m])\n\u001b[0;32m--> 773\u001b[0m         \u001b[39mself\u001b[39;49m\u001b[39m.\u001b[39;49mset_state(state)\n\u001b[1;32m    775\u001b[0m \u001b[39m# Handle a state request.\u001b[39;00m\n\u001b[1;32m    776\u001b[0m \u001b[39melif\u001b[39;00m method \u001b[39m==\u001b[39m \u001b[39m'\u001b[39m\u001b[39mrequest_state\u001b[39m\u001b[39m'\u001b[39m:\n",
      "File \u001b[0;32m~/anaconda3/envs/caiman/lib/python3.10/site-packages/ipywidgets/widgets/widget.py:650\u001b[0m, in \u001b[0;36mWidget.set_state\u001b[0;34m(self, sync_data)\u001b[0m\n\u001b[1;32m    645\u001b[0m         \u001b[39mself\u001b[39m\u001b[39m.\u001b[39m_send(msg, buffers\u001b[39m=\u001b[39mecho_buffers)\n\u001b[1;32m    647\u001b[0m \u001b[39m# The order of these context managers is important. Properties must\u001b[39;00m\n\u001b[1;32m    648\u001b[0m \u001b[39m# be locked when the hold_trait_notification context manager is\u001b[39;00m\n\u001b[1;32m    649\u001b[0m \u001b[39m# released and notifications are fired.\u001b[39;00m\n\u001b[0;32m--> 650\u001b[0m \u001b[39mwith\u001b[39;00m \u001b[39mself\u001b[39m\u001b[39m.\u001b[39m_lock_property(\u001b[39m*\u001b[39m\u001b[39m*\u001b[39msync_data), \u001b[39mself\u001b[39m\u001b[39m.\u001b[39mhold_trait_notifications():\n\u001b[1;32m    651\u001b[0m     \u001b[39mfor\u001b[39;00m name \u001b[39min\u001b[39;00m sync_data:\n\u001b[1;32m    652\u001b[0m         \u001b[39mif\u001b[39;00m name \u001b[39min\u001b[39;00m \u001b[39mself\u001b[39m\u001b[39m.\u001b[39mkeys:\n",
      "File \u001b[0;32m~/anaconda3/envs/caiman/lib/python3.10/contextlib.py:142\u001b[0m, in \u001b[0;36m_GeneratorContextManager.__exit__\u001b[0;34m(self, typ, value, traceback)\u001b[0m\n\u001b[1;32m    140\u001b[0m \u001b[39mif\u001b[39;00m typ \u001b[39mis\u001b[39;00m \u001b[39mNone\u001b[39;00m:\n\u001b[1;32m    141\u001b[0m     \u001b[39mtry\u001b[39;00m:\n\u001b[0;32m--> 142\u001b[0m         \u001b[39mnext\u001b[39;49m(\u001b[39mself\u001b[39;49m\u001b[39m.\u001b[39;49mgen)\n\u001b[1;32m    143\u001b[0m     \u001b[39mexcept\u001b[39;00m \u001b[39mStopIteration\u001b[39;00m:\n\u001b[1;32m    144\u001b[0m         \u001b[39mreturn\u001b[39;00m \u001b[39mFalse\u001b[39;00m\n",
      "File \u001b[0;32m~/anaconda3/envs/caiman/lib/python3.10/site-packages/traitlets/traitlets.py:1502\u001b[0m, in \u001b[0;36mHasTraits.hold_trait_notifications\u001b[0;34m(self)\u001b[0m\n\u001b[1;32m   1500\u001b[0m \u001b[39mfor\u001b[39;00m changes \u001b[39min\u001b[39;00m cache\u001b[39m.\u001b[39mvalues():\n\u001b[1;32m   1501\u001b[0m     \u001b[39mfor\u001b[39;00m change \u001b[39min\u001b[39;00m changes:\n\u001b[0;32m-> 1502\u001b[0m         \u001b[39mself\u001b[39;49m\u001b[39m.\u001b[39;49mnotify_change(change)\n",
      "File \u001b[0;32m~/anaconda3/envs/caiman/lib/python3.10/site-packages/ipywidgets/widgets/widget.py:701\u001b[0m, in \u001b[0;36mWidget.notify_change\u001b[0;34m(self, change)\u001b[0m\n\u001b[1;32m    698\u001b[0m     \u001b[39mif\u001b[39;00m name \u001b[39min\u001b[39;00m \u001b[39mself\u001b[39m\u001b[39m.\u001b[39mkeys \u001b[39mand\u001b[39;00m \u001b[39mself\u001b[39m\u001b[39m.\u001b[39m_should_send_property(name, \u001b[39mgetattr\u001b[39m(\u001b[39mself\u001b[39m, name)):\n\u001b[1;32m    699\u001b[0m         \u001b[39m# Send new state to front-end\u001b[39;00m\n\u001b[1;32m    700\u001b[0m         \u001b[39mself\u001b[39m\u001b[39m.\u001b[39msend_state(key\u001b[39m=\u001b[39mname)\n\u001b[0;32m--> 701\u001b[0m \u001b[39msuper\u001b[39;49m()\u001b[39m.\u001b[39;49mnotify_change(change)\n",
      "File \u001b[0;32m~/anaconda3/envs/caiman/lib/python3.10/site-packages/traitlets/traitlets.py:1517\u001b[0m, in \u001b[0;36mHasTraits.notify_change\u001b[0;34m(self, change)\u001b[0m\n\u001b[1;32m   1515\u001b[0m \u001b[39mdef\u001b[39;00m \u001b[39mnotify_change\u001b[39m(\u001b[39mself\u001b[39m, change):\n\u001b[1;32m   1516\u001b[0m \u001b[39m    \u001b[39m\u001b[39m\"\"\"Notify observers of a change event\"\"\"\u001b[39;00m\n\u001b[0;32m-> 1517\u001b[0m     \u001b[39mreturn\u001b[39;00m \u001b[39mself\u001b[39;49m\u001b[39m.\u001b[39;49m_notify_observers(change)\n",
      "File \u001b[0;32m~/anaconda3/envs/caiman/lib/python3.10/site-packages/traitlets/traitlets.py:1564\u001b[0m, in \u001b[0;36mHasTraits._notify_observers\u001b[0;34m(self, event)\u001b[0m\n\u001b[1;32m   1561\u001b[0m \u001b[39melif\u001b[39;00m \u001b[39misinstance\u001b[39m(c, EventHandler) \u001b[39mand\u001b[39;00m c\u001b[39m.\u001b[39mname \u001b[39mis\u001b[39;00m \u001b[39mnot\u001b[39;00m \u001b[39mNone\u001b[39;00m:\n\u001b[1;32m   1562\u001b[0m     c \u001b[39m=\u001b[39m \u001b[39mgetattr\u001b[39m(\u001b[39mself\u001b[39m, c\u001b[39m.\u001b[39mname)\n\u001b[0;32m-> 1564\u001b[0m c(event)\n",
      "File \u001b[0;32m~/anaconda3/envs/caiman/lib/python3.10/site-packages/nwbwidgets/base.py:189\u001b[0m, in \u001b[0;36mlazy_show_over_data.<locals>.on_selected_index\u001b[0;34m(change)\u001b[0m\n\u001b[1;32m    187\u001b[0m \u001b[39mdef\u001b[39;00m \u001b[39mon_selected_index\u001b[39m(change):\n\u001b[1;32m    188\u001b[0m     \u001b[39mif\u001b[39;00m change\u001b[39m.\u001b[39mnew \u001b[39mis\u001b[39;00m \u001b[39mnot\u001b[39;00m \u001b[39mNone\u001b[39;00m \u001b[39mand\u001b[39;00m \u001b[39misinstance\u001b[39m(change\u001b[39m.\u001b[39mowner\u001b[39m.\u001b[39mchildren[change\u001b[39m.\u001b[39mnew], widgets\u001b[39m.\u001b[39mHTML):\n\u001b[0;32m--> 189\u001b[0m         children[change\u001b[39m.\u001b[39mnew] \u001b[39m=\u001b[39m vis2widget(func_(list_[change\u001b[39m.\u001b[39;49mnew]))\n\u001b[1;32m    190\u001b[0m         change\u001b[39m.\u001b[39mowner\u001b[39m.\u001b[39mchildren \u001b[39m=\u001b[39m children\n",
      "File \u001b[0;32m~/anaconda3/envs/caiman/lib/python3.10/site-packages/nwbwidgets/view.py:123\u001b[0m, in \u001b[0;36mnwb2widget\u001b[0;34m(node, neurodata_vis_spec)\u001b[0m\n\u001b[1;32m    122\u001b[0m \u001b[39mdef\u001b[39;00m \u001b[39mnwb2widget\u001b[39m(node, neurodata_vis_spec\u001b[39m=\u001b[39mdefault_neurodata_vis_spec):\n\u001b[0;32m--> 123\u001b[0m     \u001b[39mreturn\u001b[39;00m nwb2widget_base(node, neurodata_vis_spec)\n",
      "File \u001b[0;32m~/anaconda3/envs/caiman/lib/python3.10/site-packages/nwbwidgets/base.py:204\u001b[0m, in \u001b[0;36mnwb2widget\u001b[0;34m(node, neurodata_vis_spec, **pass_kwargs)\u001b[0m\n\u001b[1;32m    202\u001b[0m             \u001b[39mreturn\u001b[39;00m lazy_tabs(spec, node)\n\u001b[1;32m    203\u001b[0m         \u001b[39melif\u001b[39;00m \u001b[39mcallable\u001b[39m(spec):\n\u001b[0;32m--> 204\u001b[0m             visualization \u001b[39m=\u001b[39m spec(node, neurodata_vis_spec\u001b[39m=\u001b[39;49mneurodata_vis_spec, \u001b[39m*\u001b[39;49m\u001b[39m*\u001b[39;49mpass_kwargs)\n\u001b[1;32m    205\u001b[0m             \u001b[39mreturn\u001b[39;00m vis2widget(visualization)\n\u001b[1;32m    206\u001b[0m out1 \u001b[39m=\u001b[39m widgets\u001b[39m.\u001b[39mOutput()\n",
      "File \u001b[0;32m~/anaconda3/envs/caiman/lib/python3.10/site-packages/nwbwidgets/base.py:83\u001b[0m, in \u001b[0;36mdict2accordion\u001b[0;34m(d, neurodata_vis_spec, **pass_kwargs)\u001b[0m\n\u001b[1;32m     81\u001b[0m \u001b[39mdef\u001b[39;00m \u001b[39mdict2accordion\u001b[39m(d: \u001b[39mdict\u001b[39m, neurodata_vis_spec: \u001b[39mdict\u001b[39m, \u001b[39m*\u001b[39m\u001b[39m*\u001b[39mpass_kwargs) \u001b[39m-\u001b[39m\u001b[39m>\u001b[39m widgets\u001b[39m.\u001b[39mWidget:\n\u001b[1;32m     82\u001b[0m     \u001b[39mif\u001b[39;00m \u001b[39mlen\u001b[39m(d) \u001b[39m==\u001b[39m \u001b[39m1\u001b[39m:\n\u001b[0;32m---> 83\u001b[0m         \u001b[39mreturn\u001b[39;00m nwb2widget(\u001b[39mlist\u001b[39;49m(d\u001b[39m.\u001b[39;49mvalues())[\u001b[39m0\u001b[39;49m], neurodata_vis_spec\u001b[39m=\u001b[39;49mneurodata_vis_spec)\n\u001b[1;32m     84\u001b[0m     children \u001b[39m=\u001b[39m [widgets\u001b[39m.\u001b[39mHTML(\u001b[39m\"\u001b[39m\u001b[39mRendering...\u001b[39m\u001b[39m\"\u001b[39m) \u001b[39mfor\u001b[39;00m _ \u001b[39min\u001b[39;00m d]\n\u001b[1;32m     85\u001b[0m     accordion \u001b[39m=\u001b[39m widgets\u001b[39m.\u001b[39mAccordion(children\u001b[39m=\u001b[39mchildren, selected_index\u001b[39m=\u001b[39m\u001b[39mNone\u001b[39;00m)\n",
      "File \u001b[0;32m~/anaconda3/envs/caiman/lib/python3.10/site-packages/nwbwidgets/base.py:204\u001b[0m, in \u001b[0;36mnwb2widget\u001b[0;34m(node, neurodata_vis_spec, **pass_kwargs)\u001b[0m\n\u001b[1;32m    202\u001b[0m             \u001b[39mreturn\u001b[39;00m lazy_tabs(spec, node)\n\u001b[1;32m    203\u001b[0m         \u001b[39melif\u001b[39;00m \u001b[39mcallable\u001b[39m(spec):\n\u001b[0;32m--> 204\u001b[0m             visualization \u001b[39m=\u001b[39m spec(node, neurodata_vis_spec\u001b[39m=\u001b[39;49mneurodata_vis_spec, \u001b[39m*\u001b[39;49m\u001b[39m*\u001b[39;49mpass_kwargs)\n\u001b[1;32m    205\u001b[0m             \u001b[39mreturn\u001b[39;00m vis2widget(visualization)\n\u001b[1;32m    206\u001b[0m out1 \u001b[39m=\u001b[39m widgets\u001b[39m.\u001b[39mOutput()\n",
      "File \u001b[0;32m~/anaconda3/envs/caiman/lib/python3.10/site-packages/nwbwidgets/timeseries.py:272\u001b[0m, in \u001b[0;36mshow_timeseries\u001b[0;34m(node, **kwargs)\u001b[0m\n\u001b[1;32m    270\u001b[0m     \u001b[39mreturn\u001b[39;00m BaseGroupedTraceWidget(node, \u001b[39m*\u001b[39m\u001b[39m*\u001b[39mkwargs)\n\u001b[1;32m    271\u001b[0m \u001b[39melse\u001b[39;00m:\n\u001b[0;32m--> 272\u001b[0m     \u001b[39mraise\u001b[39;00m \u001b[39mValueError\u001b[39;00m(\n\u001b[1;32m    273\u001b[0m         \u001b[39m\"\u001b[39m\u001b[39mVisualization for TimeSeries that has data with shape \u001b[39m\u001b[39m{}\u001b[39;00m\u001b[39m not implemented\u001b[39m\u001b[39m\"\u001b[39m\u001b[39m.\u001b[39mformat(node\u001b[39m.\u001b[39mdata\u001b[39m.\u001b[39mshape)\n\u001b[1;32m    274\u001b[0m     )\n",
      "\u001b[0;31mValueError\u001b[0m: Visualization for TimeSeries that has data with shape (514, 512, 512) not implemented"
     ]
    }
   ],
   "source": [
    "import nwbwidgets\n",
    "nwbwidgets.nwb2widget(nwbfile)"
   ]
  },
  {
   "cell_type": "markdown",
   "metadata": {},
   "source": []
  }
 ],
 "metadata": {
  "kernelspec": {
   "display_name": "caiman",
   "language": "python",
   "name": "python3"
  },
  "language_info": {
   "codemirror_mode": {
    "name": "ipython",
    "version": 3
   },
   "file_extension": ".py",
   "mimetype": "text/x-python",
   "name": "python",
   "nbconvert_exporter": "python",
   "pygments_lexer": "ipython3",
   "version": "3.10.12"
  },
  "orig_nbformat": 4
 },
 "nbformat": 4,
 "nbformat_minor": 2
}
