{
 "cells": [
  {
   "cell_type": "markdown",
   "metadata": {},
   "source": [
    "### Demo: converting OPHYS to NWB and then extracting relevant metadata for analysis\n",
    "Neurodata Without Borders (NWB) is a powerful tool for organizing your data for purposes such as:\n",
    "* data sharing\n",
    "* result reproduction\n",
    "* experiment organization\n",
    "\n",
    "Here is a demo showing its utility:\n",
    "_____"
   ]
  },
  {
   "cell_type": "markdown",
   "metadata": {},
   "source": [
    "### Relevant packages\n",
    "For Ophys, we must have the following packages:\n",
    "* `caiman`\n",
    "* `decode_lab_code`"
   ]
  },
  {
   "cell_type": "code",
   "execution_count": 1,
   "metadata": {},
   "outputs": [],
   "source": [
    "from datetime import datetime\n",
    "from uuid import uuid4\n",
    "\n",
    "import numpy as np\n",
    "\n",
    "from dateutil import tz\n",
    "\n",
    "from pynwb import NWBHDF5IO, NWBFile, TimeSeries\n",
    "from pynwb.behavior import Position, SpatialSeries\n",
    "from pynwb.epoch import TimeIntervals\n",
    "from pynwb.file import Subject\n",
    "\n",
    "from decode_lab_code.preprocessing.ophys.caiman_wrapper import caiman_preprocess"
   ]
  },
  {
   "cell_type": "markdown",
   "metadata": {},
   "source": [
    "### Lets build our NWB file using the ``NWBFile`` object"
   ]
  },
  {
   "cell_type": "code",
   "execution_count": 2,
   "metadata": {},
   "outputs": [],
   "source": [
    "session_start_time = datetime(2018, 4, 25, 2, 30, 3, tzinfo=tz.gettz(\"US/Pacific\"))\n",
    "# initialize the nwbfile\n",
    "nwbfile = NWBFile(\n",
    "    session_description=input(\"Enter description of your recording session: \"),  # required\n",
    "    identifier=str(uuid4()),  # required\n",
    "    session_start_time=session_start_time,  # required\n",
    "    session_id=input(\"Enter unique identifier for session: \"),  # optional\n",
    "    experimenter=[\n",
    "        input(\"Enter experimenter name: \"),\n",
    "    ],  # optional\n",
    "    lab=input(\"Enter lab name: \"),  # optional\n",
    "    institution=input(\"Enter institution name: \"),  # optional\n",
    "    experiment_description=input(\"Enter a description of your experiment\"),  # optional\n",
    "    related_publications=input(\"Enter any information about publication (if relevant)\"),  # optional\n",
    ")"
   ]
  },
  {
   "cell_type": "markdown",
   "metadata": {},
   "source": [
    "### Enter information about subject"
   ]
  },
  {
   "cell_type": "code",
   "execution_count": 3,
   "metadata": {},
   "outputs": [],
   "source": [
    "# enter information about subject\n",
    "nwbfile.subject = Subject(\n",
    "    subject_id=input(\"Enter subject ID: \"),\n",
    "    age=input(\"Enter subject age as such (PD100):  \"),\n",
    "    description=input(\"Enter subject identifier: \"),\n",
    "    species=input(\"Enter species name: \"),\n",
    "    sex=input(\"Enter sex of subject: \"),\n",
    ")"
   ]
  },
  {
   "cell_type": "markdown",
   "metadata": {},
   "source": [
    "### Add our data to the NWB file"
   ]
  },
  {
   "cell_type": "markdown",
   "metadata": {},
   "source": [
    "Interface with the user to get some information about directory"
   ]
  },
  {
   "cell_type": "code",
   "execution_count": 4,
   "metadata": {},
   "outputs": [],
   "source": [
    "# directory information\n",
    "folder_name = input(\"Enter the folder name for your data: \")\n",
    "fname_neuron = input(\"Enter file name with extension: \")\n",
    "frame_rate = float(input(\"Enter the frame rate: \"))"
   ]
  },
  {
   "cell_type": "markdown",
   "metadata": {},
   "source": [
    "By initializing the `caiman_process` object, we can then access the attribute `get_frames`, which allows us to directly extract the recorded video"
   ]
  },
  {
   "cell_type": "code",
   "execution_count": 5,
   "metadata": {},
   "outputs": [
    {
     "name": "stdout",
     "output_type": "stream",
     "text": [
      "Loading movie\n"
     ]
    },
    {
     "name": "stderr",
     "output_type": "stream",
     "text": [
      "100%|██████████| 1/1 [00:00<00:00,  6.43it/s]\n"
     ]
    }
   ],
   "source": [
    "# if you get the Error: \"Exception: A cluster is already runnning\", restart the kernel\n",
    "cp = caiman_preprocess(folder_name,fname_neuron,frame_rate,False) # False flag for preventing cluster\n",
    "\n",
    "# this wrapper function interfaces directly with caiman to extract our video\n",
    "data = cp.get_frames()"
   ]
  },
  {
   "cell_type": "code",
   "execution_count": null,
   "metadata": {},
   "outputs": [],
   "source": []
  }
 ],
 "metadata": {
  "kernelspec": {
   "display_name": "caiman",
   "language": "python",
   "name": "python3"
  },
  "language_info": {
   "codemirror_mode": {
    "name": "ipython",
    "version": 3
   },
   "file_extension": ".py",
   "mimetype": "text/x-python",
   "name": "python",
   "nbconvert_exporter": "python",
   "pygments_lexer": "ipython3",
   "version": "3.10.12"
  },
  "orig_nbformat": 4
 },
 "nbformat": 4,
 "nbformat_minor": 2
}
