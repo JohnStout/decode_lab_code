{
 "cells": [
  {
   "cell_type": "markdown",
   "metadata": {},
   "source": [
    "# Memory mapping your video files!\n",
    "\n",
    "Lets say you want to work with your raw video recordings, rather than your NWB file, run the following code prior to caiman analysis so that we can work directly with a memory mapped file!\n"
   ]
  },
  {
   "cell_type": "code",
   "execution_count": 1,
   "metadata": {},
   "outputs": [
    {
     "name": "stdout",
     "output_type": "stream",
     "text": [
      "You have 12 CPUs available in your current environment\n",
      "Using 11 processors\n",
      "Setting up new cluster\n",
      "Successfully set up cluster with 11 processes\n",
      "Saving out individual memory mapped files...\n",
      "Joining memory mapped files...\n",
      "Removing individual memory mapped files...\n"
     ]
    }
   ],
   "source": [
    "# import code\n",
    "from decode_lab_code.calcium_imaging import preprocessing_utils as pu\n",
    "import json\n",
    "import os\n",
    "\n",
    "# convert data\n",
    "miniscope_dir = r'/Users/js0403/miniscope/data/134A/AAV2/3-Syn-GCaMP8f/2023_11_14/13_19_36/miniscopeDeviceName'\n",
    "#json_file = json.load(open(os.path.join(miniscope_dir,'metaData.json')))\n",
    "\n",
    "# convert your miniscope recordings to memory mapped files\n",
    "pu.tif_to_memmap(movie_path = miniscope_dir)"
   ]
  }
 ],
 "metadata": {
  "kernelspec": {
   "display_name": "Python 3 (ipykernel)",
   "language": "python",
   "name": "python3"
  },
  "language_info": {
   "codemirror_mode": {
    "name": "ipython",
    "version": 3
   },
   "file_extension": ".py",
   "mimetype": "text/x-python",
   "name": "python",
   "nbconvert_exporter": "python",
   "pygments_lexer": "ipython3",
   "version": "3.11.7"
  }
 },
 "nbformat": 4,
 "nbformat_minor": 4
}
