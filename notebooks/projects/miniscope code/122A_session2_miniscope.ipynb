{
 "cells": [
  {
   "cell_type": "markdown",
   "id": "42ef7693-e9a7-416c-a406-41ad1c11413d",
   "metadata": {},
   "source": [
    "# Reload cnmfe data to plot results"
   ]
  },
  {
   "cell_type": "code",
   "execution_count": 22,
   "id": "50abbc66-0b59-4540-84a6-a20521b2df87",
   "metadata": {},
   "outputs": [
    {
     "name": "stdout",
     "output_type": "stream",
     "text": [
      "You have 12 CPUs available in your current environment\n",
      "Closing previous cluster\n",
      "Setting up new cluster\n",
      "Successfully set up cluster with 11 processes\n"
     ]
    }
   ],
   "source": [
    "import matplotlib.pyplot as plt\n",
    "import psutil\n",
    "import numpy as np\n",
    "\n",
    "import caiman as cm\n",
    "from caiman.source_extraction import cnmf\n",
    "from caiman.source_extraction.cnmf.cnmf import load_CNMF\n",
    "from caiman.utils.utils import download_demo\n",
    "from caiman.utils.visualization import inspect_correlation_pnr, nb_inspect_correlation_pnr\n",
    "from caiman.motion_correction import MotionCorrect\n",
    "from caiman.source_extraction.cnmf import params as params\n",
    "from caiman.utils.visualization import plot_contours, nb_view_patches, nb_plot_contour\n",
    "from caiman.utils.visualization import view_quilt\n",
    "\n",
    "from decode_lab_code.calcium_imaging import calcium_imaging_utils\n",
    "\n",
    "print(f\"You have {psutil.cpu_count()} CPUs available in your current environment\")\n",
    "num_processors_to_use = 11\n",
    "\n",
    "#%% start a cluster for parallel processing (if a cluster already exists it will be closed and a new session will be opened)\n",
    "if 'cluster' in locals():  # 'locals' contains list of current local variables\n",
    "    print('Closing previous cluster')\n",
    "    cm.stop_server(dview=cluster)\n",
    "print(\"Setting up new cluster\")\n",
    "dview, cluster, n_processes = cm.cluster.setup_cluster(backend='multiprocessing', \n",
    "                                                 n_processes=num_processors_to_use, \n",
    "                                                 ignore_preexisting=False)\n",
    "print(f\"Successfully set up cluster with {n_processes} processes\")"
   ]
  },
  {
   "cell_type": "code",
   "execution_count": 19,
   "id": "47aa6103-a2f0-4339-8012-f2774e2299d1",
   "metadata": {},
   "outputs": [],
   "source": [
    "# in case you are working from loaded data, recover the raw movie\n",
    "mmap_name = r'/Users/js0403/miniscope/122A_session2_nwbfile/cnmfe_results.hdf5'\n",
    "cnmfe_model = load_CNMF(mmap_name, \n",
    "                            n_processes=num_processors_to_use, \n",
    "                            dview=cluster)\n",
    "correlation_image = cnmfe_model.estimates.Cn"
   ]
  },
  {
   "cell_type": "code",
   "execution_count": 27,
   "id": "d2047c62-398a-4d59-94dc-146aa75dfc9c",
   "metadata": {},
   "outputs": [
    {
     "name": "stderr",
     "output_type": "stream",
     "text": [
      "WARNING:root:Background components not present. Results should not be interpreted as DF/F normalized but only as detrended.\n"
     ]
    },
    {
     "name": "stdout",
     "output_type": "stream",
     "text": [
      "Calculating estimates.F_dff\n"
     ]
    }
   ],
   "source": [
    "if cnmfe_model.estimates.F_dff is None:\n",
    "    print('Calculating estimates.F_dff')\n",
    "    cnmfe_model.estimates.detrend_df_f(quantileMin=8, \n",
    "                                      frames_window=250,\n",
    "                                      use_residuals=False);  # use denoised data\n",
    "else:\n",
    "    print(\"estimates.F_dff already defined\")"
   ]
  },
  {
   "cell_type": "code",
   "execution_count": 23,
   "id": "5e58c3f8-9efa-4d0c-b1ee-f24a0cff388a",
   "metadata": {},
   "outputs": [],
   "source": [
    "# in case you are working from loaded data, recover the raw movie\n",
    "Yr, dims, num_frames = cm.load_memmap(cnmfe_model.mmap_file)\n",
    "images = np.reshape(Yr.T, [num_frames] + list(dims), order='F')"
   ]
  },
  {
   "cell_type": "code",
   "execution_count": 24,
   "id": "5f2bd373-a94b-48b3-bfcf-088b9ab6e538",
   "metadata": {},
   "outputs": [],
   "source": [
    "# array of colors\n",
    "from random import randint\n",
    "colors = []\n",
    "for i in range(1000):\n",
    "    colors.append('#%06X' % randint(0, 0xFFFFFF))"
   ]
  },
  {
   "cell_type": "code",
   "execution_count": 32,
   "id": "6d761c65-396d-4ea0-837f-315e305770aa",
   "metadata": {},
   "outputs": [
    {
     "name": "stdout",
     "output_type": "stream",
     "text": [
      "None\n"
     ]
    }
   ],
   "source": [
    "rois = cnmfe_model.estimates.coordinates\n",
    "print(rois)"
   ]
  },
  {
   "cell_type": "code",
   "execution_count": 28,
   "id": "44861ee2-41da-4c23-b00f-58ceba567a85",
   "metadata": {},
   "outputs": [
    {
     "ename": "TypeError",
     "evalue": "object of type 'NoneType' has no len()",
     "output_type": "error",
     "traceback": [
      "\u001b[0;31m---------------------------------------------------------------------------\u001b[0m",
      "\u001b[0;31mTypeError\u001b[0m                                 Traceback (most recent call last)",
      "Cell \u001b[0;32mIn[28], line 1\u001b[0m\n\u001b[0;32m----> 1\u001b[0m \u001b[43mcalcium_imaging_utils\u001b[49m\u001b[38;5;241;43m.\u001b[39;49m\u001b[43mplot_components\u001b[49m\u001b[43m(\u001b[49m\u001b[43mimg\u001b[49m\u001b[38;5;241;43m=\u001b[39;49m\u001b[43mcorrelation_image\u001b[49m\u001b[43m,\u001b[49m\u001b[43m \u001b[49m\u001b[43mcnm\u001b[49m\u001b[38;5;241;43m=\u001b[39;49m\u001b[43mcnmfe_model\u001b[49m\u001b[43m,\u001b[49m\u001b[43m \u001b[49m\u001b[43mcolors\u001b[49m\u001b[38;5;241;43m=\u001b[39;49m\u001b[43mcolors\u001b[49m\u001b[43m,\u001b[49m\u001b[43m \u001b[49m\u001b[43mcolorMap\u001b[49m\u001b[38;5;241;43m=\u001b[39;49m\u001b[38;5;124;43m'\u001b[39;49m\u001b[38;5;124;43mhot\u001b[39;49m\u001b[38;5;124;43m'\u001b[39;49m\u001b[43m)\u001b[49m\n",
      "File \u001b[0;32m~/decode_lab_code/src/decode_lab_code/calcium_imaging/calcium_imaging_utils.py:345\u001b[0m, in \u001b[0;36mplot_components\u001b[0;34m(img, cnm, colors, colorMap, clim)\u001b[0m\n\u001b[1;32m    343\u001b[0m rois \u001b[38;5;241m=\u001b[39m cnm\u001b[38;5;241m.\u001b[39mestimates\u001b[38;5;241m.\u001b[39mcoordinates \u001b[38;5;66;03m# get rois\u001b[39;00m\n\u001b[1;32m    344\u001b[0m idx \u001b[38;5;241m=\u001b[39m cnm\u001b[38;5;241m.\u001b[39mestimates\u001b[38;5;241m.\u001b[39midx_components \u001b[38;5;66;03m# get accepted components\u001b[39;00m\n\u001b[0;32m--> 345\u001b[0m good_rois \u001b[38;5;241m=\u001b[39m [rois[i] \u001b[38;5;28;01mfor\u001b[39;00m i \u001b[38;5;129;01min\u001b[39;00m \u001b[38;5;28mrange\u001b[39m(\u001b[38;5;28;43mlen\u001b[39;49m\u001b[43m(\u001b[49m\u001b[43mrois\u001b[49m\u001b[43m)\u001b[49m) \u001b[38;5;28;01mif\u001b[39;00m i \u001b[38;5;129;01min\u001b[39;00m idx]\n\u001b[1;32m    347\u001b[0m \u001b[38;5;66;03m# plot components\u001b[39;00m\n\u001b[1;32m    348\u001b[0m plt\u001b[38;5;241m.\u001b[39msubplot(\u001b[38;5;241m1\u001b[39m,\u001b[38;5;241m2\u001b[39m,\u001b[38;5;241m1\u001b[39m)\n",
      "\u001b[0;31mTypeError\u001b[0m: object of type 'NoneType' has no len()"
     ]
    }
   ],
   "source": [
    "calcium_imaging_utils.plot_components(img=correlation_image, cnm=cnmfe_model, colors=colors, colorMap='hot')"
   ]
  },
  {
   "cell_type": "code",
   "execution_count": null,
   "id": "8ed8d1b0-0d6e-4397-a3af-f7d04a9a5c10",
   "metadata": {},
   "outputs": [],
   "source": []
  }
 ],
 "metadata": {
  "kernelspec": {
   "display_name": "Python 3 (ipykernel)",
   "language": "python",
   "name": "python3"
  },
  "language_info": {
   "codemirror_mode": {
    "name": "ipython",
    "version": 3
   },
   "file_extension": ".py",
   "mimetype": "text/x-python",
   "name": "python",
   "nbconvert_exporter": "python",
   "pygments_lexer": "ipython3",
   "version": "3.11.6"
  }
 },
 "nbformat": 4,
 "nbformat_minor": 5
}
