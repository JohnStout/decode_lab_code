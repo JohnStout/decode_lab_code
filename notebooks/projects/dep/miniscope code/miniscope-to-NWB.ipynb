{
 "cells": [
  {
   "cell_type": "markdown",
   "metadata": {},
   "source": [
    "# UCLA Miniscope\n",
    "Below can be changed to convert your miniscope data\n",
    "\n",
    "To run this code follow these instructions:\n",
    "\n",
    "Requirements:\n",
    "1. Anaconda3\n",
    "2. VScode or Spyder (code written in VScode, would recommend)\n",
    "\n",
    "Installation:\n",
    "\n",
    "    conda create -n decode_lab_env python=3.9\n",
    "    conda activate decode_lab_env\n",
    "    git clone https://github.com/JohnStout/hernan-lab-to-nwb \n",
    "    cd hernan-lab-to-nwb\n",
    "    pip install - e.\n",
    "\n",
    "---"
   ]
  },
  {
   "cell_type": "code",
   "execution_count": 1,
   "metadata": {},
   "outputs": [
    {
     "name": "stdout",
     "output_type": "stream",
     "text": [
      "OS Mac detected\n",
      "This version does not support the experiment folder due to no testing data\n",
      "File saved to  /Users/js0403/miniscope/data/122B/AAV2/3-Syn-GCaMP8f/2024_01_02/11_30_11/nwb_template.xlsx\n",
      "This file does not handle multiple custom entries\n",
      "/Users/js0403/miniscope/data/122B/AAV2/3-Syn-GCaMP8f/2024_01_02/11_30_11/miniscopeDeviceName/0.avi\n",
      "Reading movie from:  /Users/js0403/miniscope/data/122B/AAV2/3-Syn-GCaMP8f/2024_01_02/11_30_11/miniscopeDeviceName/0.avi\n",
      "Reading nwbfile from:  /Users/js0403/miniscope/data/122B/AAV2/3-Syn-GCaMP8f/2024_01_02/11_30_11/nwbfile.nwb\n",
      "Rewriting nwbfile with recording 0\n",
      "Validating /Users/js0403/miniscope/data/122B/AAV2/3-Syn-GCaMP8f/2024_01_02/11_30_11/nwbfile.nwb against cached namespace information using namespace 'core'.\n",
      "NWB validation may be incorrect. Still need an invalid NWB file to check against....10/10/2023\n",
      "No errors detected in NWB file\n",
      "/Users/js0403/miniscope/data/122B/AAV2/3-Syn-GCaMP8f/2024_01_02/11_30_11/miniscopeDeviceName/1.avi\n",
      "Reading movie from:  /Users/js0403/miniscope/data/122B/AAV2/3-Syn-GCaMP8f/2024_01_02/11_30_11/miniscopeDeviceName/1.avi\n",
      "Reading nwbfile from:  /Users/js0403/miniscope/data/122B/AAV2/3-Syn-GCaMP8f/2024_01_02/11_30_11/nwbfile.nwb\n",
      "Rewriting nwbfile with recording 1\n",
      "Validating /Users/js0403/miniscope/data/122B/AAV2/3-Syn-GCaMP8f/2024_01_02/11_30_11/nwbfile.nwb against cached namespace information using namespace 'core'.\n",
      "NWB validation may be incorrect. Still need an invalid NWB file to check against....10/10/2023\n",
      "No errors detected in NWB file\n",
      "/Users/js0403/miniscope/data/122B/AAV2/3-Syn-GCaMP8f/2024_01_02/11_30_11/miniscopeDeviceName/2.avi\n",
      "Reading movie from:  /Users/js0403/miniscope/data/122B/AAV2/3-Syn-GCaMP8f/2024_01_02/11_30_11/miniscopeDeviceName/2.avi\n",
      "Reading nwbfile from:  /Users/js0403/miniscope/data/122B/AAV2/3-Syn-GCaMP8f/2024_01_02/11_30_11/nwbfile.nwb\n",
      "Rewriting nwbfile with recording 2\n",
      "Validating /Users/js0403/miniscope/data/122B/AAV2/3-Syn-GCaMP8f/2024_01_02/11_30_11/nwbfile.nwb against cached namespace information using namespace 'core'.\n",
      "NWB validation may be incorrect. Still need an invalid NWB file to check against....10/10/2023\n",
      "No errors detected in NWB file\n",
      "/Users/js0403/miniscope/data/122B/AAV2/3-Syn-GCaMP8f/2024_01_02/11_30_11/miniscopeDeviceName/3.avi\n",
      "Reading movie from:  /Users/js0403/miniscope/data/122B/AAV2/3-Syn-GCaMP8f/2024_01_02/11_30_11/miniscopeDeviceName/3.avi\n",
      "Reading nwbfile from:  /Users/js0403/miniscope/data/122B/AAV2/3-Syn-GCaMP8f/2024_01_02/11_30_11/nwbfile.nwb\n",
      "Rewriting nwbfile with recording 3\n",
      "Validating /Users/js0403/miniscope/data/122B/AAV2/3-Syn-GCaMP8f/2024_01_02/11_30_11/nwbfile.nwb against cached namespace information using namespace 'core'.\n",
      "NWB validation may be incorrect. Still need an invalid NWB file to check against....10/10/2023\n",
      "No errors detected in NWB file\n"
     ]
    }
   ],
   "source": [
    "# load packages\n",
    "from hernan_lab_to_nwb.readers import ioreaders\n",
    "from hernan_lab_to_nwb.utils import nwb_utils\n",
    "\n",
    "# Define folder path - path to folder with all data inside\n",
    "folder_path = r'/Users/js0403/miniscope/data/122B/AAV2/3-Syn-GCaMP8f/2024_01_02/11_30_11' # folder path\n",
    "\n",
    "# instatiate object with directory\n",
    "ophys_object = ioreaders.read_miniscope(folder_path = folder_path)\n",
    "\n",
    "# write to NWB - this is recommended rather than separately visualizing the datasets\n",
    "ophys_object.write_nwb()"
   ]
  },
  {
   "cell_type": "code",
   "execution_count": null,
   "metadata": {},
   "outputs": [],
   "source": [
    "from pynwb import NWBHDF5IO, NWBFile, TimeSeries\n",
    "import matplotlib.pyplot as plt\n",
    "with NWBHDF5IO(ophys_object.nwbpath, \"r+\") as io:\n",
    "    print(\"Reading nwbfile from: \",(ophys_object.nwbpath))\n",
    "    nwbfile = io.read()\n",
    "    tester = nwbfile.acquisition['recording0'].data[:]\n",
    "plt.imshow(tester[0,:,:])"
   ]
  }
 ],
 "metadata": {
  "kernelspec": {
   "display_name": "decode_lab_env",
   "language": "python",
   "name": "python3"
  },
  "language_info": {
   "codemirror_mode": {
    "name": "ipython",
    "version": 3
   },
   "file_extension": ".py",
   "mimetype": "text/x-python",
   "name": "python",
   "nbconvert_exporter": "python",
   "pygments_lexer": "ipython3",
   "version": "3.9.18"
  }
 },
 "nbformat": 4,
 "nbformat_minor": 2
}
