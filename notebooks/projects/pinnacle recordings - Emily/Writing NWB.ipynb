{
 "cells": [
  {
   "cell_type": "markdown",
   "metadata": {},
   "source": [
    "## Visualizing and converting pinnacle data\n",
    "\n",
    "Requirements:\n",
    "1. Anaconda3\n",
    "2. VScode or Spyder (code written in VScode, would recommend)\n",
    "\n",
    "Installation:\n",
    "1. conda create -n decode_lab_env python=3.9\n",
    "2. conda activate decode_lab_env\n",
    "3. git clone https://github.com/JohnStout/hernan-lab-to-nwb \n",
    "4. cd hernan-lab-to-nwb\n",
    "5. pip install - e."
   ]
  },
  {
   "cell_type": "markdown",
   "metadata": {},
   "source": [
    "<img src=\"/Users/js0403/hernan-lab-to-nwb/tests/idealized workflow.png\" />"
   ]
  },
  {
   "cell_type": "markdown",
   "metadata": {},
   "source": [
    "# Pinnacle\n",
    "Almost ready, needs updating on excel methods and addition of timestamps that account for start/stop times"
   ]
  },
  {
   "cell_type": "code",
   "execution_count": 3,
   "metadata": {},
   "outputs": [
    {
     "name": "stderr",
     "output_type": "stream",
     "text": [
      "/Users/js0403/hernan-lab-to-nwb/hernan_lab_to_nwb/readers/ioreaders.py:126: DeprecationWarning: invalid escape sequence \\d\n",
      "  return [atoi(c) for c in re.split('(\\d+)',text) ]\n"
     ]
    },
    {
     "name": "stdout",
     "output_type": "stream",
     "text": [
      "OS Mac detected\n",
      "File saved to  /Users/js0403/local data/edf data/nwb_template.xlsx\n",
      "File saved to  /Users/js0403/local data/edf data/nwb_excel_sheet.xlsx\n"
     ]
    },
    {
     "name": "stderr",
     "output_type": "stream",
     "text": [
      "/Users/js0403/anaconda3/envs/decode_lab_env/lib/python3.9/site-packages/pynwb/file.py:471: UserWarning: Date is missing timezone information. Updating to local timezone.\n",
      "  args_to_set['session_start_time'] = _add_missing_timezone(session_start_time)\n",
      "/Users/js0403/hernan-lab-to-nwb/hernan_lab_to_nwb/readers/ioreaders.py:867: DeprecationWarning: Conversion of an array with ndim > 0 to a scalar is deprecated, and will error in future. Ensure you extract a single element from your array before performing this operation. (Deprecated NumPy 1.25.)\n",
      "  fs = float(fs)\n"
     ]
    },
    {
     "name": "stdout",
     "output_type": "stream",
     "text": [
      "You already have an NWB file with this name, adding '_new' extension\n",
      "Writing .nwb file as  /Users/js0403/local data/edf data/mouse-16613_120623_074050_new.nwb\n",
      "Validating /Users/js0403/local data/edf data/mouse-16613_120623_074050_new.nwb against cached namespace information using namespace 'core'.\n",
      "NWB validation may be incorrect. Still need an invalid NWB file to check against....10/10/2023\n",
      "No errors detected in NWB file\n"
     ]
    },
    {
     "name": "stderr",
     "output_type": "stream",
     "text": [
      "/Users/js0403/hernan-lab-to-nwb/hernan_lab_to_nwb/readers/ioreaders.py:867: DeprecationWarning: Conversion of an array with ndim > 0 to a scalar is deprecated, and will error in future. Ensure you extract a single element from your array before performing this operation. (Deprecated NumPy 1.25.)\n",
      "  fs = float(fs)\n"
     ]
    },
    {
     "name": "stdout",
     "output_type": "stream",
     "text": [
      "You already have an NWB file with this name, adding '_new' extension\n",
      "Writing .nwb file as  /Users/js0403/local data/edf data/mouse-16729_120623_074050_new.nwb\n",
      "Validating /Users/js0403/local data/edf data/mouse-16729_120623_074050_new.nwb against cached namespace information using namespace 'core'.\n",
      "NWB validation may be incorrect. Still need an invalid NWB file to check against....10/10/2023\n",
      "No errors detected in NWB file\n"
     ]
    },
    {
     "name": "stderr",
     "output_type": "stream",
     "text": [
      "/Users/js0403/hernan-lab-to-nwb/hernan_lab_to_nwb/readers/ioreaders.py:867: DeprecationWarning: Conversion of an array with ndim > 0 to a scalar is deprecated, and will error in future. Ensure you extract a single element from your array before performing this operation. (Deprecated NumPy 1.25.)\n",
      "  fs = float(fs)\n"
     ]
    },
    {
     "name": "stdout",
     "output_type": "stream",
     "text": [
      "You already have an NWB file with this name, adding '_new' extension\n",
      "Writing .nwb file as  /Users/js0403/local data/edf data/mouse-16745_120623_074050_new.nwb\n",
      "Validating /Users/js0403/local data/edf data/mouse-16745_120623_074050_new.nwb against cached namespace information using namespace 'core'.\n",
      "NWB validation may be incorrect. Still need an invalid NWB file to check against....10/10/2023\n",
      "No errors detected in NWB file\n"
     ]
    },
    {
     "name": "stderr",
     "output_type": "stream",
     "text": [
      "/Users/js0403/hernan-lab-to-nwb/hernan_lab_to_nwb/readers/ioreaders.py:867: DeprecationWarning: Conversion of an array with ndim > 0 to a scalar is deprecated, and will error in future. Ensure you extract a single element from your array before performing this operation. (Deprecated NumPy 1.25.)\n",
      "  fs = float(fs)\n"
     ]
    },
    {
     "name": "stdout",
     "output_type": "stream",
     "text": [
      "You already have an NWB file with this name, adding '_new' extension\n",
      "Writing .nwb file as  /Users/js0403/local data/edf data/mouse-16786_120623_074050_new.nwb\n",
      "Validating /Users/js0403/local data/edf data/mouse-16786_120623_074050_new.nwb against cached namespace information using namespace 'core'.\n",
      "NWB validation may be incorrect. Still need an invalid NWB file to check against....10/10/2023\n",
      "No errors detected in NWB file\n"
     ]
    },
    {
     "name": "stderr",
     "output_type": "stream",
     "text": [
      "/Users/js0403/hernan-lab-to-nwb/hernan_lab_to_nwb/readers/ioreaders.py:867: DeprecationWarning: Conversion of an array with ndim > 0 to a scalar is deprecated, and will error in future. Ensure you extract a single element from your array before performing this operation. (Deprecated NumPy 1.25.)\n",
      "  fs = float(fs)\n"
     ]
    },
    {
     "name": "stdout",
     "output_type": "stream",
     "text": [
      "You already have an NWB file with this name, adding '_new' extension\n",
      "Writing .nwb file as  /Users/js0403/local data/edf data/mouse-16788_120623_074050_new.nwb\n",
      "Validating /Users/js0403/local data/edf data/mouse-16788_120623_074050_new.nwb against cached namespace information using namespace 'core'.\n",
      "NWB validation may be incorrect. Still need an invalid NWB file to check against....10/10/2023\n",
      "No errors detected in NWB file\n"
     ]
    }
   ],
   "source": [
    "# load packages\n",
    "from hernan_lab_to_nwb.readers import ioreaders\n",
    "from hernan_lab_to_nwb.utils import nwb_utils\n",
    "\n",
    "# Define folder path - path to folder with all data inside\n",
    "#folder_path = '/Users/js0403/edf recording' # folder path\n",
    "\n",
    "# or\n",
    "folder_path = '/Users/js0403/local data/edf data/120623_074050.edf'\n",
    "file_name = '120623_074050.edf'\n",
    "\n",
    "# instatiate object with directory\n",
    "eeg_object = ioreaders.read_pinnacle(folder_path = folder_path)\n",
    "\n",
    "# write to NWB - this is recommended rather than separately visualizing the datasets\n",
    "eeg_object.write_nwb()"
   ]
  },
  {
   "cell_type": "markdown",
   "metadata": {},
   "source": [
    "#### EXAMPLE EXTRACTION: here we will extract data with Pynapple and compute coherence with scipy"
   ]
  },
  {
   "cell_type": "code",
   "execution_count": 5,
   "metadata": {},
   "outputs": [],
   "source": [
    "from nwbwidgets import nwb2widget\n",
    "from hernan_lab_to_nwb.utils.nwb_utils import load_nwb"
   ]
  },
  {
   "cell_type": "code",
   "execution_count": 7,
   "metadata": {},
   "outputs": [],
   "source": [
    "nwbfile = load_nwb('/Users/js0403/local data/edf data/mouse-16745_120623_074050.nwb')"
   ]
  },
  {
   "cell_type": "code",
   "execution_count": 8,
   "metadata": {},
   "outputs": [
    {
     "data": {
      "application/vnd.jupyter.widget-view+json": {
       "model_id": "0c2bc6d0d3574108866776c4555ab870",
       "version_major": 2,
       "version_minor": 0
      },
      "text/plain": [
       "VBox(children=(HBox(children=(Label(value='session_description:', layout=Layout(max_height='40px', max_width='…"
      ]
     },
     "execution_count": 8,
     "metadata": {},
     "output_type": "execute_result"
    },
    {
     "name": "stderr",
     "output_type": "stream",
     "text": [
      "/Users/js0403/anaconda3/envs/decode_lab_env/lib/python3.9/site-packages/traitlets/traitlets.py:1404: DeprecationWarning: Passing unrecognized arguments to super(IntText).__init__(min=0).\n",
      "object.__init__() takes exactly one argument (the instance to initialize)\n",
      "This is deprecated in traitlets 4.2.This error will be raised in a future release of traitlets.\n",
      "  warn(\n"
     ]
    }
   ],
   "source": [
    "# TODO: Channels below arent named appropriately\n",
    "nwb2widget(nwbfile)"
   ]
  }
 ],
 "metadata": {
  "kernelspec": {
   "display_name": "decode_lab_env",
   "language": "python",
   "name": "python3"
  },
  "language_info": {
   "codemirror_mode": {
    "name": "ipython",
    "version": 3
   },
   "file_extension": ".py",
   "mimetype": "text/x-python",
   "name": "python",
   "nbconvert_exporter": "python",
   "pygments_lexer": "ipython3",
   "version": "3.9.18"
  }
 },
 "nbformat": 4,
 "nbformat_minor": 2
}
