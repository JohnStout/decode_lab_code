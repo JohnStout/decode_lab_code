{
 "cells": [
  {
   "cell_type": "markdown",
   "metadata": {},
   "source": [
    "# UCLA Miniscope\n",
    "Below can be changed to convert your miniscope data\n",
    "\n",
    "To run this code follow these instructions:\n",
    "\n",
    "Requirements:\n",
    "1. Anaconda3\n",
    "2. VScode or Spyder (code written in VScode, would recommend)\n",
    "\n",
    "Installation:\n",
    "\n",
    "    conda create -n decode_lab_env python=3.9\n",
    "    conda activate decode_lab_env\n",
    "    git clone https://github.com/JohnStout/hernan-lab-to-nwb \n",
    "    cd hernan-lab-to-nwb\n",
    "    pip install - e.\n",
    "\n",
    "---"
   ]
  },
  {
   "cell_type": "code",
   "execution_count": null,
   "metadata": {},
   "outputs": [],
   "source": [
    "# load packages\n",
    "from hernan_lab_to_nwb.readers import ioreaders\n",
    "from hernan_lab_to_nwb.utils import nwb_utils\n",
    "\n",
    "# Define folder path - path to folder with all data inside\n",
    "folder_path = r'/Users/js0403/miniscope/data/134A/AAV2/3-Syn-GCaMP8f/2023_11_14/13_21_49' # folder path\n",
    "\n",
    "# instatiate object with directory\n",
    "ophys_object = ioreaders.read_miniscope(folder_path = folder_path)\n",
    "\n",
    "# write to NWB - this is recommended rather than separately visualizing the datasets\n",
    "ophys_object.write_nwb()"
   ]
  },
  {
   "cell_type": "code",
   "execution_count": null,
   "metadata": {},
   "outputs": [],
   "source": [
    "from pynwb import NWBHDF5IO, NWBFile, TimeSeries\n",
    "import matplotlib.pyplot as plt\n",
    "with NWBHDF5IO(ophys_object.nwbpath, \"r+\") as io:\n",
    "    print(\"Reading nwbfile from: \",(ophys_object.nwbpath))\n",
    "    nwbfile = io.read()\n",
    "    tester = nwbfile.acquisition['recording0'].data[:]\n",
    "plt.imshow(tester[0,:,:])"
   ]
  }
 ],
 "metadata": {
  "kernelspec": {
   "display_name": "decode_lab_env",
   "language": "python",
   "name": "python3"
  },
  "language_info": {
   "name": "python",
   "version": "3.9.18"
  }
 },
 "nbformat": 4,
 "nbformat_minor": 2
}
