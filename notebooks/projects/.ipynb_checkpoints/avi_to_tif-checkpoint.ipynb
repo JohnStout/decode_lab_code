{
 "cells": [
  {
   "cell_type": "markdown",
   "metadata": {},
   "source": [
    "# Convert .avi to .tif\n",
    "\n",
    "This code is super simple because it is pulling from .miniscope_to_tif\n",
    "\n",
    "The purpose is to do a batch conversion and concatenation of all of your .avi files into tifs"
   ]
  },
  {
   "cell_type": "code",
   "execution_count": 1,
   "metadata": {},
   "outputs": [],
   "source": [
    "from decode_lab_code.calcium_imaging import preprocessing_utils as putils\n",
    "putils.miniscope_to_tif(movie_path = r'/Users/js0403/miniscope/data/134A/AAV2/3-Syn-GCaMP8f/2024_01_23/14_04_52/miniscopeDeviceName')"
   ]
  }
 ],
 "metadata": {
  "kernelspec": {
   "display_name": "caiman",
   "language": "python",
   "name": "python3"
  },
  "language_info": {
   "codemirror_mode": {
    "name": "ipython",
    "version": 3
   },
   "file_extension": ".py",
   "mimetype": "text/x-python",
   "name": "python",
   "nbconvert_exporter": "python",
   "pygments_lexer": "ipython3",
   "version": "3.11.7"
  }
 },
 "nbformat": 4,
 "nbformat_minor": 2
}
