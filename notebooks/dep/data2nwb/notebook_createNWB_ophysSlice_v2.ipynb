{
 "cells": [
  {
   "cell_type": "markdown",
   "metadata": {},
   "source": [
    "### Demo: converting OPHYS to NWB and then extracting relevant metadata for analysis\n",
    "Neurodata Without Borders (NWB) is a powerful tool for organizing your data for purposes such as:\n",
    "* data sharing\n",
    "* result reproduction\n",
    "* experiment organization\n",
    "\n",
    "Here is a demo showing its utility:\n",
    "_____"
   ]
  },
  {
   "cell_type": "markdown",
   "metadata": {},
   "source": [
    "### Relevant packages\n",
    "For Ophys, we must have the following packages:\n",
    "* 'pynwb'\n",
    "* 'scikit-image'\n",
    "* matplotlib\n"
   ]
  },
  {
   "cell_type": "code",
   "execution_count": 1,
   "metadata": {},
   "outputs": [],
   "source": [
    "# This code will generate an NWB file for ophys data\n",
    "from datetime import datetime\n",
    "from uuid import uuid4\n",
    "import numpy as np\n",
    "from dateutil import tz\n",
    "from pynwb import NWBHDF5IO, NWBFile, TimeSeries\n",
    "from pynwb.behavior import Position, SpatialSeries\n",
    "from pynwb.epoch import TimeIntervals\n",
    "from pynwb.file import Subject\n",
    "\n",
    "#import cv2\n",
    "from skimage import io\n",
    "\n",
    "import matplotlib.pyplot as plt\n",
    "import numpy as np\n",
    "from dateutil.tz import tzlocal\n",
    "\n",
    "from pynwb import NWBHDF5IO, NWBFile, TimeSeries\n",
    "from pynwb.image import ImageSeries\n",
    "from pynwb.ophys import (\n",
    "    CorrectedImageStack,\n",
    "    Fluorescence,\n",
    "    ImageSegmentation,\n",
    "    MotionCorrection,\n",
    "    OnePhotonSeries,\n",
    "    OpticalChannel,\n",
    "    RoiResponseSeries,\n",
    "    TwoPhotonSeries,\n",
    ")"
   ]
  },
  {
   "cell_type": "markdown",
   "metadata": {},
   "source": [
    "### Lets build our NWB file using the ``NWBFile`` object"
   ]
  },
  {
   "cell_type": "code",
   "execution_count": 2,
   "metadata": {},
   "outputs": [],
   "source": [
    "session_start_time = datetime(2018, 4, 25, 2, 30, 3, tzinfo=tz.gettz(\"US/Pacific\"))\n",
    "# initialize the nwbfile\n",
    "nwbfile = NWBFile(\n",
    "    session_description=input(\"Enter description of your recording session: \"),  # required\n",
    "    identifier=str(uuid4()),  # required\n",
    "    session_start_time=session_start_time,  # required\n",
    "    session_id=input(\"Enter unique identifier for session: \"),  # optional\n",
    "    experimenter=[\n",
    "        input(\"Enter experimenter name: \"),\n",
    "    ],  # optional\n",
    "    lab=input(\"Enter lab name: \"),  # optional\n",
    "    institution=input(\"Enter institution name: \"),  # optional\n",
    "    experiment_description=input(\"Enter a description of your experiment\"),  # optional\n",
    "    related_publications=input(\"Enter any information about publication (if relevant)\"),  # optional\n",
    ")"
   ]
  },
  {
   "cell_type": "markdown",
   "metadata": {},
   "source": [
    "### Enter information about subject"
   ]
  },
  {
   "cell_type": "code",
   "execution_count": 3,
   "metadata": {},
   "outputs": [],
   "source": [
    "# enter information about subject\n",
    "nwbfile.subject = Subject(\n",
    "    subject_id=input(\"Enter subject ID: \"),\n",
    "    age=input(\"Enter subject age as such (PD100):  \"),\n",
    "    description=input(\"Enter subject identifier: \"),\n",
    "    species=input(\"Enter species name: \"),\n",
    "    sex=input(\"Enter sex of subject: \"),\n",
    ")"
   ]
  },
  {
   "cell_type": "markdown",
   "metadata": {},
   "source": [
    "### Add our data to the NWB file"
   ]
  },
  {
   "cell_type": "markdown",
   "metadata": {},
   "source": [
    "Interface with the user to get some information about directory"
   ]
  },
  {
   "cell_type": "code",
   "execution_count": 4,
   "metadata": {},
   "outputs": [],
   "source": [
    "# directory information\n",
    "folder_name = input(\"Enter the folder name for your data: \")\n",
    "fname_neuron = input(\"Enter file name with extension: \")\n",
    "frame_rate = float(input(\"Enter the frame rate: \"))"
   ]
  },
  {
   "cell_type": "markdown",
   "metadata": {},
   "source": [
    "Using the scikit-image, we can load in our data with io\n"
   ]
  },
  {
   "cell_type": "code",
   "execution_count": 5,
   "metadata": {},
   "outputs": [],
   "source": [
    "# read data\n",
    "data = io.imread(folder_name+'/'+fname_neuron)"
   ]
  },
  {
   "cell_type": "markdown",
   "metadata": {},
   "source": [
    "Lets view the video for fun"
   ]
  },
  {
   "cell_type": "markdown",
   "metadata": {},
   "source": [
    "### Now lets add the video to the NWB file"
   ]
  },
  {
   "cell_type": "code",
   "execution_count": 6,
   "metadata": {},
   "outputs": [],
   "source": [
    "# create device\n",
    "device = nwbfile.create_device(\n",
    "    name=\"Microscope\",\n",
    "    description=\"My two-photon microscope\",\n",
    "    manufacturer=\"The best microscope manufacturer\",\n",
    ")\n",
    "optical_channel = OpticalChannel(\n",
    "    name=\"OpticalChannel\",\n",
    "    description=\"an optical channel\",\n",
    "    emission_lambda=525.0,\n",
    ")"
   ]
  },
  {
   "cell_type": "markdown",
   "metadata": {},
   "source": [
    "### Create imagingplane"
   ]
  },
  {
   "cell_type": "code",
   "execution_count": 7,
   "metadata": {},
   "outputs": [],
   "source": [
    "# create imagingplane object\n",
    "imaging_plane = nwbfile.create_imaging_plane(\n",
    "    name=\"ImagingPlane\",\n",
    "    optical_channel=optical_channel,\n",
    "    imaging_rate=frame_rate,\n",
    "    description=\"Activation of cells\",\n",
    "    device=device,\n",
    "    excitation_lambda=600.0,\n",
    "    indicator=\"GFP\",\n",
    "    location=\"Somewhere\",\n",
    "    grid_spacing=[0.01, 0.01],\n",
    "    grid_spacing_unit=\"meters\",\n",
    "    origin_coords=[1.0, 2.0, 3.0],\n",
    "    origin_coords_unit=\"meters\",\n",
    ")"
   ]
  },
  {
   "cell_type": "markdown",
   "metadata": {},
   "source": [
    "### Store our 1p data"
   ]
  },
  {
   "cell_type": "code",
   "execution_count": 8,
   "metadata": {},
   "outputs": [],
   "source": [
    "one_p_series1 = OnePhotonSeries(\n",
    "    name=\"CalciumDye\",\n",
    "    data=data,\n",
    "    imaging_plane=imaging_plane,\n",
    "    rate=10.0,\n",
    "    unit=\"pixels\",\n",
    ")"
   ]
  },
  {
   "cell_type": "markdown",
   "metadata": {},
   "source": [
    "### Save output"
   ]
  },
  {
   "cell_type": "code",
   "execution_count": 15,
   "metadata": {},
   "outputs": [
    {
     "ename": "ValueError",
     "evalue": "'CalciumDye' already exists in NWBFile 'root'",
     "output_type": "error",
     "traceback": [
      "\u001b[0;31m---------------------------------------------------------------------------\u001b[0m",
      "\u001b[0;31mValueError\u001b[0m                                Traceback (most recent call last)",
      "Cell \u001b[0;32mIn[15], line 1\u001b[0m\n\u001b[0;32m----> 1\u001b[0m nwbfile\u001b[39m.\u001b[39;49madd_acquisition(one_p_series1)\n\u001b[1;32m      2\u001b[0m \u001b[39mwith\u001b[39;00m NWBHDF5IO(folder_name\u001b[39m+\u001b[39m\u001b[39m\"\u001b[39m\u001b[39m/data_ophys_nwb.nwb\u001b[39m\u001b[39m\"\u001b[39m, \u001b[39m\"\u001b[39m\u001b[39mw\u001b[39m\u001b[39m\"\u001b[39m) \u001b[39mas\u001b[39;00m io:\n\u001b[1;32m      3\u001b[0m     io\u001b[39m.\u001b[39mwrite(nwbfile)\n",
      "File \u001b[0;32m~/anaconda3/envs/pynwb/lib/python3.8/site-packages/hdmf/utils.py:644\u001b[0m, in \u001b[0;36mdocval.<locals>.dec.<locals>.func_call\u001b[0;34m(*args, **kwargs)\u001b[0m\n\u001b[1;32m    642\u001b[0m \u001b[39mdef\u001b[39;00m \u001b[39mfunc_call\u001b[39m(\u001b[39m*\u001b[39margs, \u001b[39m*\u001b[39m\u001b[39m*\u001b[39mkwargs):\n\u001b[1;32m    643\u001b[0m     pargs \u001b[39m=\u001b[39m _check_args(args, kwargs)\n\u001b[0;32m--> 644\u001b[0m     \u001b[39mreturn\u001b[39;00m func(args[\u001b[39m0\u001b[39;49m], \u001b[39m*\u001b[39;49m\u001b[39m*\u001b[39;49mpargs)\n",
      "File \u001b[0;32m~/anaconda3/envs/pynwb/lib/python3.8/site-packages/pynwb/file.py:853\u001b[0m, in \u001b[0;36mNWBFile.add_acquisition\u001b[0;34m(self, **kwargs)\u001b[0m\n\u001b[1;32m    849\u001b[0m \u001b[39m@docval\u001b[39m({\u001b[39m'\u001b[39m\u001b[39mname\u001b[39m\u001b[39m'\u001b[39m: \u001b[39m'\u001b[39m\u001b[39mnwbdata\u001b[39m\u001b[39m'\u001b[39m, \u001b[39m'\u001b[39m\u001b[39mtype\u001b[39m\u001b[39m'\u001b[39m: (NWBDataInterface, DynamicTable)},\n\u001b[1;32m    850\u001b[0m         {\u001b[39m'\u001b[39m\u001b[39mname\u001b[39m\u001b[39m'\u001b[39m: \u001b[39m'\u001b[39m\u001b[39muse_sweep_table\u001b[39m\u001b[39m'\u001b[39m, \u001b[39m'\u001b[39m\u001b[39mtype\u001b[39m\u001b[39m'\u001b[39m: \u001b[39mbool\u001b[39m, \u001b[39m'\u001b[39m\u001b[39mdefault\u001b[39m\u001b[39m'\u001b[39m: \u001b[39mFalse\u001b[39;00m, \u001b[39m'\u001b[39m\u001b[39mdoc\u001b[39m\u001b[39m'\u001b[39m: \u001b[39m'\u001b[39m\u001b[39mUse the deprecated SweepTable\u001b[39m\u001b[39m'\u001b[39m})\n\u001b[1;32m    851\u001b[0m \u001b[39mdef\u001b[39;00m \u001b[39madd_acquisition\u001b[39m(\u001b[39mself\u001b[39m, \u001b[39m*\u001b[39m\u001b[39m*\u001b[39mkwargs):\n\u001b[1;32m    852\u001b[0m     nwbdata \u001b[39m=\u001b[39m popargs(\u001b[39m'\u001b[39m\u001b[39mnwbdata\u001b[39m\u001b[39m'\u001b[39m, kwargs)\n\u001b[0;32m--> 853\u001b[0m     \u001b[39mself\u001b[39;49m\u001b[39m.\u001b[39;49m_add_acquisition_internal(nwbdata)\n\u001b[1;32m    854\u001b[0m     use_sweep_table \u001b[39m=\u001b[39m popargs(\u001b[39m'\u001b[39m\u001b[39muse_sweep_table\u001b[39m\u001b[39m'\u001b[39m, kwargs)\n\u001b[1;32m    855\u001b[0m     \u001b[39mif\u001b[39;00m use_sweep_table:\n",
      "File \u001b[0;32m~/anaconda3/envs/pynwb/lib/python3.8/site-packages/hdmf/utils.py:644\u001b[0m, in \u001b[0;36mdocval.<locals>.dec.<locals>.func_call\u001b[0;34m(*args, **kwargs)\u001b[0m\n\u001b[1;32m    642\u001b[0m \u001b[39mdef\u001b[39;00m \u001b[39mfunc_call\u001b[39m(\u001b[39m*\u001b[39margs, \u001b[39m*\u001b[39m\u001b[39m*\u001b[39mkwargs):\n\u001b[1;32m    643\u001b[0m     pargs \u001b[39m=\u001b[39m _check_args(args, kwargs)\n\u001b[0;32m--> 644\u001b[0m     \u001b[39mreturn\u001b[39;00m func(args[\u001b[39m0\u001b[39;49m], \u001b[39m*\u001b[39;49m\u001b[39m*\u001b[39;49mpargs)\n",
      "File \u001b[0;32m~/anaconda3/envs/pynwb/lib/python3.8/site-packages/hdmf/container.py:980\u001b[0m, in \u001b[0;36mMultiContainerInterface.__make_add.<locals>._func\u001b[0;34m(self, **kwargs)\u001b[0m\n\u001b[1;32m    978\u001b[0m     \u001b[39mif\u001b[39;00m tmp\u001b[39m.\u001b[39mname \u001b[39min\u001b[39;00m d:\n\u001b[1;32m    979\u001b[0m         msg \u001b[39m=\u001b[39m \u001b[39m\"\u001b[39m\u001b[39m'\u001b[39m\u001b[39m%s\u001b[39;00m\u001b[39m'\u001b[39m\u001b[39m already exists in \u001b[39m\u001b[39m%s\u001b[39;00m\u001b[39m \u001b[39m\u001b[39m'\u001b[39m\u001b[39m%s\u001b[39;00m\u001b[39m'\u001b[39m\u001b[39m\"\u001b[39m \u001b[39m%\u001b[39m (tmp\u001b[39m.\u001b[39mname, \u001b[39mcls\u001b[39m\u001b[39m.\u001b[39m\u001b[39m__name__\u001b[39m, \u001b[39mself\u001b[39m\u001b[39m.\u001b[39mname)\n\u001b[0;32m--> 980\u001b[0m         \u001b[39mraise\u001b[39;00m \u001b[39mValueError\u001b[39;00m(msg)\n\u001b[1;32m    981\u001b[0m     d[tmp\u001b[39m.\u001b[39mname] \u001b[39m=\u001b[39m tmp\n\u001b[1;32m    982\u001b[0m \u001b[39mreturn\u001b[39;00m container\n",
      "\u001b[0;31mValueError\u001b[0m: 'CalciumDye' already exists in NWBFile 'root'"
     ]
    }
   ],
   "source": [
    "nwbfile.add_acquisition(one_p_series1)\n",
    "with NWBHDF5IO(folder_name+\"/data_ophys_nwb.nwb\", \"w\") as io:\n",
    "    io.write(nwbfile)"
   ]
  },
  {
   "cell_type": "code",
   "execution_count": 19,
   "metadata": {},
   "outputs": [],
   "source": [
    "np.save(folder_name+\"/data_ophys.npy\",data)\n",
    "bad_frames = np.array([20,30,40])\n",
    "np.save(folder_name+'/bad_frames.npy', bad_frames)"
   ]
  },
  {
   "cell_type": "markdown",
   "metadata": {},
   "source": [
    "### Lets visualize the results"
   ]
  },
  {
   "cell_type": "code",
   "execution_count": 14,
   "metadata": {},
   "outputs": [
    {
     "data": {
      "text/html": [
       "\n",
       "        <style>\n",
       "            .container-fields {\n",
       "                font-family: \"Open Sans\", Arial, sans-serif;\n",
       "            }\n",
       "            .container-fields .field-value {\n",
       "                color: #00788E;\n",
       "            }\n",
       "            .container-fields details > summary {\n",
       "                cursor: pointer;\n",
       "                display: list-item;\n",
       "            }\n",
       "            .container-fields details > summary:hover {\n",
       "                color: #0A6EAA;\n",
       "            }\n",
       "        </style>\n",
       "        \n",
       "        <script>\n",
       "            function copyToClipboard(text) {\n",
       "                navigator.clipboard.writeText(text).then(function() {\n",
       "                    console.log('Copied to clipboard: ' + text);\n",
       "                }, function(err) {\n",
       "                    console.error('Could not copy text: ', err);\n",
       "                });\n",
       "            }\n",
       "\n",
       "            document.addEventListener('DOMContentLoaded', function() {\n",
       "                let fieldKeys = document.querySelectorAll('.container-fields .field-key');\n",
       "                fieldKeys.forEach(function(fieldKey) {\n",
       "                    fieldKey.addEventListener('click', function() {\n",
       "                        let accessCode = fieldKey.getAttribute('title').replace('Access code: ', '');\n",
       "                        copyToClipboard(accessCode);\n",
       "                    });\n",
       "                });\n",
       "            });\n",
       "        </script>\n",
       "        <div class='container-wrap'><div class='container-header'><div class='xr-obj-type'><h3>root (NWBFile)</h3></div></div><div style=\"margin-left: 0px;\" class=\"container-fields\"><span class=\"field-key\" title=\".fields['session_description']\">session_description:</span> <span class=\"field-value\">kjl;'</span></div><div style=\"margin-left: 0px;\" class=\"container-fields\"><span class=\"field-key\" title=\".fields['identifier']\">identifier:</span> <span class=\"field-value\">96bc0263-93f9-4355-91e1-595fdd61035c</span></div><div style=\"margin-left: 0px;\" class=\"container-fields\"><span class=\"field-key\" title=\".fields['session_start_time']\">session_start_time:</span> <span class=\"field-value\">2018-04-25 02:30:03-07:00</span></div><div style=\"margin-left: 0px;\" class=\"container-fields\"><span class=\"field-key\" title=\".fields['timestamps_reference_time']\">timestamps_reference_time:</span> <span class=\"field-value\">2018-04-25 02:30:03-07:00</span></div><details><summary style=\"display: list-item; margin-left: 0px;\" class=\"container-fields field-key\" title=\".fields['file_create_date']\"><b>file_create_date</b></summary><div style=\"margin-left: 20px;\" class=\"container-fields\"><span class=\"field-value\" title=\".fields['file_create_date'][0]\">2023-08-18 14:09:37.503580-04:00</span></div></details><details><summary style=\"display: list-item; margin-left: 0px;\" class=\"container-fields field-key\" title=\".fields['experimenter']\"><b>experimenter</b></summary><div style=\"margin-left: 20px;\" class=\"container-fields\"><span class=\"field-value\" title=\".fields['experimenter'][0]\"></span></div></details><div style=\"margin-left: 0px;\" class=\"container-fields\"><span class=\"field-key\" title=\".fields['related_publications']\">related_publications:</span> <span class=\"field-value\">('',)</span></div><div style=\"margin-left: 0px;\" class=\"container-fields\"><span class=\"field-key\" title=\".fields['epoch_tags']\">epoch_tags:</span> <span class=\"field-value\">set()</span></div><div style=\"margin-left: 0px;\" class=\"container-fields\"><span class=\"field-key\" title=\".fields['experiment_description']\">experiment_description:</span> <span class=\"field-value\"></span></div><div style=\"margin-left: 0px;\" class=\"container-fields\"><span class=\"field-key\" title=\".fields['session_id']\">session_id:</span> <span class=\"field-value\"></span></div><div style=\"margin-left: 0px;\" class=\"container-fields\"><span class=\"field-key\" title=\".fields['lab']\">lab:</span> <span class=\"field-value\"></span></div><div style=\"margin-left: 0px;\" class=\"container-fields\"><span class=\"field-key\" title=\".fields['institution']\">institution:</span> <span class=\"field-value\"></span></div><details><summary style=\"display: list-item; margin-left: 0px;\" class=\"container-fields field-key\" title=\".fields['subject']\"><b>subject</b></summary><div style=\"margin-left: 20px;\" class=\"container-fields\"><span class=\"field-key\" title=\".fields['subject'].fields['age']\">age:</span> <span class=\"field-value\"></span></div><div style=\"margin-left: 20px;\" class=\"container-fields\"><span class=\"field-key\" title=\".fields['subject'].fields['age__reference']\">age__reference:</span> <span class=\"field-value\">birth</span></div><div style=\"margin-left: 20px;\" class=\"container-fields\"><span class=\"field-key\" title=\".fields['subject'].fields['description']\">description:</span> <span class=\"field-value\"></span></div><div style=\"margin-left: 20px;\" class=\"container-fields\"><span class=\"field-key\" title=\".fields['subject'].fields['sex']\">sex:</span> <span class=\"field-value\"></span></div><div style=\"margin-left: 20px;\" class=\"container-fields\"><span class=\"field-key\" title=\".fields['subject'].fields['species']\">species:</span> <span class=\"field-value\"></span></div><div style=\"margin-left: 20px;\" class=\"container-fields\"><span class=\"field-key\" title=\".fields['subject'].fields['subject_id']\">subject_id:</span> <span class=\"field-value\"></span></div></details><details><summary style=\"display: list-item; margin-left: 0px;\" class=\"container-fields field-key\" title=\".fields['devices']\"><b>devices (1)</b></summary><details><summary style=\"display: list-item; margin-left: 20px;\" class=\"container-fields field-key\" title=\".fields['devices']['Microscope']\"><b>Microscope</b></summary><div style=\"margin-left: 40px;\" class=\"container-fields\"><span class=\"field-key\" title=\".fields['devices']['Microscope'].fields['description']\">description:</span> <span class=\"field-value\">My two-photon microscope</span></div><div style=\"margin-left: 40px;\" class=\"container-fields\"><span class=\"field-key\" title=\".fields['devices']['Microscope'].fields['manufacturer']\">manufacturer:</span> <span class=\"field-value\">The best microscope manufacturer</span></div></details></details><details><summary style=\"display: list-item; margin-left: 0px;\" class=\"container-fields field-key\" title=\".fields['imaging_planes']\"><b>imaging_planes (1)</b></summary><details><summary style=\"display: list-item; margin-left: 20px;\" class=\"container-fields field-key\" title=\".fields['imaging_planes']['ImagingPlane']\"><b>ImagingPlane</b></summary><details><summary style=\"display: list-item; margin-left: 40px;\" class=\"container-fields field-key\" title=\".fields['imaging_planes']['ImagingPlane'].fields['optical_channel']\"><b>optical_channel</b></summary><div style=\"margin-left: 60px;\" class=\"container-fields\"><span class=\"field-value\" title=\".fields['imaging_planes']['ImagingPlane'].fields['optical_channel'][0]\">OpticalChannel pynwb.ophys.OpticalChannel at 0x4389471856\n",
       "Fields:\n",
       "  description: an optical channel\n",
       "  emission_lambda: 525.0\n",
       "</span></div></details><div style=\"margin-left: 40px;\" class=\"container-fields\"><span class=\"field-key\" title=\".fields['imaging_planes']['ImagingPlane'].fields['description']\">description:</span> <span class=\"field-value\">Activation of cells</span></div><details><summary style=\"display: list-item; margin-left: 40px;\" class=\"container-fields field-key\" title=\".fields['imaging_planes']['ImagingPlane'].fields['device']\"><b>device</b></summary><div style=\"margin-left: 60px;\" class=\"container-fields\"><span class=\"field-key\" title=\".fields['imaging_planes']['ImagingPlane'].fields['device'].fields['description']\">description:</span> <span class=\"field-value\">My two-photon microscope</span></div><div style=\"margin-left: 60px;\" class=\"container-fields\"><span class=\"field-key\" title=\".fields['imaging_planes']['ImagingPlane'].fields['device'].fields['manufacturer']\">manufacturer:</span> <span class=\"field-value\">The best microscope manufacturer</span></div></details><div style=\"margin-left: 40px;\" class=\"container-fields\"><span class=\"field-key\" title=\".fields['imaging_planes']['ImagingPlane'].fields['excitation_lambda']\">excitation_lambda:</span> <span class=\"field-value\">600.0</span></div><div style=\"margin-left: 40px;\" class=\"container-fields\"><span class=\"field-key\" title=\".fields['imaging_planes']['ImagingPlane'].fields['imaging_rate']\">imaging_rate:</span> <span class=\"field-value\">10.0</span></div><div style=\"margin-left: 40px;\" class=\"container-fields\"><span class=\"field-key\" title=\".fields['imaging_planes']['ImagingPlane'].fields['indicator']\">indicator:</span> <span class=\"field-value\">GFP</span></div><div style=\"margin-left: 40px;\" class=\"container-fields\"><span class=\"field-key\" title=\".fields['imaging_planes']['ImagingPlane'].fields['location']\">location:</span> <span class=\"field-value\">Somewhere</span></div><div style=\"margin-left: 40px;\" class=\"container-fields\"><span class=\"field-key\" title=\".fields['imaging_planes']['ImagingPlane'].fields['conversion']\">conversion:</span> <span class=\"field-value\">1.0</span></div><div style=\"margin-left: 40px;\" class=\"container-fields\"><span class=\"field-key\" title=\".fields['imaging_planes']['ImagingPlane'].fields['unit']\">unit:</span> <span class=\"field-value\">meters</span></div></details></details><details><summary style=\"display: list-item; margin-left: 0px;\" class=\"container-fields field-key\" title=\".fields['acquisition']\"><b>acquisition (1)</b></summary><details><summary style=\"display: list-item; margin-left: 20px;\" class=\"container-fields field-key\" title=\".fields['acquisition']['CalciumDye']\"><b>CalciumDye</b></summary><div style=\"margin-left: 40px;\" class=\"container-fields\"><span class=\"field-key\" title=\".fields['acquisition']['CalciumDye'].fields['rate']\">rate:</span> <span class=\"field-value\">10.0</span></div><div style=\"margin-left: 40px;\" class=\"container-fields\"><span class=\"field-key\" title=\".fields['acquisition']['CalciumDye'].fields['resolution']\">resolution:</span> <span class=\"field-value\">-1.0</span></div><div style=\"margin-left: 40px;\" class=\"container-fields\"><span class=\"field-key\" title=\".fields['acquisition']['CalciumDye'].fields['comments']\">comments:</span> <span class=\"field-value\">no comments</span></div><div style=\"margin-left: 40px;\" class=\"container-fields\"><span class=\"field-key\" title=\".fields['acquisition']['CalciumDye'].fields['description']\">description:</span> <span class=\"field-value\">no description</span></div><div style=\"margin-left: 40px;\" class=\"container-fields\"><span class=\"field-key\" title=\".fields['acquisition']['CalciumDye'].fields['conversion']\">conversion:</span> <span class=\"field-value\">1.0</span></div><div style=\"margin-left: 40px;\" class=\"container-fields\"><span class=\"field-key\" title=\".fields['acquisition']['CalciumDye'].fields['offset']\">offset:</span> <span class=\"field-value\">0.0</span></div><div style=\"margin-left: 40px;\" class=\"container-fields\"><span class=\"field-key\" title=\".fields['acquisition']['CalciumDye'].fields['unit']\">unit:</span> <span class=\"field-value\">pixels</span></div><details><summary style=\"display: list-item; margin-left: 40px;\" class=\"container-fields field-key\" title=\".fields['acquisition']['CalciumDye'].fields['data']\"><b>data</b></summary><div style=\"margin-left: 60px;\" class=\"container-fields\">[[[395. 334. 257. ... 420. 501. 537.]</br>  [254. 367. 405. ... 443. 475. 350.]</br>  [336. 337. 381. ... 399. 459. 523.]</br>  ...</br>  [535. 367. 482. ... 607. 696. 649.]</br>  [389. 473. 481. ... 547. 603. 545.]</br>  [536. 595. 555. ... 742. 564. 616.]]</br></br> [[384. 416. 316. ... 422. 504. 416.]</br>  [297. 365. 355. ... 498. 459. 413.]</br>  [390. 360. 348. ... 522. 500. 474.]</br>  ...</br>  [520. 357. 448. ... 567. 600. 585.]</br>  [421. 394. 466. ... 529. 701. 498.]</br>  [629. 489. 475. ... 733. 534. 518.]]</br></br> [[402. 448. 383. ... 414. 486. 420.]</br>  [317. 357. 306. ... 438. 569. 425.]</br>  [384. 462. 398. ... 488. 512. 611.]</br>  ...</br>  [448. 452. 450. ... 710. 583. 659.]</br>  [425. 361. 477. ... 519. 690. 582.]</br>  [634. 625. 540. ... 810. 582. 485.]]</br></br> ...</br></br> [[377. 256. 392. ... 543. 433. 539.]</br>  [304. 392. 344. ... 370. 553. 385.]</br>  [247. 414. 327. ... 356. 429. 423.]</br>  ...</br>  [458. 331. 383. ... 492. 674. 528.]</br>  [399. 579. 441. ... 704. 621. 426.]</br>  [374. 406. 384. ... 558. 578. 594.]]</br></br> [[327. 387. 377. ... 491. 401. 507.]</br>  [314. 304. 323. ... 319. 553. 355.]</br>  [349. 361. 409. ... 363. 432. 449.]</br>  ...</br>  [413. 342. 356. ... 712. 654. 603.]</br>  [377. 550. 416. ... 586. 672. 469.]</br>  [354. 388. 403. ... 481. 590. 506.]]</br></br> [[344. 448. 381. ... 571. 410. 473.]</br>  [321. 270. 283. ... 431. 600. 394.]</br>  [341. 333. 448. ... 401. 530. 506.]</br>  ...</br>  [435. 357. 382. ... 676. 607. 658.]</br>  [438. 495. 472. ... 503. 562. 374.]</br>  [330. 458. 383. ... 457. 731. 438.]]]</div></details><div style=\"margin-left: 40px;\" class=\"container-fields\"><span class=\"field-key\" title=\".fields['acquisition']['CalciumDye'].fields['starting_time']\">starting_time:</span> <span class=\"field-value\">0.0</span></div><div style=\"margin-left: 40px;\" class=\"container-fields\"><span class=\"field-key\" title=\".fields['acquisition']['CalciumDye'].fields['starting_time_unit']\">starting_time_unit:</span> <span class=\"field-value\">seconds</span></div><details><summary style=\"display: list-item; margin-left: 40px;\" class=\"container-fields field-key\" title=\".fields['acquisition']['CalciumDye'].fields['imaging_plane']\"><b>imaging_plane</b></summary><details><summary style=\"display: list-item; margin-left: 60px;\" class=\"container-fields field-key\" title=\".fields['acquisition']['CalciumDye'].fields['imaging_plane'].fields['optical_channel']\"><b>optical_channel</b></summary><div style=\"margin-left: 80px;\" class=\"container-fields\"><span class=\"field-value\" title=\".fields['acquisition']['CalciumDye'].fields['imaging_plane'].fields['optical_channel'][0]\">OpticalChannel pynwb.ophys.OpticalChannel at 0x4389471856\n",
       "Fields:\n",
       "  description: an optical channel\n",
       "  emission_lambda: 525.0\n",
       "</span></div></details><div style=\"margin-left: 60px;\" class=\"container-fields\"><span class=\"field-key\" title=\".fields['acquisition']['CalciumDye'].fields['imaging_plane'].fields['description']\">description:</span> <span class=\"field-value\">Activation of cells</span></div><details><summary style=\"display: list-item; margin-left: 60px;\" class=\"container-fields field-key\" title=\".fields['acquisition']['CalciumDye'].fields['imaging_plane'].fields['device']\"><b>device</b></summary><div style=\"margin-left: 80px;\" class=\"container-fields\"><span class=\"field-key\" title=\".fields['acquisition']['CalciumDye'].fields['imaging_plane'].fields['device'].fields['description']\">description:</span> <span class=\"field-value\">My two-photon microscope</span></div><div style=\"margin-left: 80px;\" class=\"container-fields\"><span class=\"field-key\" title=\".fields['acquisition']['CalciumDye'].fields['imaging_plane'].fields['device'].fields['manufacturer']\">manufacturer:</span> <span class=\"field-value\">The best microscope manufacturer</span></div></details><div style=\"margin-left: 60px;\" class=\"container-fields\"><span class=\"field-key\" title=\".fields['acquisition']['CalciumDye'].fields['imaging_plane'].fields['excitation_lambda']\">excitation_lambda:</span> <span class=\"field-value\">600.0</span></div><div style=\"margin-left: 60px;\" class=\"container-fields\"><span class=\"field-key\" title=\".fields['acquisition']['CalciumDye'].fields['imaging_plane'].fields['imaging_rate']\">imaging_rate:</span> <span class=\"field-value\">10.0</span></div><div style=\"margin-left: 60px;\" class=\"container-fields\"><span class=\"field-key\" title=\".fields['acquisition']['CalciumDye'].fields['imaging_plane'].fields['indicator']\">indicator:</span> <span class=\"field-value\">GFP</span></div><div style=\"margin-left: 60px;\" class=\"container-fields\"><span class=\"field-key\" title=\".fields['acquisition']['CalciumDye'].fields['imaging_plane'].fields['location']\">location:</span> <span class=\"field-value\">Somewhere</span></div><div style=\"margin-left: 60px;\" class=\"container-fields\"><span class=\"field-key\" title=\".fields['acquisition']['CalciumDye'].fields['imaging_plane'].fields['conversion']\">conversion:</span> <span class=\"field-value\">1.0</span></div><div style=\"margin-left: 60px;\" class=\"container-fields\"><span class=\"field-key\" title=\".fields['acquisition']['CalciumDye'].fields['imaging_plane'].fields['unit']\">unit:</span> <span class=\"field-value\">meters</span></div></details></details></details><details><summary style=\"display: list-item; margin-left: 0px;\" class=\"container-fields field-key\" title=\".fields['analysis']\"><b>analysis (0)</b></summary></details><details><summary style=\"display: list-item; margin-left: 0px;\" class=\"container-fields field-key\" title=\".fields['scratch']\"><b>scratch (0)</b></summary></details><details><summary style=\"display: list-item; margin-left: 0px;\" class=\"container-fields field-key\" title=\".fields['processing']\"><b>processing (0)</b></summary></details><details><summary style=\"display: list-item; margin-left: 0px;\" class=\"container-fields field-key\" title=\".fields['stimulus']\"><b>stimulus (0)</b></summary></details><details><summary style=\"display: list-item; margin-left: 0px;\" class=\"container-fields field-key\" title=\".fields['stimulus_template']\"><b>stimulus_template (0)</b></summary></details><details><summary style=\"display: list-item; margin-left: 0px;\" class=\"container-fields field-key\" title=\".fields['lab_meta_data']\"><b>lab_meta_data (0)</b></summary></details><details><summary style=\"display: list-item; margin-left: 0px;\" class=\"container-fields field-key\" title=\".fields['electrode_groups']\"><b>electrode_groups (0)</b></summary></details><details><summary style=\"display: list-item; margin-left: 0px;\" class=\"container-fields field-key\" title=\".fields['icephys_electrodes']\"><b>icephys_electrodes (0)</b></summary></details><details><summary style=\"display: list-item; margin-left: 0px;\" class=\"container-fields field-key\" title=\".fields['ogen_sites']\"><b>ogen_sites (0)</b></summary></details><details><summary style=\"display: list-item; margin-left: 0px;\" class=\"container-fields field-key\" title=\".fields['intervals']\"><b>intervals (0)</b></summary></details></div>"
      ],
      "text/plain": [
       "root pynwb.file.NWBFile at 0x6056640416\n",
       "Fields:\n",
       "  acquisition: {\n",
       "    CalciumDye <class 'pynwb.ophys.OnePhotonSeries'>\n",
       "  }\n",
       "  devices: {\n",
       "    Microscope <class 'pynwb.device.Device'>\n",
       "  }\n",
       "  experimenter: ['']\n",
       "  file_create_date: [datetime.datetime(2023, 8, 18, 14, 9, 37, 503580, tzinfo=tzlocal())]\n",
       "  identifier: 96bc0263-93f9-4355-91e1-595fdd61035c\n",
       "  imaging_planes: {\n",
       "    ImagingPlane <class 'pynwb.ophys.ImagingPlane'>\n",
       "  }\n",
       "  related_publications: ['']\n",
       "  session_description: kjl;'\n",
       "  session_start_time: 2018-04-25 02:30:03-07:00\n",
       "  subject: subject pynwb.file.Subject at 0x4389383376\n",
       "Fields:\n",
       "  age__reference: birth\n",
       "\n",
       "  timestamps_reference_time: 2018-04-25 02:30:03-07:00"
      ]
     },
     "execution_count": 14,
     "metadata": {},
     "output_type": "execute_result"
    }
   ],
   "source": [
    "nwbfile"
   ]
  },
  {
   "cell_type": "code",
   "execution_count": null,
   "metadata": {},
   "outputs": [],
   "source": []
  }
 ],
 "metadata": {
  "kernelspec": {
   "display_name": "caiman",
   "language": "python",
   "name": "python3"
  },
  "language_info": {
   "codemirror_mode": {
    "name": "ipython",
    "version": 3
   },
   "file_extension": ".py",
   "mimetype": "text/x-python",
   "name": "python",
   "nbconvert_exporter": "python",
   "pygments_lexer": "ipython3",
   "version": "3.8.17"
  },
  "orig_nbformat": 4
 },
 "nbformat": 4,
 "nbformat_minor": 2
}
