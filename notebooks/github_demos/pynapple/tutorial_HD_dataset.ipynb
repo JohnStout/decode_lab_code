{
 "cells": [
  {
   "cell_type": "code",
   "execution_count": null,
   "metadata": {
    "collapsed": false,
    "jupyter": {
     "outputs_hidden": false
    }
   },
   "outputs": [],
   "source": [
    "%matplotlib inline"
   ]
  },
  {
   "cell_type": "markdown",
   "metadata": {},
   "source": [
    "\n",
    "Peyrache et al (2015) Dataset Tutorial\n",
    "============\n",
    "\n",
    "This tutorial demonstrates how we use Pynapple to generate Figure 4a in the [publication](https://elifesciences.org/reviewed-preprints/85786).\n",
    "The NWB file for the example is hosted on [OSF](https://osf.io/jb2gd). We show below how to stream it.\n",
    "The entire dataset can be downloaded [here](https://dandiarchive.org/dandiset/000056).\n",
    "\n",
    "See the [documentation](https://pynapple-org.github.io/pynapple/) of Pynapple for instructions on installing the package.\n",
    "\n",
    "This tutorial was made by Dhruv Mehrotra and Guillaume Viejo.\n"
   ]
  },
  {
   "cell_type": "markdown",
   "metadata": {},
   "source": [
    "!!! warning\n",
    "    This tutorial uses seaborn and matplotlib for displaying the figure\n",
    "\n",
    "    You can install all with `pip install matplotlib seaborn tqdm`\n",
    "\n",
    "mkdocs_gallery_thumbnail_number = 2\n",
    "\n",
    "Now, import the necessary libraries:\n",
    "\n"
   ]
  },
  {
   "cell_type": "code",
   "execution_count": 1,
   "metadata": {
    "collapsed": false,
    "jupyter": {
     "outputs_hidden": false
    }
   },
   "outputs": [],
   "source": [
    "import numpy as np\n",
    "import pandas as pd\n",
    "import pynapple as nap\n",
    "import scipy.ndimage\n",
    "import matplotlib.pyplot as plt\n",
    "import requests, math, os\n",
    "import tqdm"
   ]
  },
  {
   "cell_type": "markdown",
   "metadata": {},
   "source": [
    "***\n",
    "Downloading the data\n",
    "------------------\n",
    "\n",
    "It's a small NWB file.\n",
    "\n"
   ]
  },
  {
   "cell_type": "code",
   "execution_count": 2,
   "metadata": {
    "collapsed": false,
    "jupyter": {
     "outputs_hidden": false
    }
   },
   "outputs": [
    {
     "name": "stderr",
     "output_type": "stream",
     "text": [
      "35.0MB [00:04, 7.74MB/s]                                                        \n"
     ]
    }
   ],
   "source": [
    "path = \"Mouse32-140822.nwb\"\n",
    "if path not in os.listdir(\".\"):\n",
    "    r = requests.get(f\"https://osf.io/jb2gd/download\", stream=True)\n",
    "    block_size = 1024*1024\n",
    "    with open(path, 'wb') as f:\n",
    "        for data in tqdm.tqdm(r.iter_content(block_size), unit='MB', unit_scale=True,\n",
    "            total=math.ceil(int(r.headers.get('content-length', 0))//block_size)):\n",
    "            f.write(data)"
   ]
  },
  {
   "cell_type": "markdown",
   "metadata": {},
   "source": [
    "***\n",
    "Parsing the data\n",
    "------------------\n",
    "\n",
    "The first step is to load the data and other relevant variables of interest\n",
    "\n"
   ]
  },
  {
   "cell_type": "code",
   "execution_count": 3,
   "metadata": {
    "collapsed": false,
    "jupyter": {
     "outputs_hidden": false
    }
   },
   "outputs": [],
   "source": [
    "data = nap.load_file(path)  # Load the NWB file for this dataset"
   ]
  },
  {
   "cell_type": "markdown",
   "metadata": {},
   "source": [
    "What does this look like ?\n",
    "\n"
   ]
  },
  {
   "cell_type": "code",
   "execution_count": 4,
   "metadata": {
    "collapsed": false,
    "jupyter": {
     "outputs_hidden": false
    }
   },
   "outputs": [
    {
     "name": "stdout",
     "output_type": "stream",
     "text": [
      "Mouse32-140822\n",
      "┍━━━━━━━━━━━━━━━━━━━━━━━┯━━━━━━━━━━━━━┑\n",
      "│ Keys                  │ Type        │\n",
      "┝━━━━━━━━━━━━━━━━━━━━━━━┿━━━━━━━━━━━━━┥\n",
      "│ units                 │ TsGroup     │\n",
      "│ sws                   │ IntervalSet │\n",
      "│ rem                   │ IntervalSet │\n",
      "│ position_time_support │ IntervalSet │\n",
      "│ epochs                │ IntervalSet │\n",
      "│ ry                    │ Tsd         │\n",
      "┕━━━━━━━━━━━━━━━━━━━━━━━┷━━━━━━━━━━━━━┙\n"
     ]
    }
   ],
   "source": [
    "print(data)"
   ]
  },
  {
   "cell_type": "markdown",
   "metadata": {},
   "source": [
    "***\n",
    "Head-Direction Tuning Curves\n",
    "------------------\n",
    "\n",
    "To plot Head-Direction Tuning curves, we need the spike timings and the orientation of the animal. These quantities are stored in the variables 'units' and 'ry'.\n",
    "\n"
   ]
  },
  {
   "cell_type": "code",
   "execution_count": 5,
   "metadata": {
    "collapsed": false,
    "jupyter": {
     "outputs_hidden": false
    }
   },
   "outputs": [],
   "source": [
    "spikes = data[\"units\"]  # Get spike timings\n",
    "epochs = data[\"epochs\"]  # Get the behavioural epochs (in this case, sleep and wakefulness)\n",
    "angle = data[\"ry\"]  # Get the tracked orientation of the animal"
   ]
  },
  {
   "cell_type": "markdown",
   "metadata": {},
   "source": [
    "What does this look like ?\n",
    "\n"
   ]
  },
  {
   "cell_type": "code",
   "execution_count": 6,
   "metadata": {
    "collapsed": false,
    "jupyter": {
     "outputs_hidden": false
    }
   },
   "outputs": [
    {
     "name": "stdout",
     "output_type": "stream",
     "text": [
      "  Index    rate  location      group\n",
      "-------  ------  ----------  -------\n",
      "      0    2.97  thalamus          1\n",
      "      1    2.43  thalamus          1\n",
      "      2    5.93  thalamus          1\n",
      "      3    5.04  thalamus          1\n",
      "      4    0.3   adn               2\n",
      "      5    0.87  adn               2\n",
      "      6    0.36  adn               2\n",
      "      7   10.52  adn               2\n",
      "      8    2.62  adn               2\n",
      "      9    2.56  adn               2\n",
      "     10    7.07  adn               2\n",
      "     11    0.38  adn               2\n",
      "     12    1.58  adn               2\n",
      "     13    4.88  adn               2\n",
      "     14    8.47  adn               2\n",
      "     15    0.24  adn               3\n",
      "     16    0.27  adn               3\n",
      "     17    6.13  adn               3\n",
      "     18   11.01  adn               3\n",
      "     19    5.23  adn               3\n",
      "     20    6.2   adn               3\n",
      "     21    2.85  adn               3\n",
      "     22    9.71  adn               3\n",
      "     23    1.71  adn               3\n",
      "     24   19.65  adn               3\n",
      "     25    3.88  adn               3\n",
      "     26    4.02  adn               3\n",
      "     27    0.69  adn               3\n",
      "     28    1.78  adn               4\n",
      "     29    4.23  adn               4\n",
      "     30    2.15  adn               4\n",
      "     31    0.59  adn               4\n",
      "     32    1.13  adn               4\n",
      "     33    5.26  adn               4\n",
      "     34    1.57  adn               4\n",
      "     35    4.75  thalamus          5\n",
      "     36    1.31  thalamus          5\n",
      "     37    0.77  thalamus          5\n",
      "     38    2.02  thalamus          5\n",
      "     39   27.21  thalamus          5\n",
      "     40    7.28  thalamus          5\n",
      "     41    0.88  thalamus          5\n",
      "     42    1.02  thalamus          5\n",
      "     43    6.85  thalamus          6\n",
      "     44    0.94  thalamus          6\n",
      "     45    0.56  thalamus          6\n",
      "     46    1.15  thalamus          6\n",
      "     47    0.46  thalamus          6\n",
      "     48    0.19  thalamus          7\n"
     ]
    }
   ],
   "source": [
    "print(spikes)"
   ]
  },
  {
   "cell_type": "markdown",
   "metadata": {},
   "source": [
    "Here, rate is the mean firing rate of the unit. Location indicates the brain region the unit was recorded from, and group refers to the shank number on which the cell was located.\n",
    "\n",
    "This dataset contains units recorded from the anterior thalamus. Head-direction (HD) cells are found in the anterodorsal nucleus of the thalamus (henceforth referred to as ADn). Units were also recorded from nearby thalamic nuclei in this animal. For the purposes of our tutorial, we are interested in the units recorded in ADn. We can restrict ourselves to analysis of these units rather easily, using Pynapple.\n",
    "\n"
   ]
  },
  {
   "cell_type": "code",
   "execution_count": 7,
   "metadata": {
    "collapsed": false,
    "jupyter": {
     "outputs_hidden": false
    }
   },
   "outputs": [],
   "source": [
    "spikes_adn = spikes.getby_category(\"location\")[\"adn\"]  # Select only those units that are in ADn"
   ]
  },
  {
   "cell_type": "markdown",
   "metadata": {},
   "source": [
    "What does this look like ?\n",
    "\n"
   ]
  },
  {
   "cell_type": "code",
   "execution_count": 8,
   "metadata": {
    "collapsed": false,
    "jupyter": {
     "outputs_hidden": false
    }
   },
   "outputs": [
    {
     "name": "stdout",
     "output_type": "stream",
     "text": [
      "  Index    rate  location      group\n",
      "-------  ------  ----------  -------\n",
      "      4    0.3   adn               2\n",
      "      5    0.87  adn               2\n",
      "      6    0.36  adn               2\n",
      "      7   10.52  adn               2\n",
      "      8    2.62  adn               2\n",
      "      9    2.56  adn               2\n",
      "     10    7.07  adn               2\n",
      "     11    0.38  adn               2\n",
      "     12    1.58  adn               2\n",
      "     13    4.88  adn               2\n",
      "     14    8.47  adn               2\n",
      "     15    0.24  adn               3\n",
      "     16    0.27  adn               3\n",
      "     17    6.13  adn               3\n",
      "     18   11.01  adn               3\n",
      "     19    5.23  adn               3\n",
      "     20    6.2   adn               3\n",
      "     21    2.85  adn               3\n",
      "     22    9.71  adn               3\n",
      "     23    1.71  adn               3\n",
      "     24   19.65  adn               3\n",
      "     25    3.88  adn               3\n",
      "     26    4.02  adn               3\n",
      "     27    0.69  adn               3\n",
      "     28    1.78  adn               4\n",
      "     29    4.23  adn               4\n",
      "     30    2.15  adn               4\n",
      "     31    0.59  adn               4\n",
      "     32    1.13  adn               4\n",
      "     33    5.26  adn               4\n",
      "     34    1.57  adn               4\n"
     ]
    }
   ],
   "source": [
    "print(spikes_adn)"
   ]
  },
  {
   "cell_type": "markdown",
   "metadata": {},
   "source": [
    "Let's compute some head-direction tuning curves. To do this in Pynapple, all you need is a single line of code!\n",
    "\n",
    "Plot firing rate of ADn units as a function of heading direction, i.e. a head-direction tuning curve\n",
    "\n"
   ]
  },
  {
   "cell_type": "code",
   "execution_count": null,
   "metadata": {
    "collapsed": false,
    "jupyter": {
     "outputs_hidden": false
    }
   },
   "outputs": [],
   "source": [
    "tuning_curves = nap.compute_1d_tuning_curves(\n",
    "    group=spikes_adn, \n",
    "    feature=angle, \n",
    "    nb_bins=61, \n",
    "    ep = epochs['wake'],\n",
    "    minmax=(0, 2 * np.pi)\n",
    "    )"
   ]
  },
  {
   "cell_type": "markdown",
   "metadata": {},
   "source": [
    "What does this look like ?\n",
    "\n"
   ]
  },
  {
   "cell_type": "code",
   "execution_count": null,
   "metadata": {
    "collapsed": false,
    "jupyter": {
     "outputs_hidden": false
    }
   },
   "outputs": [],
   "source": [
    "print(tuning_curves)"
   ]
  },
  {
   "cell_type": "markdown",
   "metadata": {},
   "source": [
    "Each row indicates an angular bin (in radians), and each column corresponds to a single unit. Let's compute the preferred angle quickly as follows:\n",
    "\n"
   ]
  },
  {
   "cell_type": "code",
   "execution_count": null,
   "metadata": {
    "collapsed": false,
    "jupyter": {
     "outputs_hidden": false
    }
   },
   "outputs": [],
   "source": [
    "pref_ang = tuning_curves.idxmax()"
   ]
  },
  {
   "cell_type": "markdown",
   "metadata": {},
   "source": [
    "For easier visualization, we will colour our plots according to the preferred angle of the cell. To do so, we will normalize the range of angles we have, over a colourmap.\n",
    "\n"
   ]
  },
  {
   "cell_type": "code",
   "execution_count": null,
   "metadata": {
    "collapsed": false,
    "jupyter": {
     "outputs_hidden": false
    }
   },
   "outputs": [],
   "source": [
    "norm = plt.Normalize()  # Normalizes data into the range [0,1]\n",
    "color = plt.cm.hsv(norm([i / (2 * np.pi) for i in pref_ang.values]))  # Assigns a colour in the HSV colourmap for each value of preferred angle\n",
    "color = pd.DataFrame(index=pref_ang.index, data = color, columns = ['r', 'g', 'b', 'a'])"
   ]
  },
  {
   "cell_type": "markdown",
   "metadata": {},
   "source": [
    "To make the tuning curves look nice, we will smooth them before plotting, using this custom function:\n",
    "\n"
   ]
  },
  {
   "cell_type": "code",
   "execution_count": null,
   "metadata": {
    "collapsed": false,
    "jupyter": {
     "outputs_hidden": false
    }
   },
   "outputs": [],
   "source": [
    "from scipy.ndimage import gaussian_filter1d\n",
    "def smoothAngularTuningCurves(tuning_curves, sigma=2):\n",
    "\n",
    "    tmp = np.concatenate((tuning_curves.values, tuning_curves.values, tuning_curves.values))\n",
    "    tmp = gaussian_filter1d(tmp, sigma=sigma, axis=0)\n",
    "\n",
    "    return pd.DataFrame(index = tuning_curves.index,\n",
    "        data = tmp[tuning_curves.shape[0]:tuning_curves.shape[0]*2], \n",
    "        columns = tuning_curves.columns\n",
    "        )"
   ]
  },
  {
   "cell_type": "markdown",
   "metadata": {},
   "source": [
    "Therefore, we have:\n",
    "\n"
   ]
  },
  {
   "cell_type": "code",
   "execution_count": null,
   "metadata": {
    "collapsed": false,
    "jupyter": {
     "outputs_hidden": false
    }
   },
   "outputs": [],
   "source": [
    "smoothcurves = smoothAngularTuningCurves(tuning_curves, sigma=3)"
   ]
  },
  {
   "cell_type": "markdown",
   "metadata": {},
   "source": [
    "What does this look like? Let's plot the tuning curves!\n",
    "\n"
   ]
  },
  {
   "cell_type": "code",
   "execution_count": null,
   "metadata": {
    "collapsed": false,
    "jupyter": {
     "outputs_hidden": false
    }
   },
   "outputs": [],
   "source": [
    "plt.figure(figsize=(12, 9))\n",
    "for i, n in enumerate(pref_ang.sort_values().index.values):\n",
    "    plt.subplot(8, 4, i + 1, projection='polar')  # Plot the curves in 8 rows and 4 columns\n",
    "    plt.plot(\n",
    "        smoothcurves[n], color=color.loc[n]\n",
    "    )  # Colour of the curves determined by preferred angle    \n",
    "    plt.xlabel(\"Angle (rad)\")  # Angle in radian, on the X-axis\n",
    "    plt.ylabel(\"Firing Rate (Hz)\")  # Firing rate in Hz, on the Y-axis\n",
    "    plt.xticks([])\n",
    "plt.show()"
   ]
  },
  {
   "cell_type": "markdown",
   "metadata": {},
   "source": [
    "Awesome!\n",
    "\n"
   ]
  },
  {
   "cell_type": "markdown",
   "metadata": {},
   "source": [
    "***\n",
    "Decoding\n",
    "------------------\n",
    "\n",
    "Now that we have HD tuning curves, we can go one step further. Using only the population activity of ADn units, we can decode the direction the animal is looking in. We will then compare this to the real head direction of the animal, and discover that population activity in the ADn indeed codes for HD.\n",
    "\n",
    "To decode the population activity, we will be using a Bayesian Decoder as implemented in Pynapple. Just a single line of code!\n",
    "\n"
   ]
  },
  {
   "cell_type": "code",
   "execution_count": null,
   "metadata": {
    "collapsed": false,
    "jupyter": {
     "outputs_hidden": false
    }
   },
   "outputs": [],
   "source": [
    "decoded, proba_feature = nap.decode_1d(\n",
    "    tuning_curves=tuning_curves,\n",
    "    group=spikes_adn,\n",
    "    ep=epochs[\"wake\"],\n",
    "    bin_size=0.1,  # second\n",
    "    feature=angle,\n",
    ")"
   ]
  },
  {
   "cell_type": "markdown",
   "metadata": {},
   "source": [
    "What does this look like ?\n",
    "\n"
   ]
  },
  {
   "cell_type": "code",
   "execution_count": null,
   "metadata": {
    "collapsed": false,
    "jupyter": {
     "outputs_hidden": false
    }
   },
   "outputs": [],
   "source": [
    "print(decoded)"
   ]
  },
  {
   "cell_type": "markdown",
   "metadata": {},
   "source": [
    "The variable 'decoded' indicates the most probable angle in which the animal was looking. There is another variable, 'proba_feature' that denotes the probability of a given angular bin at a given time point. We can look at it below:\n",
    "\n"
   ]
  },
  {
   "cell_type": "code",
   "execution_count": null,
   "metadata": {
    "collapsed": false,
    "jupyter": {
     "outputs_hidden": false
    }
   },
   "outputs": [],
   "source": [
    "print(proba_feature.as_dataframe())"
   ]
  },
  {
   "cell_type": "markdown",
   "metadata": {},
   "source": [
    "Each row of this pandas DataFrame is a time bin, and each column is an angular bin. The sum of all values in a row add up to 1.\n",
    "\n",
    "Now, let's plot the raster plot for a given period of time, and overlay the actual and decoded HD on the population activity.\n",
    "\n"
   ]
  },
  {
   "cell_type": "code",
   "execution_count": null,
   "metadata": {
    "collapsed": false,
    "jupyter": {
     "outputs_hidden": false
    }
   },
   "outputs": [],
   "source": [
    "ep = nap.IntervalSet(\n",
    "    start=10717, end=10730\n",
    ")  # Select an arbitrary interval for plotting\n",
    "\n",
    "plt.figure()\n",
    "plt.rc(\"font\", size=12)\n",
    "for i, n in enumerate(spikes_adn.keys()):\n",
    "    plt.plot(\n",
    "        spikes[n].restrict(ep).fillna(pref_ang[n]), \"|\", color=color.loc[n]\n",
    "    )  # raster plot for each cell\n",
    "plt.plot(\n",
    "    decoded.restrict(ep), \"--\", color=\"grey\", linewidth=2, label=\"decoded HD\"\n",
    ")  # decoded HD\n",
    "plt.legend(loc=\"upper left\")"
   ]
  },
  {
   "cell_type": "markdown",
   "metadata": {},
   "source": [
    "From this plot, we can see that the decoder is able to estimate the head-direction based on the population activity in ADn. Amazing!\n",
    "\n",
    "What does the probability distribution in this example event look like?\n",
    "Ideally, the bins with the highest probability will correspond to the bins having the most spikes. Let's plot the probability matrix to visualize this.\n",
    "\n"
   ]
  },
  {
   "cell_type": "code",
   "execution_count": null,
   "metadata": {
    "collapsed": false,
    "jupyter": {
     "outputs_hidden": false
    }
   },
   "outputs": [],
   "source": [
    "smoothed = scipy.ndimage.gaussian_filter(\n",
    "    proba_feature, 1\n",
    ")  # Smoothening the probability distribution\n",
    "\n",
    "# Create a DataFrame with the smoothed distribution\n",
    "p_feature = pd.DataFrame(\n",
    "    index=proba_feature.index.values,\n",
    "    columns=proba_feature.columns.values,\n",
    "    data=smoothed,\n",
    ")\n",
    "p_feature = nap.TsdFrame(p_feature)  # Make it a Pynapple TsdFrame\n",
    "\n",
    "plt.figure()\n",
    "plt.plot(\n",
    "    angle.restrict(ep), \"w\", linewidth=2, label=\"actual HD\", zorder=1\n",
    ")  # Actual HD, in white\n",
    "plt.plot(\n",
    "    decoded.restrict(ep), \"--\", color=\"grey\", linewidth=2, label=\"decoded HD\", zorder=1\n",
    ")  # Decoded HD, in grey\n",
    "\n",
    "# Plot the smoothed probability distribution\n",
    "plt.imshow(\n",
    "    np.transpose(p_feature.restrict(ep).values),\n",
    "    aspect=\"auto\",\n",
    "    interpolation=\"bilinear\",\n",
    "    extent=[ep[\"start\"].values[0], ep[\"end\"].values[0], 0, 2 * np.pi],\n",
    "    origin=\"lower\",\n",
    "    cmap=\"viridis\",\n",
    ")\n",
    "\n",
    "plt.xlabel(\"Time (s)\")  # X-axis is time in seconds\n",
    "plt.ylabel(\"Angle (rad)\")  # Y-axis is the angle in radian\n",
    "plt.colorbar(label=\"probability\")"
   ]
  },
  {
   "cell_type": "markdown",
   "metadata": {},
   "source": [
    "From this probability distribution, we observe that the decoded HD very closely matches the actual HD. Therefore, the population activity in ADn is a reliable estimate of the heading direction of the animal.\n",
    "\n",
    "I hope this tutorial was helpful. If you have any questions, comments or suggestions, please feel free to reach out to the Pynapple Team!\n",
    "\n"
   ]
  }
 ],
 "metadata": {
  "kernelspec": {
   "display_name": "Python 3 (ipykernel)",
   "language": "python",
   "name": "python3"
  },
  "language_info": {
   "codemirror_mode": {
    "name": "ipython",
    "version": 3
   },
   "file_extension": ".py",
   "mimetype": "text/x-python",
   "name": "python",
   "nbconvert_exporter": "python",
   "pygments_lexer": "ipython3",
   "version": "3.9.18"
  }
 },
 "nbformat": 4,
 "nbformat_minor": 4
}
