{
 "cells": [
  {
   "cell_type": "markdown",
   "id": "3f25bdda-7790-454c-aafb-bbee6f9ab9cd",
   "metadata": {},
   "source": [
    "# Running this notebook\n",
    "\n",
    "**The visualizations in this notebook will run in [jupyter lab](https://github.com/jupyterlab/jupyterlab#installation), not jupyter notebook. Google colab is not supported either. VS Code notebooks _might_ work but that has not been tested.** See the fastplotlib supported frameworks for more info: https://github.com/fastplotlib/fastplotlib/#supported-frameworks "
   ]
  },
  {
   "cell_type": "code",
   "execution_count": 19,
   "id": "67669023-30e9-4661-931c-4ab2c554ff12",
   "metadata": {
    "pycharm": {
     "name": "#%%\n"
    },
    "tags": []
   },
   "outputs": [],
   "source": [
    "from copy import deepcopy\n",
    "import os\n",
    "\n",
    "import numpy as np\n",
    "import pandas as pd\n",
    "import tifffile\n",
    "from ipywidgets import IntSlider, VBox\n",
    "import fastplotlib as fpl\n",
    "\n",
    "from caiman.motion_correction import high_pass_filter_space\n",
    "from caiman.summary_images import correlation_pnr\n",
    "\n",
    "import mesmerize_core as mc\n",
    "from mesmerize_core.arrays import LazyTiff\n",
    "from mesmerize_viz import *\n",
    "from decode_lab_code.calcium_imaging import calcium_imaging_utils\n",
    "\n",
    "from mesmerize_core.caiman_extensions.cnmf import cnmf_cache\n",
    "\n",
    "from avi_r import AVIReader\n",
    "\n",
    "import matplotlib.pyplot as plt\n",
    "import numpy as np"
   ]
  },
  {
   "cell_type": "code",
   "execution_count": 2,
   "id": "e174dd7d-a1ed-43ec-a0c0-cda1e1ee81b3",
   "metadata": {
    "tags": []
   },
   "outputs": [],
   "source": [
    "if os.name == \"nt\":\n",
    "    # disable the cache on windows, this will be automatic in a future version\n",
    "    cnmf_cache.set_maxsize(0)\n"
   ]
  },
  {
   "cell_type": "code",
   "execution_count": null,
   "id": "1ff12d10-980d-454a-a023-e593243a0709",
   "metadata": {},
   "outputs": [],
   "source": [
    "# Mac users!\n",
    "# temporary patch for Mac, won't be necessary in next release\n",
    "# Thanks Ryan Ly for the PR! :D I need to dig into it more before merging\n",
    "# conda_prefix_1_str = os.environ['CONDA_PREFIX'].replace(os.path.join(' ', 'envs', 'mescore')[1:], '')\n",
    "# os.environ['CONDA_PREFIX_1'] = conda_prefix_1_str"
   ]
  },
  {
   "cell_type": "code",
   "execution_count": 3,
   "id": "d6412b39-20ff-46cb-972e-52e8dcc1eb00",
   "metadata": {
    "tags": []
   },
   "outputs": [],
   "source": [
    "# This is just a pandas table display formatting option\n",
    "pd.options.display.max_colwidth = 120"
   ]
  },
  {
   "cell_type": "markdown",
   "id": "1cda36a4-704d-4762-a3c4-0e717ebc1f4d",
   "metadata": {
    "pycharm": {
     "name": "#%% md\n"
    },
    "tags": []
   },
   "source": [
    "# Paths\n",
    "\n",
    "`mesmerize-core` helps manage the outputs of caiman algorithms and organizes \"parameter variants\" - the output of a given combination of input data and algorithm parameters. In order to run the algorithms you must tell `mesmerize-core` where your _input data_ are located and decide on a **top level raw data directory**. For example consider the following directory structure of experimental data (you may organize your raw data however you wish, this is just an example). We can see that all the experimental data lies under `/data/group_name/my_name/exp_data`. Therefore we can use this `exp_data` dir as a `parent raw data path`. `mesmerize-core` will then only store the _relative_ paths to the raw data files, this allows you to move datasets between computers and filesystems. `mesmerize-core` does not store any hard file paths, only relative paths.\n",
    "\n",
    "```\n",
    "/data/group_name/my_name\n",
    "                        └── exp_data\n",
    "                            ├── axonal_imaging\n",
    "                            │   ├── mouse_1\n",
    "                            │   │   ├── exp_a.tiff\n",
    "                            │   │   ├── exp_b.tiff\n",
    "                            │   │   └── exp_c.tiff\n",
    "                            │   ├── mouse_2\n",
    "                            │   │   ├── exp_a.tiff\n",
    "                            │   │   └── exp_b.tiff\n",
    "                            │   └── mouse_3\n",
    "                            └── hippocampus_imaging\n",
    "                                ├── mouse_1\n",
    "                                │   ├── exp_a.tiff\n",
    "                                │   ├── exp_b.tiff\n",
    "                                │   └── exp_c.tiff\n",
    "                                ├── mouse_2\n",
    "                                └── mouse_3\n",
    "```\n",
    "\n",
    "**For this demo set the `caiman_data` dir as the parent raw data path**\n",
    "\n",
    "Sidenote: We recommend using [pathlib](https://docs.python.org/3/library/pathlib.html) instead of manually managing paths as strings. `pathlib` is just a part of the Python standard library, it makes it much easier to deal with paths and saves a lot of time in the long-run! It also makes your paths compatible across operating systems. Therefore even if you are on Windows you can use the regular `/` for paths, you do not have to worry about the strangeness of `\\\\` and `\\`"
   ]
  },
  {
   "cell_type": "markdown",
   "id": "270a565e",
   "metadata": {},
   "source": [
    "# Load data: Rerun this cell if your machine crashes at any point and you want to pick back up"
   ]
  },
  {
   "cell_type": "code",
   "execution_count": 67,
   "id": "709d3aee",
   "metadata": {},
   "outputs": [
    {
     "name": "stdout",
     "output_type": "stream",
     "text": [
      "Loaded batch\n"
     ]
    },
    {
     "data": {
      "text/html": [
       "<div>\n",
       "<style scoped>\n",
       "    .dataframe tbody tr th:only-of-type {\n",
       "        vertical-align: middle;\n",
       "    }\n",
       "\n",
       "    .dataframe tbody tr th {\n",
       "        vertical-align: top;\n",
       "    }\n",
       "\n",
       "    .dataframe thead th {\n",
       "        text-align: right;\n",
       "    }\n",
       "</style>\n",
       "<table border=\"1\" class=\"dataframe\">\n",
       "  <thead>\n",
       "    <tr style=\"text-align: right;\">\n",
       "      <th></th>\n",
       "      <th>algo</th>\n",
       "      <th>item_name</th>\n",
       "      <th>input_movie_path</th>\n",
       "      <th>params</th>\n",
       "      <th>outputs</th>\n",
       "      <th>added_time</th>\n",
       "      <th>ran_time</th>\n",
       "      <th>algo_duration</th>\n",
       "      <th>comments</th>\n",
       "      <th>uuid</th>\n",
       "    </tr>\n",
       "  </thead>\n",
       "  <tbody>\n",
       "  </tbody>\n",
       "</table>\n",
       "</div>"
      ],
      "text/plain": [
       "Empty DataFrame\n",
       "Columns: [algo, item_name, input_movie_path, params, outputs, added_time, ran_time, algo_duration, comments, uuid]\n",
       "Index: []"
      ]
     },
     "execution_count": 67,
     "metadata": {},
     "output_type": "execute_result"
    }
   ],
   "source": [
    "# directory stuff\n",
    "folder_name = \"/Users/js0403/miniscope/122A_session2_nwbfile/\"\n",
    "file_name = \"122A_session2.tif\"\n",
    "frame_rate = 30\n",
    "mc.set_parent_raw_data_path(folder_name)\n",
    "\n",
    "# batch stuff - don't worry about\n",
    "batch_path = mc.get_parent_raw_data_path().joinpath(\"mesmerize-batch/batch.pickle\")\n",
    "try:\n",
    "    # create a new batch\n",
    "    df = mc.create_batch(batch_path)\n",
    "    print(\"Created batch\")\n",
    "except:\n",
    "    # to load existing batches use `load_batch()`\n",
    "    df = mc.load_batch(batch_path)\n",
    "    print(\"Loaded batch\")\n",
    "df"
   ]
  },
  {
   "cell_type": "markdown",
   "id": "83ab4d16",
   "metadata": {},
   "source": [
    "# Load in movie"
   ]
  },
  {
   "cell_type": "code",
   "execution_count": 68,
   "id": "6f646d8b",
   "metadata": {
    "scrolled": true
   },
   "outputs": [
    {
     "name": "stdout",
     "output_type": "stream",
     "text": [
      "/Users/js0403/miniscope/122A_session2_nwbfile/122A_session2.tif\n"
     ]
    }
   ],
   "source": [
    "# get the actual file name\n",
    "movie_path  = mc.get_parent_raw_data_path().joinpath(file_name) # add to moviepath\n",
    "print(movie_path)"
   ]
  },
  {
   "cell_type": "markdown",
   "id": "2996e126-8f11-449b-86b3-85bbc9ff03d4",
   "metadata": {
    "tags": []
   },
   "source": [
    "# gSig_filt\n",
    "\n",
    "A high-pass spatial filter is useful for motion correction of miniscope 1p data, or other data which has large amounts of low frequency background flutuations.\n",
    "\n",
    "The `gSig_filt` param sets the `sigma` of the gaussian kernel used for filtering. We can use fastplotlib to visualize the effects of this parameter. We want to remove the low frequency spatial information from the image to create better template images for motion correction.\n",
    "\n",
    "Note that this is different from the `gSig` parameter used in CNMF!"
   ]
  },
  {
   "cell_type": "code",
   "execution_count": 69,
   "id": "ab5d9f48-c1c6-4366-bc5a-2137691df44f",
   "metadata": {
    "tags": []
   },
   "outputs": [],
   "source": [
    "# get out input movie\n",
    "# if it is memmapable you can use tifffile.memmap\n",
    "# for other formats you can try LazyTiff, or any suitable lazy loader\n",
    "#movie = tifffile.imread(movie_path)\n",
    "movie = tifffile.memmap(movie_path)"
   ]
  },
  {
   "cell_type": "code",
   "execution_count": 71,
   "id": "e84063cf-29f6-444b-9c35-a30382d42a27",
   "metadata": {},
   "outputs": [
    {
     "data": {
      "text/plain": [
       "<Axes: >"
      ]
     },
     "execution_count": 71,
     "metadata": {},
     "output_type": "execute_result"
    },
    {
     "data": {
      "image/png": "[encoded data removed]",
      "text/plain": [
       "<Figure size 600x600 with 1 Axes>"
      ]
     },
     "metadata": {},
     "output_type": "display_data"
    }
   ],
   "source": [
    "stride = 100; overlap = 50; width = stride+overlap; rf = int(width/2)\n",
    "calcium_imaging_utils.view_quilt(template_image=movie[0,:,:],stride=stride,overlap=overlap)"
   ]
  },
  {
   "cell_type": "code",
   "execution_count": 72,
   "id": "ab7646bd-f3e2-4058-9d67-ac43ba43c020",
   "metadata": {
    "tags": []
   },
   "outputs": [
    {
     "data": {
      "application/vnd.jupyter.widget-view+json": {
       "model_id": "e630a0372f7d4f30963667b91935bf82",
       "version_major": 2,
       "version_minor": 0
      },
      "text/plain": [
       "RFBOutputContext()"
      ]
     },
     "metadata": {},
     "output_type": "display_data"
    },
    {
     "name": "stderr",
     "output_type": "stream",
     "text": [
      "/Users/js0403/anaconda3/envs/caiman/lib/python3.11/site-packages/fastplotlib/graphics/_features/_base.py:34: UserWarning: converting float64 array to float32\n",
      "  warn(f\"converting {array.dtype} array to float32\")\n"
     ]
    },
    {
     "data": {
      "application/vnd.jupyter.widget-view+json": {
       "model_id": "dc1700e7eba24ef8b334ad8257278679",
       "version_major": 2,
       "version_minor": 0
      },
      "text/plain": [
       "VBox(children=(JupyterOutputContext(children=(JupyterWgpuCanvas(css_height='600px', css_width='1200px'), Ipywi…"
      ]
     },
     "execution_count": 72,
     "metadata": {},
     "output_type": "execute_result"
    }
   ],
   "source": [
    "# create a slider for gSig_filt\n",
    "slider_gsig_filt = IntSlider(value=3, min=1, max=33, step=2,  description=\"gSig_filt\")\n",
    "\n",
    "def apply_filter(frame):\n",
    "    # read slider value\n",
    "    gSig_filt = (slider_gsig_filt.value, slider_gsig_filt.value)\n",
    "    \n",
    "    # apply filter\n",
    "    return high_pass_filter_space(frame, gSig_filt)\n",
    "\n",
    "# we can use frame_apply feature of `ImageWidget` to apply \n",
    "# the filter before displaying frames\n",
    "funcs = {\n",
    "    # data_index: function\n",
    "    1: apply_filter  # filter shown on right plot, index 1\n",
    "}\n",
    "\n",
    "# input movie will be shown on left, filtered on right\n",
    "iw_gs = fpl.ImageWidget(\n",
    "    data=[movie, movie.copy()],\n",
    "    frame_apply=funcs,\n",
    "    names=[\"raw\", \"filtered\"],\n",
    "    grid_plot_kwargs={\"size\": (1200, 600)},\n",
    "    cmap=\"gnuplot2\"\n",
    ")\n",
    "\n",
    "def force_update(*args):\n",
    "    # kinda hacky but forces the images to update \n",
    "    # when the gSig_filt slider is moved\n",
    "    iw_gs.current_index = iw_gs.current_index\n",
    "    iw_gs.reset_vmin_vmax()\n",
    "\n",
    "iw_gs.reset_vmin_vmax()\n",
    "slider_gsig_filt.observe(force_update, \"value\")\n",
    "\n",
    "# add a column to overlay functional activity on structural video\n",
    "#struct_rgba = np.zeros((512, 512, 4), dtype=np.float32)\n",
    "#struct_rgba[:, :, 1] = struct_movie[0]\n",
    "#struct_rgba[..., -1] = 0.8\n",
    "#iw_gs.gridplot[\"filtered\"].add_image(struct_rgba, name='struct')\n",
    "#iw_gs.gridplot[\"filtered\"]\n",
    "#iw_gs.gridplot[\"filtered\"][\"struct\"].data[..., -1] = 0.5\n",
    "VBox([iw_gs.show(), slider_gsig_filt])\n",
    "#iw_gs.show(sidecar=True)\n"
   ]
  },
  {
   "cell_type": "markdown",
   "id": "511192a7-6e25-49cf-8175-0ecfb0001662",
   "metadata": {},
   "source": [
    "# reset vmin vmax when necessary!"
   ]
  },
  {
   "cell_type": "markdown",
   "id": "cbca4882-7d04-41fa-adbb-74c1a8eb4b13",
   "metadata": {
    "pycharm": {
     "name": "#%% md\n"
    }
   },
   "source": [
    "# Motion correction parameters\n",
    "\n",
    "Parameters for all algos have the following structure:\n",
    "\n",
    "```python\n",
    "{\"main\": {... params directly passed to caiman}}\n",
    "```"
   ]
  },
  {
   "cell_type": "code",
   "execution_count": 73,
   "id": "cdf4a68d-e97f-4738-bdec-29905590af60",
   "metadata": {},
   "outputs": [],
   "source": [
    "smooth_factor = 9 # set smooth_factor to be gSig_filt\n",
    "params =\\\n",
    "{\n",
    "    \"main\":\n",
    "    {\n",
    "        \"gSig_filt\": (smooth_factor, smooth_factor), # a gSig_filt value that brings out \"landmarks\" in the movie\n",
    "        \"pw_rigid\": True,\n",
    "        \"max_shifts\": (5, 5),\n",
    "        \"strides\": (stride, stride),\n",
    "        \"overlaps\": (overlap, overlap),\n",
    "        \"max_deviation_rigid\": 3,\n",
    "        \"border_nan\": \"copy\",\n",
    "    }\n",
    "}"
   ]
  },
  {
   "cell_type": "markdown",
   "id": "32cecd0f-334d-4bc1-ab85-752a25d5518b",
   "metadata": {
    "pycharm": {
     "name": "#%% md\n"
    },
    "tags": []
   },
   "source": [
    "# Add a \"batch item\", this is the combination of:\n",
    "* algorithm to run, `algo`\n",
    "* input movie to run the algorithm on, `input_movie_path`\n",
    "* parameters for the specified algorithm, `params`\n",
    "* a name for you to keep track of things, usually the same as the movie filename, `item_name`"
   ]
  },
  {
   "cell_type": "code",
   "execution_count": 74,
   "id": "6b7156e8-0868-4de9-af6a-b3f4959ade3a",
   "metadata": {},
   "outputs": [
    {
     "data": {
      "text/html": [
       "<div>\n",
       "<style scoped>\n",
       "    .dataframe tbody tr th:only-of-type {\n",
       "        vertical-align: middle;\n",
       "    }\n",
       "\n",
       "    .dataframe tbody tr th {\n",
       "        vertical-align: top;\n",
       "    }\n",
       "\n",
       "    .dataframe thead th {\n",
       "        text-align: right;\n",
       "    }\n",
       "</style>\n",
       "<table border=\"1\" class=\"dataframe\">\n",
       "  <thead>\n",
       "    <tr style=\"text-align: right;\">\n",
       "      <th></th>\n",
       "      <th>algo</th>\n",
       "      <th>item_name</th>\n",
       "      <th>input_movie_path</th>\n",
       "      <th>params</th>\n",
       "      <th>outputs</th>\n",
       "      <th>added_time</th>\n",
       "      <th>ran_time</th>\n",
       "      <th>algo_duration</th>\n",
       "      <th>comments</th>\n",
       "      <th>uuid</th>\n",
       "    </tr>\n",
       "  </thead>\n",
       "  <tbody>\n",
       "    <tr>\n",
       "      <th>0</th>\n",
       "      <td>mcorr</td>\n",
       "      <td>122A_session2</td>\n",
       "      <td>122A_session2.tif</td>\n",
       "      <td>{'main': {'gSig_filt': (9, 9), 'pw_rigid': True, 'max_shifts': (5, 5), 'strides': (100, 100), 'overlaps': (50, 50), ...</td>\n",
       "      <td>None</td>\n",
       "      <td>2023-12-22T14:31:02</td>\n",
       "      <td>None</td>\n",
       "      <td>None</td>\n",
       "      <td>None</td>\n",
       "      <td>ca78e849-cd8b-4864-a81d-c618c90bc850</td>\n",
       "    </tr>\n",
       "  </tbody>\n",
       "</table>\n",
       "</div>"
      ],
      "text/plain": [
       "    algo      item_name   input_movie_path  \\\n",
       "0  mcorr  122A_session2  122A_session2.tif   \n",
       "\n",
       "                                                                                                                    params  \\\n",
       "0  {'main': {'gSig_filt': (9, 9), 'pw_rigid': True, 'max_shifts': (5, 5), 'strides': (100, 100), 'overlaps': (50, 50), ...   \n",
       "\n",
       "  outputs           added_time ran_time algo_duration comments  \\\n",
       "0    None  2023-12-22T14:31:02     None          None     None   \n",
       "\n",
       "                                   uuid  \n",
       "0  ca78e849-cd8b-4864-a81d-c618c90bc850  "
      ]
     },
     "execution_count": 74,
     "metadata": {},
     "output_type": "execute_result"
    }
   ],
   "source": [
    "df.caiman.add_item(\n",
    "    algo=\"mcorr\",\n",
    "    input_movie_path=movie_path,\n",
    "    params=params,\n",
    "    item_name=movie_path.stem\n",
    ")\n",
    "\n",
    "df"
   ]
  },
  {
   "cell_type": "markdown",
   "id": "bcc2afb2-d282-4227-8bdd-fbd498dc5144",
   "metadata": {
    "pycharm": {
     "name": "#%% md\n"
    },
    "tags": []
   },
   "source": [
    "We can now see that there is one item, a.k.a. row or pandas `Series`, in the batch dataframe, we can add another item with the same input movie but with different parameters.\n",
    "\n",
    "**When adding batch items with the same `input_movie_path` (i.e. same input movie but different parameters) it is useful to give them the same `item_name`.**\n",
    "\n",
    "Let's try one more with different `gSig_filt`"
   ]
  },
  {
   "cell_type": "markdown",
   "id": "4cd8cdde-6a83-4d63-808a-1a05628893ea",
   "metadata": {},
   "source": [
    "# Run an item\n",
    "\n",
    "There is only one item in this DataFrame and it is located at index `0`. You can run a row using `df.iloc[index].caiman.run()`\n",
    "\n",
    "Technical notes: On Linux & Mac it will run in subprocess but on Windows it will run in the local kernel. If using the subprocess backend (only Linux & Mac) you can use `run(wait=False)` if you don't want to block the kernel while running. "
   ]
  },
  {
   "cell_type": "code",
   "execution_count": 9,
   "id": "67a0d36b-ec96-410a-94f3-fafdea28d08c",
   "metadata": {
    "pycharm": {
     "name": "#%%\n"
    }
   },
   "outputs": [
    {
     "name": "stdout",
     "output_type": "stream",
     "text": [
      "starting mc\n"
     ]
    },
    {
     "name": "stderr",
     "output_type": "stream",
     "text": [
      "WARNING:root:Movie average is negative. Removing 1st percentile.\n",
      "WARNING:root:Movie average is negative. Removing 1st percentile.\n",
      "WARNING:root:Movie average is negative. Removing 1st percentile.\n",
      "100%|██████████| 1/1 [00:07<00:00,  7.17s/it]\n",
      "100%|██████████| 1/1 [00:07<00:00,  7.21s/it]\n",
      "100%|██████████| 1/1 [01:05<00:00, 65.05s/it]\n",
      "100%|██████████| 1/1 [01:05<00:00, 65.32s/it]\n",
      "100%|██████████| 1/1 [01:05<00:00, 65.82s/it]\n",
      "100%|██████████| 1/1 [01:05<00:00, 65.98s/it]\n",
      "100%|██████████| 1/1 [01:06<00:00, 66.01s/it]\n",
      "100%|██████████| 1/1 [01:06<00:00, 66.06s/it]\n",
      "Process SpawnPoolWorker-11:\n",
      "Process SpawnPoolWorker-4:\n",
      "Process SpawnPoolWorker-6:\n",
      "Traceback (most recent call last):\n",
      "Traceback (most recent call last):\n",
      "  File \"/Users/js0403/anaconda3/envs/caiman/lib/python3.11/multiprocessing/process.py\", line 314, in _bootstrap\n",
      "    self.run()\n",
      "  File \"/Users/js0403/anaconda3/envs/caiman/lib/python3.11/multiprocessing/process.py\", line 108, in run\n",
      "    self._target(*self._args, **self._kwargs)\n",
      "  File \"/Users/js0403/anaconda3/envs/caiman/lib/python3.11/multiprocessing/pool.py\", line 114, in worker\n",
      "    task = get()\n",
      "           ^^^^^\n",
      "  File \"/Users/js0403/anaconda3/envs/caiman/lib/python3.11/multiprocessing/queues.py\", line 364, in get\n",
      "    with self._rlock:\n",
      "  File \"/Users/js0403/anaconda3/envs/caiman/lib/python3.11/multiprocessing/synchronize.py\", line 95, in __enter__\n",
      "    return self._semlock.__enter__()\n",
      "           ^^^^^^^^^^^^^^^^^^^^^^^^^\n",
      "KeyboardInterrupt\n",
      "  File \"/Users/js0403/anaconda3/envs/caiman/lib/python3.11/multiprocessing/process.py\", line 314, in _bootstrap\n",
      "    self.run()\n",
      "  File \"/Users/js0403/anaconda3/envs/caiman/lib/python3.11/multiprocessing/process.py\", line 108, in run\n",
      "    self._target(*self._args, **self._kwargs)\n",
      "  File \"/Users/js0403/anaconda3/envs/caiman/lib/python3.11/multiprocessing/pool.py\", line 114, in worker\n",
      "    task = get()\n",
      "           ^^^^^\n",
      "  File \"/Users/js0403/anaconda3/envs/caiman/lib/python3.11/multiprocessing/queues.py\", line 364, in get\n",
      "    with self._rlock:\n",
      "  File \"/Users/js0403/anaconda3/envs/caiman/lib/python3.11/multiprocessing/synchronize.py\", line 95, in __enter__\n",
      "    return self._semlock.__enter__()\n",
      "           ^^^^^^^^^^^^^^^^^^^^^^^^^\n",
      "KeyboardInterrupt\n",
      "Traceback (most recent call last):\n",
      "  File \"/Users/js0403/anaconda3/envs/caiman/lib/python3.11/multiprocessing/process.py\", line 314, in _bootstrap\n",
      "    self.run()\n",
      "  File \"/Users/js0403/anaconda3/envs/caiman/lib/python3.11/multiprocessing/process.py\", line 108, in run\n",
      "    self._target(*self._args, **self._kwargs)\n",
      "  File \"/Users/js0403/anaconda3/envs/caiman/lib/python3.11/multiprocessing/pool.py\", line 114, in worker\n",
      "    task = get()\n",
      "           ^^^^^\n",
      "  File \"/Users/js0403/anaconda3/envs/caiman/lib/python3.11/multiprocessing/queues.py\", line 365, in get\n",
      "    res = self._reader.recv_bytes()\n",
      "          ^^^^^^^^^^^^^^^^^^^^^^^^^\n",
      "  File \"/Users/js0403/anaconda3/envs/caiman/lib/python3.11/multiprocessing/connection.py\", line 216, in recv_bytes\n",
      "    buf = self._recv_bytes(maxlength)\n",
      "          ^^^^^^^^^^^^^^^^^^^^^^^^^^^\n",
      "  File \"/Users/js0403/anaconda3/envs/caiman/lib/python3.11/multiprocessing/connection.py\", line 430, in _recv_bytes\n",
      "    buf = self._recv(4)\n",
      "          ^^^^^^^^^^^^^\n",
      "  File \"/Users/js0403/anaconda3/envs/caiman/lib/python3.11/multiprocessing/connection.py\", line 395, in _recv\n",
      "    chunk = read(handle, remaining)\n",
      "            ^^^^^^^^^^^^^^^^^^^^^^^\n",
      "KeyboardInterrupt\n"
     ]
    },
    {
     "name": "stdout",
     "output_type": "stream",
     "text": [
      "mc finished successfully!\n",
      "computing projections\n",
      "Computing correlation image\n",
      "mc failed, stored traceback in output\n"
     ]
    },
    {
     "ename": "ValueError",
     "evalue": "#!/bin/bash\nexport CONDA_PREFIX=/Users/js0403/anaconda3/envs/caiman\nexport CONDA_PYTHON_EXE=/Users/js0403/anaconda3/bin/python\nexport CONDA_PREFIX_1=/Users/js0403/anaconda3\nexport OPENBLAS_NUM_THREADS=1\nexport MKL_NUM_THREADS=1\npython /Users/js0403/anaconda3/envs/caiman/lib/python3.11/site-packages/mesmerize_core/algorithms/mcorr.py --batch-path /Users/js0403/miniscope/122A_session2_nwbfile/mesmerize-batch/batch.pickle --uuid b5298fed-12da-4d0c-ba00-0066bcb8bfa3 --data-path /Users/js0403/miniscope/122A_session2_nwbfile",
     "output_type": "error",
     "traceback": [
      "\u001b[0;31m---------------------------------------------------------------------------\u001b[0m",
      "\u001b[0;31mKeyboardInterrupt\u001b[0m                         Traceback (most recent call last)",
      "File \u001b[0;32m~/anaconda3/envs/caiman/lib/python3.11/site-packages/mesmerize_core/caiman_extensions/common.py:521\u001b[0m, in \u001b[0;36mCaimanSeriesExtensions.run\u001b[0;34m(self, backend, wait, **kwargs)\u001b[0m\n\u001b[1;32m    520\u001b[0m \u001b[38;5;28;01mtry\u001b[39;00m:\n\u001b[0;32m--> 521\u001b[0m     \u001b[38;5;28mself\u001b[39m\u001b[38;5;241m.\u001b[39mprocess \u001b[38;5;241m=\u001b[39m \u001b[38;5;28;43mgetattr\u001b[39;49m\u001b[43m(\u001b[49m\u001b[38;5;28;43mself\u001b[39;49m\u001b[43m,\u001b[49m\u001b[43m \u001b[49m\u001b[38;5;124;43mf\u001b[39;49m\u001b[38;5;124;43m\"\u001b[39;49m\u001b[38;5;124;43m_run_\u001b[39;49m\u001b[38;5;132;43;01m{\u001b[39;49;00m\u001b[43mbackend\u001b[49m\u001b[38;5;132;43;01m}\u001b[39;49;00m\u001b[38;5;124;43m\"\u001b[39;49m\u001b[43m)\u001b[49m\u001b[43m(\u001b[49m\n\u001b[1;32m    522\u001b[0m \u001b[43m        \u001b[49m\u001b[43mrunfile_path\u001b[49m\u001b[43m,\u001b[49m\u001b[43m \u001b[49m\u001b[43mwait\u001b[49m\u001b[38;5;241;43m=\u001b[39;49m\u001b[43mwait\u001b[49m\u001b[43m,\u001b[49m\u001b[43m \u001b[49m\u001b[38;5;241;43m*\u001b[39;49m\u001b[38;5;241;43m*\u001b[39;49m\u001b[43mkwargs\u001b[49m\n\u001b[1;32m    523\u001b[0m \u001b[43m    \u001b[49m\u001b[43m)\u001b[49m\n\u001b[1;32m    524\u001b[0m \u001b[38;5;28;01mexcept\u001b[39;00m:\n",
      "File \u001b[0;32m~/anaconda3/envs/caiman/lib/python3.11/site-packages/mesmerize_core/caiman_extensions/common.py:429\u001b[0m, in \u001b[0;36mCaimanSeriesExtensions._run_subprocess\u001b[0;34m(self, runfile_path, wait, **kwargs)\u001b[0m\n\u001b[1;32m    428\u001b[0m \u001b[38;5;28;01mif\u001b[39;00m wait:\n\u001b[0;32m--> 429\u001b[0m     \u001b[38;5;28;43mself\u001b[39;49m\u001b[38;5;241;43m.\u001b[39;49m\u001b[43mprocess\u001b[49m\u001b[38;5;241;43m.\u001b[39;49m\u001b[43mwait\u001b[49m\u001b[43m(\u001b[49m\u001b[43m)\u001b[49m\n\u001b[1;32m    431\u001b[0m \u001b[38;5;28;01mreturn\u001b[39;00m \u001b[38;5;28mself\u001b[39m\u001b[38;5;241m.\u001b[39mprocess\n",
      "File \u001b[0;32m~/anaconda3/envs/caiman/lib/python3.11/subprocess.py:1264\u001b[0m, in \u001b[0;36mPopen.wait\u001b[0;34m(self, timeout)\u001b[0m\n\u001b[1;32m   1263\u001b[0m \u001b[38;5;28;01mtry\u001b[39;00m:\n\u001b[0;32m-> 1264\u001b[0m     \u001b[38;5;28;01mreturn\u001b[39;00m \u001b[38;5;28;43mself\u001b[39;49m\u001b[38;5;241;43m.\u001b[39;49m\u001b[43m_wait\u001b[49m\u001b[43m(\u001b[49m\u001b[43mtimeout\u001b[49m\u001b[38;5;241;43m=\u001b[39;49m\u001b[43mtimeout\u001b[49m\u001b[43m)\u001b[49m\n\u001b[1;32m   1265\u001b[0m \u001b[38;5;28;01mexcept\u001b[39;00m \u001b[38;5;167;01mKeyboardInterrupt\u001b[39;00m:\n\u001b[1;32m   1266\u001b[0m     \u001b[38;5;66;03m# https://bugs.python.org/issue25942\u001b[39;00m\n\u001b[1;32m   1267\u001b[0m     \u001b[38;5;66;03m# The first keyboard interrupt waits briefly for the child to\u001b[39;00m\n\u001b[1;32m   1268\u001b[0m     \u001b[38;5;66;03m# exit under the common assumption that it also received the ^C\u001b[39;00m\n\u001b[1;32m   1269\u001b[0m     \u001b[38;5;66;03m# generated SIGINT and will exit rapidly.\u001b[39;00m\n",
      "File \u001b[0;32m~/anaconda3/envs/caiman/lib/python3.11/subprocess.py:2046\u001b[0m, in \u001b[0;36mPopen._wait\u001b[0;34m(self, timeout)\u001b[0m\n\u001b[1;32m   2045\u001b[0m     \u001b[38;5;28;01mbreak\u001b[39;00m  \u001b[38;5;66;03m# Another thread waited.\u001b[39;00m\n\u001b[0;32m-> 2046\u001b[0m (pid, sts) \u001b[38;5;241m=\u001b[39m \u001b[38;5;28;43mself\u001b[39;49m\u001b[38;5;241;43m.\u001b[39;49m\u001b[43m_try_wait\u001b[49m\u001b[43m(\u001b[49m\u001b[38;5;241;43m0\u001b[39;49m\u001b[43m)\u001b[49m\n\u001b[1;32m   2047\u001b[0m \u001b[38;5;66;03m# Check the pid and loop as waitpid has been known to\u001b[39;00m\n\u001b[1;32m   2048\u001b[0m \u001b[38;5;66;03m# return 0 even without WNOHANG in odd situations.\u001b[39;00m\n\u001b[1;32m   2049\u001b[0m \u001b[38;5;66;03m# http://bugs.python.org/issue14396.\u001b[39;00m\n",
      "File \u001b[0;32m~/anaconda3/envs/caiman/lib/python3.11/subprocess.py:2004\u001b[0m, in \u001b[0;36mPopen._try_wait\u001b[0;34m(self, wait_flags)\u001b[0m\n\u001b[1;32m   2003\u001b[0m \u001b[38;5;28;01mtry\u001b[39;00m:\n\u001b[0;32m-> 2004\u001b[0m     (pid, sts) \u001b[38;5;241m=\u001b[39m \u001b[43mos\u001b[49m\u001b[38;5;241;43m.\u001b[39;49m\u001b[43mwaitpid\u001b[49m\u001b[43m(\u001b[49m\u001b[38;5;28;43mself\u001b[39;49m\u001b[38;5;241;43m.\u001b[39;49m\u001b[43mpid\u001b[49m\u001b[43m,\u001b[49m\u001b[43m \u001b[49m\u001b[43mwait_flags\u001b[49m\u001b[43m)\u001b[49m\n\u001b[1;32m   2005\u001b[0m \u001b[38;5;28;01mexcept\u001b[39;00m \u001b[38;5;167;01mChildProcessError\u001b[39;00m:\n\u001b[1;32m   2006\u001b[0m     \u001b[38;5;66;03m# This happens if SIGCLD is set to be ignored or waiting\u001b[39;00m\n\u001b[1;32m   2007\u001b[0m     \u001b[38;5;66;03m# for child processes has otherwise been disabled for our\u001b[39;00m\n\u001b[1;32m   2008\u001b[0m     \u001b[38;5;66;03m# process.  This child is dead, we can't get the status.\u001b[39;00m\n",
      "\u001b[0;31mKeyboardInterrupt\u001b[0m: ",
      "\nDuring handling of the above exception, another exception occurred:\n",
      "\u001b[0;31mValueError\u001b[0m                                Traceback (most recent call last)",
      "Cell \u001b[0;32mIn[9], line 1\u001b[0m\n\u001b[0;32m----> 1\u001b[0m \u001b[43mdf\u001b[49m\u001b[38;5;241;43m.\u001b[39;49m\u001b[43miloc\u001b[49m\u001b[43m[\u001b[49m\u001b[38;5;241;43m-\u001b[39;49m\u001b[38;5;241;43m1\u001b[39;49m\u001b[43m]\u001b[49m\u001b[38;5;241;43m.\u001b[39;49m\u001b[43mcaiman\u001b[49m\u001b[38;5;241;43m.\u001b[39;49m\u001b[43mrun\u001b[49m\u001b[43m(\u001b[49m\u001b[43m)\u001b[49m\n\u001b[1;32m      3\u001b[0m \u001b[38;5;66;03m# reload dataframe from disk when done\u001b[39;00m\n\u001b[1;32m      4\u001b[0m df \u001b[38;5;241m=\u001b[39m df\u001b[38;5;241m.\u001b[39mcaiman\u001b[38;5;241m.\u001b[39mreload_from_disk()\n",
      "File \u001b[0;32m~/anaconda3/envs/caiman/lib/python3.11/site-packages/mesmerize_core/caiman_extensions/cache.py:214\u001b[0m, in \u001b[0;36mCache.invalidate.<locals>._invalidate.<locals>.__invalidate\u001b[0;34m(instance, *args, **kwargs)\u001b[0m\n\u001b[1;32m    208\u001b[0m \u001b[38;5;28;01mif\u001b[39;00m pre:\n\u001b[1;32m    209\u001b[0m     \u001b[38;5;28mself\u001b[39m\u001b[38;5;241m.\u001b[39mcache\u001b[38;5;241m.\u001b[39mdrop(\n\u001b[1;32m    210\u001b[0m         \u001b[38;5;28mself\u001b[39m\u001b[38;5;241m.\u001b[39mcache\u001b[38;5;241m.\u001b[39mloc[\u001b[38;5;28mself\u001b[39m\u001b[38;5;241m.\u001b[39mcache[\u001b[38;5;124m\"\u001b[39m\u001b[38;5;124muuid\u001b[39m\u001b[38;5;124m\"\u001b[39m] \u001b[38;5;241m==\u001b[39m u]\u001b[38;5;241m.\u001b[39mindex,\n\u001b[1;32m    211\u001b[0m         inplace\u001b[38;5;241m=\u001b[39m\u001b[38;5;28;01mTrue\u001b[39;00m\n\u001b[1;32m    212\u001b[0m     )\n\u001b[0;32m--> 214\u001b[0m rval \u001b[38;5;241m=\u001b[39m \u001b[43mfunc\u001b[49m\u001b[43m(\u001b[49m\u001b[43minstance\u001b[49m\u001b[43m,\u001b[49m\u001b[43m \u001b[49m\u001b[38;5;241;43m*\u001b[39;49m\u001b[43margs\u001b[49m\u001b[43m,\u001b[49m\u001b[43m \u001b[49m\u001b[38;5;241;43m*\u001b[39;49m\u001b[38;5;241;43m*\u001b[39;49m\u001b[43mkwargs\u001b[49m\u001b[43m)\u001b[49m\n\u001b[1;32m    216\u001b[0m \u001b[38;5;28;01mif\u001b[39;00m post:\n\u001b[1;32m    217\u001b[0m     \u001b[38;5;28mself\u001b[39m\u001b[38;5;241m.\u001b[39mcache\u001b[38;5;241m.\u001b[39mdrop(\n\u001b[1;32m    218\u001b[0m         \u001b[38;5;28mself\u001b[39m\u001b[38;5;241m.\u001b[39mcache\u001b[38;5;241m.\u001b[39mloc[\u001b[38;5;28mself\u001b[39m\u001b[38;5;241m.\u001b[39mcache[\u001b[38;5;124m\"\u001b[39m\u001b[38;5;124muuid\u001b[39m\u001b[38;5;124m\"\u001b[39m] \u001b[38;5;241m==\u001b[39m u]\u001b[38;5;241m.\u001b[39mindex,\n\u001b[1;32m    219\u001b[0m         inplace\u001b[38;5;241m=\u001b[39m\u001b[38;5;28;01mTrue\u001b[39;00m\n\u001b[1;32m    220\u001b[0m     )\n",
      "File \u001b[0;32m~/anaconda3/envs/caiman/lib/python3.11/site-packages/mesmerize_core/caiman_extensions/common.py:526\u001b[0m, in \u001b[0;36mCaimanSeriesExtensions.run\u001b[0;34m(self, backend, wait, **kwargs)\u001b[0m\n\u001b[1;32m    524\u001b[0m \u001b[38;5;28;01mexcept\u001b[39;00m:\n\u001b[1;32m    525\u001b[0m     \u001b[38;5;28;01mwith\u001b[39;00m \u001b[38;5;28mopen\u001b[39m(runfile_path, \u001b[38;5;124m\"\u001b[39m\u001b[38;5;124mr\u001b[39m\u001b[38;5;124m\"\u001b[39m) \u001b[38;5;28;01mas\u001b[39;00m f:\n\u001b[0;32m--> 526\u001b[0m         \u001b[38;5;28;01mraise\u001b[39;00m \u001b[38;5;167;01mValueError\u001b[39;00m(f\u001b[38;5;241m.\u001b[39mread())\n\u001b[1;32m    528\u001b[0m \u001b[38;5;28;01mreturn\u001b[39;00m \u001b[38;5;28mself\u001b[39m\u001b[38;5;241m.\u001b[39mprocess\n",
      "\u001b[0;31mValueError\u001b[0m: #!/bin/bash\nexport CONDA_PREFIX=/Users/js0403/anaconda3/envs/caiman\nexport CONDA_PYTHON_EXE=/Users/js0403/anaconda3/bin/python\nexport CONDA_PREFIX_1=/Users/js0403/anaconda3\nexport OPENBLAS_NUM_THREADS=1\nexport MKL_NUM_THREADS=1\npython /Users/js0403/anaconda3/envs/caiman/lib/python3.11/site-packages/mesmerize_core/algorithms/mcorr.py --batch-path /Users/js0403/miniscope/122A_session2_nwbfile/mesmerize-batch/batch.pickle --uuid b5298fed-12da-4d0c-ba00-0066bcb8bfa3 --data-path /Users/js0403/miniscope/122A_session2_nwbfile"
     ]
    },
    {
     "name": "stderr",
     "output_type": "stream",
     "text": [
      "/Users/js0403/anaconda3/envs/caiman/lib/python3.11/multiprocessing/resource_tracker.py:254: UserWarning: resource_tracker: There appear to be 16 leaked semaphore objects to clean up at shutdown\n",
      "  warnings.warn('resource_tracker: There appear to be %d '\n"
     ]
    }
   ],
   "source": [
    "df.iloc[-1].caiman.run()\n",
    "\n",
    "# reload dataframe from disk when done\n",
    "df = df.caiman.reload_from_disk()"
   ]
  },
  {
   "cell_type": "markdown",
   "id": "4f48ce6d-6dea-41dd-8d08-cd1317012df3",
   "metadata": {},
   "source": [
    "disable the spatial filter. Reset vmin vmax after removing it."
   ]
  },
  {
   "cell_type": "code",
   "execution_count": null,
   "id": "0cd6475e-6262-44ff-bcd9-550c6db77e77",
   "metadata": {},
   "outputs": [],
   "source": [
    "df"
   ]
  },
  {
   "cell_type": "markdown",
   "id": "3c80220c-73ce-40c8-83b5-add404b805ad",
   "metadata": {},
   "source": [
    "# CNMF\n",
    "## corr-pnr seeding\n",
    "\n",
    "This visualization is to help determine values for `min_corr` (correlation) and `min_pnr` (peak to noise ratio) for seeding CNMFE. Pixels below these thresholds will be excluded from the results.\n",
    "\n",
    "If `correlation_pnr` takes a long time you can increase the subsample to make it larger than `2`. Example: `mcorr_movie[::5]`\n",
    "\n",
    "You should try different values of `gSig`, this is different from `gSig_filt`. You will use this gSig as a CNMFE param as well."
   ]
  },
  {
   "cell_type": "code",
   "execution_count": 12,
   "id": "02472f11-ec6c-4c02-9c6e-38620f65773b",
   "metadata": {},
   "outputs": [],
   "source": [
    "# get the motion corrected output, this is a memmap array\n",
    "mcorr_movie = df.iloc[-1].mcorr.get_output()\n",
    "\n",
    "gSig = smooth_factor\n",
    "corr, pnr = correlation_pnr(mcorr_movie[::2], gSig=gSig, swap_dim=False)"
   ]
  },
  {
   "cell_type": "code",
   "execution_count": 13,
   "id": "d4b657a1-25cf-422b-a18c-202d4d9eb72f",
   "metadata": {},
   "outputs": [
    {
     "data": {
      "application/vnd.jupyter.widget-view+json": {
       "model_id": "7f3ba3b501bc4b28b3be4f9827184fbc",
       "version_major": 2,
       "version_minor": 0
      },
      "text/plain": [
       "RFBOutputContext()"
      ]
     },
     "metadata": {},
     "output_type": "display_data"
    },
    {
     "name": "stderr",
     "output_type": "stream",
     "text": [
      "/Users/js0403/anaconda3/envs/mescore/lib/python3.11/site-packages/fastplotlib/graphics/_features/_base.py:34: UserWarning: converting float64 array to float32\n",
      "  warn(f\"converting {array.dtype} array to float32\")\n"
     ]
    },
    {
     "data": {
      "application/vnd.jupyter.widget-view+json": {
       "model_id": "5faff79586be45ecaded6c36a2d0ed55",
       "version_major": 2,
       "version_minor": 0
      },
      "text/plain": [
       "RFBOutputContext()"
      ]
     },
     "metadata": {},
     "output_type": "display_data"
    },
    {
     "data": {
      "application/vnd.jupyter.widget-view+json": {
       "model_id": "0f4ae6cc6296403aad1907672d15be72",
       "version_major": 2,
       "version_minor": 0
      },
      "text/plain": [
       "VBox(children=(JupyterOutputContext(children=(JupyterWgpuCanvas(css_width='650px'), IpywidgetToolBar(children=…"
      ]
     },
     "execution_count": 13,
     "metadata": {},
     "output_type": "execute_result"
    }
   ],
   "source": [
    "# to show the correlation and pnr images\n",
    "iw_corr_pnr = fpl.ImageWidget(\n",
    "    [corr, pnr], \n",
    "    names=[\"corr\", \"pnr\"],\n",
    "    grid_plot_kwargs={\"size\": (650, 300)},\n",
    "    cmap=\"turbo\",\n",
    ")\n",
    "\n",
    "# mcorr vids, we will display thresholded mcorr vids\n",
    "mcorr_vids = [mcorr_movie.astype(np.float32) for i in range(4)]\n",
    "\n",
    "# sync the threshold image widget with the corr-pnr plot\n",
    "threshold_grid_plot_kwargs = {\n",
    "    \"controllers\": [[iw_corr_pnr.gridplot[\"corr\"].controller]*2]*2,\n",
    "    \"size\": (650, 600)\n",
    "}\n",
    "\n",
    "iw_thres_movie = fpl.ImageWidget(\n",
    "    mcorr_vids, \n",
    "    names=[\"over corr threshold\", \"over pnr threshold\", \"under corr threshold\", \"under pnr threshold\"],\n",
    "    # sync this with the corr-pnr plot\n",
    "    grid_plot_kwargs=threshold_grid_plot_kwargs,\n",
    "    cmap=\"gnuplot2\"\n",
    ")\n",
    "\n",
    "# display threshold of the spatially filtered movie\n",
    "def spatial_filter(frame):\n",
    "    f = high_pass_filter_space(frame, (3, 3))\n",
    "    return f\n",
    "\n",
    "\n",
    "# threshold\n",
    "def threshold(frame, mask):\n",
    "    # optionally use spatial filter\n",
    "    t = spatial_filter(frame)\n",
    "    \n",
    "    t = t.copy()\n",
    "    \n",
    "    t[mask] = t.min()\n",
    "    \n",
    "    return t\n",
    "\n",
    "# Set the thresholded images using the vmin set from top subplots\n",
    "# dict of threshold lambda wrappers to set on ImageWidget\n",
    "# this sets the frame_apply for each subplot\n",
    "threshold_funcs = {\n",
    "    0: lambda frame: threshold(frame, corr < iw_corr_pnr.gridplot[\"corr\"].graphics[0].cmap.vmin),\n",
    "    1: lambda frame: threshold(frame, pnr < iw_corr_pnr.gridplot[\"pnr\"].graphics[0].cmap.vmin),\n",
    "    2: lambda frame: threshold(frame, corr > iw_corr_pnr.gridplot[\"corr\"].graphics[0].cmap.vmin),\n",
    "    3: lambda frame: threshold(frame, pnr > iw_corr_pnr.gridplot[\"pnr\"].graphics[0].cmap.vmin)\n",
    "}\n",
    "\n",
    "# set the dict of lambda wrappers\n",
    "iw_thres_movie.frame_apply = threshold_funcs\n",
    "\n",
    "# update threshold plots when the corr pnr sliders move\n",
    "def update_threshold_plots(*args):\n",
    "    iw_thres_movie.current_index = iw_thres_movie.current_index\n",
    "\n",
    "# this will get easier in the future\n",
    "iw_corr_pnr.gridplot[\"corr\"].docks[\"right\"][\"histogram_lut\"].linear_region.selection.add_event_handler(update_threshold_plots)\n",
    "iw_corr_pnr.gridplot[\"pnr\"].docks[\"right\"][\"histogram_lut\"].linear_region.selection.add_event_handler(update_threshold_plots)\n",
    "\n",
    "VBox([iw_corr_pnr.show(), iw_thres_movie.show()])"
   ]
  },
  {
   "cell_type": "code",
   "execution_count": 19,
   "id": "89c070bb-4ec1-4020-9ba0-b959a9945cc6",
   "metadata": {},
   "outputs": [],
   "source": [
    "import scipy.stats as ss\n",
    "z_corr = ss.zscore(corr,axis=0)\n",
    "z_pnr = ss.zscore(pnr,axis=0)\n",
    "z_struct = ss.zscore(struct_movie,axis=0)"
   ]
  },
  {
   "cell_type": "code",
   "execution_count": 23,
   "id": "92869d5f-c45d-4559-90e5-29fb6f70a5d6",
   "metadata": {
    "scrolled": true
   },
   "outputs": [
    {
     "data": {
      "application/vnd.jupyter.widget-view+json": {
       "model_id": "3cf6bbb8b013470f9353413085039ca0",
       "version_major": 2,
       "version_minor": 0
      },
      "text/plain": [
       "RFBOutputContext()"
      ]
     },
     "metadata": {},
     "output_type": "display_data"
    },
    {
     "data": {
      "application/vnd.jupyter.widget-view+json": {
       "model_id": "afc3ff0f50d94539a7a2d54aae3173fc",
       "version_major": 2,
       "version_minor": 0
      },
      "text/plain": [
       "RFBOutputContext()"
      ]
     },
     "metadata": {},
     "output_type": "display_data"
    },
    {
     "data": {
      "application/vnd.jupyter.widget-view+json": {
       "model_id": "83cec5ecf25d4334be03176451f0146b",
       "version_major": 2,
       "version_minor": 0
      },
      "text/plain": [
       "VBox(children=(JupyterOutputContext(children=(JupyterWgpuCanvas(css_width='650px'), IpywidgetToolBar(children=…"
      ]
     },
     "execution_count": 23,
     "metadata": {},
     "output_type": "execute_result"
    }
   ],
   "source": [
    "# to show the correlation and pnr images\n",
    "iw_corr_pnr = fpl.ImageWidget(\n",
    "    [corr, pnr], \n",
    "    names=[\"corr\", \"pnr\"],\n",
    "    grid_plot_kwargs={\"size\": (650, 300)},\n",
    "    cmap=\"turbo\",\n",
    ")\n",
    "\n",
    "# mcorr vids, we will display thresholded mcorr vids\n",
    "mcorr_vids = [mcorr_movie.astype(np.float32) for i in range(4)]\n",
    "\n",
    "# sync the threshold image widget with the corr-pnr plot\n",
    "threshold_grid_plot_kwargs = {\n",
    "    \"controllers\": [[iw_corr_pnr.gridplot[\"corr\"].controller]*2]*2,\n",
    "    \"size\": (650, 600)\n",
    "}\n",
    "\n",
    "iw_thres_movie = fpl.ImageWidget(\n",
    "    mcorr_vids, \n",
    "    names=[\"over corr threshold\", \"over pnr threshold\", \"under corr threshold\", \"under pnr threshold\"],\n",
    "    # sync this with the corr-pnr plot\n",
    "    grid_plot_kwargs=threshold_grid_plot_kwargs,\n",
    "    cmap=\"gnuplot2\"\n",
    ")\n",
    "\n",
    "# display threshold of the spatially filtered movie\n",
    "def spatial_filter(frame):\n",
    "    f = high_pass_filter_space(frame, (3, 3))\n",
    "    return f\n",
    "\n",
    "\n",
    "# threshold\n",
    "def threshold(frame, mask):\n",
    "    # optionally use spatial filter\n",
    "    t = spatial_filter(frame)\n",
    "    \n",
    "    t = t.copy()\n",
    "    \n",
    "    t[mask] = t.min()\n",
    "    \n",
    "    return t\n",
    "\n",
    "# Set the thresholded images using the vmin set from top subplots\n",
    "# dict of threshold lambda wrappers to set on ImageWidget\n",
    "# this sets the frame_apply for each subplot\n",
    "threshold_funcs = {\n",
    "    0: lambda frame: threshold(frame, corr < iw_corr_pnr.gridplot[\"corr\"].graphics[0].cmap.vmin),\n",
    "    1: lambda frame: threshold(frame, pnr < iw_corr_pnr.gridplot[\"pnr\"].graphics[0].cmap.vmin),\n",
    "    2: lambda frame: threshold(frame, corr > iw_corr_pnr.gridplot[\"corr\"].graphics[0].cmap.vmin),\n",
    "    3: lambda frame: threshold(frame, pnr > iw_corr_pnr.gridplot[\"pnr\"].graphics[0].cmap.vmin)\n",
    "}\n",
    "\n",
    "# set the dict of lambda wrappers\n",
    "iw_thres_movie.frame_apply = threshold_funcs\n",
    "\n",
    "# update threshold plots when the corr pnr sliders move\n",
    "def update_threshold_plots(*args):\n",
    "    iw_thres_movie.current_index = iw_thres_movie.current_index\n",
    "\n",
    "# this will get easier in the future\n",
    "iw_corr_pnr.gridplot[\"corr\"].docks[\"right\"][\"histogram_lut\"].linear_region.selection.add_event_handler(update_threshold_plots)\n",
    "iw_corr_pnr.gridplot[\"pnr\"].docks[\"right\"][\"histogram_lut\"].linear_region.selection.add_event_handler(update_threshold_plots)\n",
    "\n",
    "# add a column to overlay functional activity on structural video\n",
    "struct_rgba = np.zeros((512, 512, 4), dtype=np.float32)\n",
    "struct_rgba[:, :, 1] = struct_movie[0]\n",
    "struct_rgba[..., -1] = 0.5\n",
    "iw_corr_pnr.gridplot[\"corr\"].add_image(struct_rgba, name='struct')\n",
    "iw_corr_pnr.gridplot[\"corr\"]\n",
    "iw_corr_pnr.gridplot[\"corr\"][\"struct\"].data[..., -1] = .8\n",
    "\n",
    "struct_rgba = np.zeros((512, 512, 4), dtype=np.float32)\n",
    "struct_rgba[:, :, 0] = struct_movie[0] \n",
    "struct_rgba[..., -1] = 0.5\n",
    "iw_corr_pnr.gridplot[\"pnr\"].add_image(struct_rgba, name='struct')\n",
    "iw_corr_pnr.gridplot[\"pnr\"]\n",
    "iw_corr_pnr.gridplot[\"pnr\"][\"struct\"].data[..., -1] = .8\n",
    "\n",
    "#names=[\"corr\", \"pnr\"],\n",
    "\n",
    "# scale intensity of background\n",
    "VBox([iw_corr_pnr.show()])"
   ]
  },
  {
   "cell_type": "code",
   "execution_count": 149,
   "id": "a23d4528-9399-49ee-842d-4c908fd23fcf",
   "metadata": {},
   "outputs": [
    {
     "data": {
      "text/plain": [
       "(512, 512, 4)"
      ]
     },
     "execution_count": 149,
     "metadata": {},
     "output_type": "execute_result"
    }
   ],
   "source": [
    "struct_rgba.shape"
   ]
  },
  {
   "cell_type": "code",
   "execution_count": 134,
   "id": "2f83aad9-a603-45e8-8dde-e992973229d9",
   "metadata": {},
   "outputs": [
    {
     "data": {
      "text/plain": [
       "(560, 512, 512)"
      ]
     },
     "execution_count": 134,
     "metadata": {},
     "output_type": "execute_result"
    }
   ],
   "source": [
    "struct_movie.shape"
   ]
  },
  {
   "cell_type": "code",
   "execution_count": 136,
   "id": "77b69450-ee97-4c6e-a790-0b36ac94626f",
   "metadata": {},
   "outputs": [
    {
     "data": {
      "text/plain": [
       "(512, 512)"
      ]
     },
     "execution_count": 136,
     "metadata": {},
     "output_type": "execute_result"
    }
   ],
   "source": [
    "struct_movie[1,:,:].shape"
   ]
  },
  {
   "cell_type": "code",
   "execution_count": 138,
   "id": "835f9cc3-5523-4452-ae77-1a26570a0f7f",
   "metadata": {},
   "outputs": [
    {
     "data": {
      "text/plain": [
       "(512, 512)"
      ]
     },
     "execution_count": 138,
     "metadata": {},
     "output_type": "execute_result"
    }
   ],
   "source": [
    "corr.shape"
   ]
  },
  {
   "cell_type": "code",
   "execution_count": 140,
   "id": "54698726-c8c6-4f72-a117-3962e0210d55",
   "metadata": {},
   "outputs": [
    {
     "data": {
      "text/plain": [
       "1.0000126"
      ]
     },
     "execution_count": 140,
     "metadata": {},
     "output_type": "execute_result"
    }
   ],
   "source": [
    "np.min(corr)"
   ]
  },
  {
   "cell_type": "markdown",
   "id": "d66b40c7-72f6-40d2-97e4-29811d31e532",
   "metadata": {},
   "source": [
    "# corr and pnr values from the plot"
   ]
  },
  {
   "cell_type": "code",
   "execution_count": null,
   "id": "a3421b7c-b838-4435-b6f4-b8d9559eb5a1",
   "metadata": {},
   "outputs": [],
   "source": [
    "corr_pnr = {\n",
    "    'min_corr': iw_corr_pnr.gridplot[\"corr\"].graphics[0].cmap.vmin, # corr value from previous plot\n",
    "    'min_pnr': iw_corr_pnr.gridplot[\"pnr\"].graphics[0].cmap.vmin,  # PNR value from previous plot\n",
    "}\n",
    "corr_pnr"
   ]
  },
  {
   "cell_type": "code",
   "execution_count": null,
   "id": "257a7c96-c5ce-4f66-9a91-33c26fa8b1a7",
   "metadata": {},
   "outputs": [],
   "source": [
    "params_cnmfe =\\\n",
    "{\n",
    "    \"main\":\n",
    "    {\n",
    "        'method_init': 'corr_pnr',  # use this for 1 photon\n",
    "        'K': None,\n",
    "        'gSig': (gSig, gSig),\n",
    "        'gSiz': (4 * gSig + 1, 4 * gSig + 1),\n",
    "        'merge_thr': 0.7,\n",
    "        'p': 1,\n",
    "        'tsub': 2,\n",
    "        'ssub': 1,\n",
    "        'rf': 40,\n",
    "        'stride': 20,\n",
    "        'only_init': True,    # set it to True to run CNMF-E\n",
    "        'nb': 0,\n",
    "        'nb_patch': 0,\n",
    "        'method_deconvolution': 'oasis',       # could use 'cvxpy' alternatively\n",
    "        'low_rank_background': None,\n",
    "        'update_background_components': True,  # sometimes setting to False improve the results\n",
    "        'normalize_init': False,               # just leave as is\n",
    "        'center_psf': True,                    # leave as is for 1 photon\n",
    "        'ssub_B': 2,\n",
    "        'ring_size_factor': 1.4,\n",
    "        'del_duplicates': True,                # whether to remove duplicates from initialization\n",
    "        **corr_pnr # unpack corr_pnr vals into here\n",
    "    }\n",
    "}"
   ]
  },
  {
   "cell_type": "markdown",
   "id": "fe711552-fb1c-4f3d-8098-6967a1ca46cf",
   "metadata": {},
   "source": [
    "# Add a single cnmf item to the batch\n",
    "\n",
    "When you use `algo=\"cnmfe\"`, it basically forces the following parameters:\n",
    "```python\n",
    "\"method_init\": \"corr_pnr\",\n",
    "\"n_processes\": n_processes,\n",
    "\"only_init\": True,  # for 1p\n",
    "\"center_psf\": True,  # for 1p\n",
    "\"normalize_init\": False,  # for 1p\n",
    "```"
   ]
  },
  {
   "cell_type": "code",
   "execution_count": null,
   "id": "736afb50-7090-4433-bbb8-28b924da57d9",
   "metadata": {},
   "outputs": [],
   "source": [
    "df.caiman.add_item(\n",
    "    algo=\"cnmfe\",\n",
    "    input_movie_path=df.iloc[0],\n",
    "    params=params_cnmfe,\n",
    "    item_name=df.iloc[0][\"item_name\"]\n",
    ")\n",
    "\n",
    "df"
   ]
  },
  {
   "cell_type": "markdown",
   "id": "102e295a-5543-4ad3-aaa5-fb76e819950a",
   "metadata": {},
   "source": [
    "# Parameter search\n",
    "\n",
    "Just like with motion correction, we can use loops to add multiple parameter variants. This is useful to perform a parameter search to find the params that work best for your dataset. Here I will use `itertools.product` which is better than deeply nested loops."
   ]
  },
  {
   "cell_type": "code",
   "execution_count": null,
   "id": "c9910214-ca37-47c2-b309-76623113616b",
   "metadata": {},
   "outputs": [],
   "source": [
    "from itertools import product\n",
    "\n",
    "# variants of several parameters\n",
    "# you can make lists for as many params as you want\n",
    "K_variants = [None, 10]\n",
    "merge_thr_variants = [0.6, 0.8, 0.9, 0.98]\n",
    "\n",
    "# always use deepcopy like before\n",
    "new_params_cnmf = deepcopy(params_cnmfe)\n",
    "\n",
    "# create a parameter grid\n",
    "# product is a nice way to create all combinations of multiple iterables like lists\n",
    "parameter_grid = product(K_variants, merge_thr_variants)\n",
    "\n",
    "# a single for loop to go through all the various parameter combinations\n",
    "for K, merge_thr in parameter_grid:\n",
    "    # deep copy params dict just like before\n",
    "    new_params_cnmf = deepcopy(new_params_cnmf)\n",
    "    \n",
    "    # one set of parameter combinations\n",
    "    new_params_cnmf[\"main\"][\"K\"] = K\n",
    "    new_params_cnmf[\"main\"][\"merge_thr\"] = merge_thr\n",
    "    \n",
    "    # add param combination variant to batch\n",
    "    df.caiman.add_item(\n",
    "        algo=\"cnmfe\",\n",
    "        item_name=df.iloc[0][\"item_name\"],\n",
    "        input_movie_path=df.iloc[0],\n",
    "        params=new_params_cnmf\n",
    "    )"
   ]
  },
  {
   "cell_type": "markdown",
   "id": "162090e3-5298-4843-a4cb-108d3ad19631",
   "metadata": {},
   "source": [
    "See that there are a lot of new cnmf batch items"
   ]
  },
  {
   "cell_type": "code",
   "execution_count": null,
   "id": "93531399-5b80-4c76-ae28-c8156a84a1d6",
   "metadata": {},
   "outputs": [],
   "source": [
    "df"
   ]
  },
  {
   "cell_type": "markdown",
   "id": "aca2e87c-76ce-4fa3-93b4-146aad957aa9",
   "metadata": {},
   "source": [
    "# Param diffs\n",
    "\n",
    "The index numbers on the diffs correspond to the indices in the parent DataFrame above"
   ]
  },
  {
   "cell_type": "code",
   "execution_count": null,
   "id": "737f0066-ea1e-4974-8fb2-9186618c9e48",
   "metadata": {},
   "outputs": [],
   "source": [
    "df.caiman.get_params_diffs(algo=\"cnmfe\", item_name=df.iloc[1][\"item_name\"])"
   ]
  },
  {
   "cell_type": "markdown",
   "id": "4e26265c-5cb7-461f-8e89-5744e2f5e82d",
   "metadata": {},
   "source": [
    "# Run items"
   ]
  },
  {
   "cell_type": "code",
   "execution_count": null,
   "id": "5694187a-48e9-4769-82d3-afd46dd19a00",
   "metadata": {
    "tags": []
   },
   "outputs": [],
   "source": [
    "for i, row in df.iterrows():\n",
    "    if row[\"outputs\"] is not None: # item has already been run\n",
    "        continue # skip\n",
    "        \n",
    "    process = row.caiman.run()\n",
    "    \n",
    "    # on Windows you MUST reload the batch dataframe after every iteration because it uses the `local` backend.\n",
    "    # this is unnecessary on Linux & Mac\n",
    "    # \"DummyProcess\" is used for local backend so this is automatic\n",
    "    if process.__class__.__name__ == \"DummyProcess\":\n",
    "        df = df.caiman.reload_from_disk()"
   ]
  },
  {
   "cell_type": "markdown",
   "id": "c339a43e-a8bc-4f04-abb7-a31e226f7803",
   "metadata": {
    "pycharm": {
     "name": "#%% md\n"
    },
    "tags": []
   },
   "source": [
    "# We now have CNMFE outputs :D "
   ]
  },
  {
   "cell_type": "code",
   "execution_count": null,
   "id": "0bb66e97-513a-4012-861a-61ac77d9f4f4",
   "metadata": {},
   "outputs": [],
   "source": [
    "df = df.caiman.reload_from_disk()\n",
    "df"
   ]
  },
  {
   "cell_type": "markdown",
   "id": "aa5be63f-bc9b-4eb1-a8d7-96e228fbd536",
   "metadata": {},
   "source": [
    "# Visualize using `mesmerize-viz`"
   ]
  },
  {
   "cell_type": "code",
   "execution_count": null,
   "id": "2769136c-a5a8-467e-8e9b-df1170eccdb5",
   "metadata": {
    "tags": []
   },
   "outputs": [],
   "source": [
    "viz_cnmf = df.cnmf.viz(\n",
    "    image_data_options=[\"input\", \"rcm\"], # cnmfe does not support rcb and residuals yet\n",
    ")"
   ]
  },
  {
   "cell_type": "code",
   "execution_count": null,
   "id": "cac86a23-1431-4848-8ee9-4d91664a99b9",
   "metadata": {
    "tags": []
   },
   "outputs": [],
   "source": [
    "viz_cnmf.show(sidecar=True)"
   ]
  },
  {
   "cell_type": "markdown",
   "id": "5d36df25-2c1b-498b-9250-91b49fc3466a",
   "metadata": {},
   "source": [
    "# This rich visualization is still customizable!\n",
    "\n",
    "Public attributes:\n",
    "\n",
    "- `image_widget`: the `ImageWidget` in the visualization\n",
    "- `plot_temporal`: the temporal `Plot`\n",
    "- `plot_heatmap`: the heatmap `Plot`\n",
    "- `cnmf_obj`: The cnmf object currently being visualized. This object gets saved to disk when you click the \"Save Eval to disk\" button.\n",
    "- `component_index`: current component index, `int`\n",
    "\n",
    "A few public methods:\n",
    "- `show()` show the visualization\n",
    "- `set_component_index(index: int)` manually set the component index"
   ]
  },
  {
   "cell_type": "markdown",
   "id": "6566628e-1f56-4812-9fe9-f4d0ebd68ddc",
   "metadata": {},
   "source": [
    "# Set frame_apply functions to the image widget. Reset the vmin-vmax as necessary."
   ]
  },
  {
   "cell_type": "code",
   "execution_count": null,
   "id": "419753af-096f-43ed-8716-56546f73ecbb",
   "metadata": {
    "tags": []
   },
   "outputs": [],
   "source": [
    "viz_cnmf.image_widget"
   ]
  },
  {
   "cell_type": "code",
   "execution_count": null,
   "id": "d357462f-d35f-4bea-933d-c7b6123959d7",
   "metadata": {
    "tags": []
   },
   "outputs": [],
   "source": [
    "funcs = {\n",
    "    0: lambda frame: high_pass_filter_space(frame, (3, 3))\n",
    "}\n",
    "\n",
    "viz_cnmf.image_widget.frame_apply = funcs"
   ]
  },
  {
   "cell_type": "code",
   "execution_count": null,
   "id": "8190092a-50d0-4093-9dcc-61122580bdac",
   "metadata": {},
   "outputs": [],
   "source": [
    "viz_cnmf.image_widget.cmap = \"gray\""
   ]
  },
  {
   "cell_type": "code",
   "execution_count": null,
   "id": "c86a0ef4-3de3-4d4a-b9d1-279796ae9fc0",
   "metadata": {},
   "outputs": [],
   "source": []
  }
 ],
 "metadata": {
  "kernelspec": {
   "display_name": "Python 3 (ipykernel)",
   "language": "python",
   "name": "python3"
  },
  "language_info": {
   "codemirror_mode": {
    "name": "ipython",
    "version": 3
   },
   "file_extension": ".py",
   "mimetype": "text/x-python",
   "name": "python",
   "nbconvert_exporter": "python",
   "pygments_lexer": "ipython3",
   "version": "3.11.7"
  }
 },
 "nbformat": 4,
 "nbformat_minor": 5
}
