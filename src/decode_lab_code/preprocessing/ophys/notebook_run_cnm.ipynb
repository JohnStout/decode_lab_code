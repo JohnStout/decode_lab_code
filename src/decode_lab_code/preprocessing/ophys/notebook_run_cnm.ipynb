{
 "cells": [
  {
   "cell_type": "markdown",
   "metadata": {},
   "source": [
    "## This notebook is meant to facilitate the first stage of data preprocessing with caiman\n",
    "First, you will run this code, or if you want to speed things up, you can just run \"script_cnm\" in the terminal"
   ]
  },
  {
   "cell_type": "markdown",
   "metadata": {},
   "source": [
    "### Lets import our packages"
   ]
  },
  {
   "cell_type": "code",
   "execution_count": null,
   "metadata": {},
   "outputs": [],
   "source": [
    "# importing packages/modules\n",
    "from decode_lab_code.preprocessing.ophys.caiman_wrapper import caiman_preprocess\n",
    "\n",
    "import matplotlib.pyplot as plt\n",
    "\n",
    "import numpy as np\n",
    "\n",
    "import caiman as cm\n",
    "from caiman.source_extraction import cnmf\n",
    "from caiman.utils.utils import download_demo\n",
    "from caiman.utils.visualization import inspect_correlation_pnr, nb_inspect_correlation_pnr, display_animation\n",
    "from caiman.motion_correction import MotionCorrect\n",
    "from caiman.source_extraction.cnmf import params as params\n",
    "from caiman.utils.visualization import plot_contours, nb_view_patches, nb_plot_contour\n",
    "import cv2\n",
    "\n",
    "try:\n",
    "    cv2.setNumThreads(0)\n",
    "except:\n",
    "    pass\n",
    "import bokeh.plotting as bpl\n",
    "import holoviews as hv\n",
    "bpl.output_notebook()\n",
    "hv.notebook_extension('bokeh')\n",
    "import copy\n",
    "\n",
    "from matplotlib import animation"
   ]
  },
  {
   "cell_type": "markdown",
   "metadata": {},
   "source": [
    "### Define your folder and sampling rate"
   ]
  },
  {
   "cell_type": "code",
   "execution_count": null,
   "metadata": {},
   "outputs": [],
   "source": [
    "# assign a folder name for analysis\n",
    "folder_name = '/Users/js0403/ophysdata/Trevor_data/Neuron'\n",
    "file_name = '750K2_200ms_4XSum_video_RedGreen_depolar002_neuron'\n",
    "extension = '.tif'\n",
    "frame_rate = 10 # OG sampling rate was 30. The data has been temporally downsampled in script_downsample_data\n",
    "cp = caiman_preprocess(folder_name,file_name+extension,frame_rate,activate_cluster=False)"
   ]
  },
  {
   "cell_type": "markdown",
   "metadata": {},
   "source": [
    "### Adjust your neuron size and patch size"
   ]
  },
  {
   "cell_type": "code",
   "execution_count": null,
   "metadata": {},
   "outputs": [],
   "source": [
    "# neuron size in pixels\n",
    "neuron_size = 20\n",
    "\n",
    "# patches were 192 for trevors\n",
    "patch_size = 200; patch_overlap = int(patch_size/2)\n",
    "cp.test_patch_size(patch_size,patch_overlap)"
   ]
  }
 ],
 "metadata": {
  "kernelspec": {
   "display_name": "caiman",
   "language": "python",
   "name": "python3"
  },
  "language_info": {
   "name": "python",
   "version": "3.11.4"
  },
  "orig_nbformat": 4
 },
 "nbformat": 4,
 "nbformat_minor": 2
}
